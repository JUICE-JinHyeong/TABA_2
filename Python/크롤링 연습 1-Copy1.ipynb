{
 "cells": [
  {
   "cell_type": "code",
   "execution_count": 1,
   "id": "8eec3032",
   "metadata": {},
   "outputs": [],
   "source": [
    "from selenium import webdriver\n",
    "from selenium.webdriver.chrome.options import Options\n",
    "import subprocess\n",
    "import shutil\n",
    "from selenium.webdriver.common.by import By\n",
    "import pandas as pd\n",
    "import time\n",
    "\n",
    "from selenium.webdriver.support.ui import WebDriverWait\n",
    "from selenium.webdriver.support import expected_conditions as EC\n",
    "\n",
    "# 셀레니움 신버전 크롬 드라이버 패키지\n",
    "\n",
    "from selenium.webdriver.chrome.service import Service\n",
    "from webdriver_manager.chrome import ChromeDriverManager\n",
    "\n",
    "# 자기 google.exe 저장 주소 입력\n",
    "# C:/Program Files (x86)/Google/Chrome/Application/chrome.exe 이 부분만 바꾸면 된다.\n",
    "subprocess.Popen(r'C:/Program Files/Google/Chrome/Application/chrome.exe --remote-debugging-port=9222 --user-data-dir=\"C:\\chrometemp\"')\n",
    "\n",
    "options = webdriver.ChromeOptions()\n",
    "options.add_experimental_option(\"debuggerAddress\", \"127.0.0.1:9222\")\n",
    "\n",
    "# 구버전 수정 이제 따로 크롬 드라이버 경로를 지정할 필요가 없다.\n",
    "# driver = webdriver.Chrome('../diver/chromedriver.exe', chrome_options=options)\n",
    "\n",
    "driver = webdriver.Chrome(service=Service(ChromeDriverManager().install()))\n",
    "# driver.implicitly_wait(3)\n",
    "\n",
    "# url = 'https://www.naver.com'\n",
    "\n",
    "# driver.get(url)"
   ]
  },
  {
   "cell_type": "code",
   "execution_count": 5,
   "id": "88e0d35d",
   "metadata": {},
   "outputs": [
    {
     "data": {
      "text/plain": [
       "[<selenium.webdriver.remote.webelement.WebElement (session=\"16910d726ccb5d5f9afb986c8e1f99fe\", element=\"d35f62e2-e739-461f-85a1-c86d795f0a09\")>]"
      ]
     },
     "execution_count": 5,
     "metadata": {},
     "output_type": "execute_result"
    }
   ],
   "source": [
    "url = 'https://bioinformaticsandme.tistory.com/70'\n",
    "driver = webdriver.Chrome(service=Service(ChromeDriverManager().install()))\n",
    "driver.get(url)\n",
    "\n",
    "driver.find_elements(by=By.XPATH , value ='//*[@id=\"body\"]/div[2]/div[1]')"
   ]
  },
  {
   "cell_type": "code",
   "execution_count": 11,
   "id": "8530d5c3",
   "metadata": {},
   "outputs": [],
   "source": [
    "data = driver.find_elements(by=By.XPATH , value ='//*[@id=\"body\"]/div[2]/div[1]')[0].text.split('\\n')"
   ]
  },
  {
   "cell_type": "code",
   "execution_count": 13,
   "id": "b4a5e519",
   "metadata": {},
   "outputs": [
    {
     "name": "stdout",
     "output_type": "stream",
     "text": [
      "회귀 분석 (Regression analysis) Start.\n",
      "BioinformaticsAndMe\n",
      "\n",
      "\n",
      "\n",
      "\n",
      "1. 회귀분석 (Regression test) 이란?\n",
      "회귀분석은 독립변인이 종속변인에 영향을 미치는지 알아보고자 할 때 실시하는 분석방법.\n",
      "단순 선형 회귀분석은 독립변수 X(설명변수)에 대하여 종속변수 Y(반응변수)들 사이의 관계를 수학적 모형을 이용하여 규명하는 것.\n",
      "규명된 함수식을 이용하여 설명변수들의 변화로부터 종속변수의 변화를 예측하는 분석이다.\n",
      "\n",
      "#간단하게 '키(Height)에 따른 몸무게(Weight)' 를 예로 들면,\n",
      "Weight = a + b*Height 가 되며,\n",
      "결국 Height에 따라 Weight가 결정되므로, \n",
      "Height는 독립변수, Weight는 종속변수.\n",
      "\n",
      "\n",
      "\n",
      "\n",
      "2. 회귀분석 배경\n",
      "회귀(regression)의 사전적 의미는 'go back to an earlier and worse condition(옛날의 대표적인 상태로 돌아감)'을 의미한다.\n",
      "예를 들어, 남자의 평균 Height는 175cm 라 하자. 세대를 거듭할때마다, 높은 Height + 낮은 Height 사람들 혹은 보통 Height + 보통 Height 사람들이 다양하게 결혼하여 자녀를 낳을 것이다. 결국에는 남자들의 평균 Height는 175cm으로 회귀하려는 경향을 보일 것이다. \n",
      "\n",
      "회귀의 기본 원리는 다음과 같이 선형 회귀모델의 직선과 실제 값 사이의 차를 뜻하는 residual error를 최소화 시키는 것이다.\n",
      "위 예와 같이 적용한다면, X값에 따라 여러 Y값들이 나오겠지만, 결국에는 추론된 직선으로 회귀할 것이다.\n",
      "\n",
      "\n",
      "\n",
      "\n",
      "3. 회귀분석 통계 검정\n",
      "- 회귀분석에서의 통계검정은 1)만들어진 회귀모형이 유의한지 2)회귀계수들이 유의한지를 본다.\n",
      "A)유의한 예측모형인가?\n",
      "주어진 모든 변수들이 함께 어느 정도 예측변수의 변량을 설명(예측)하는가?\n",
      "결정계수 R2 의 크기에 대해 F분포로 결정\n",
      "B)어떤 예측변수가 유의한가?\n",
      "각 독립변수(X)의 회귀계수 (b)가 유의한가?\n",
      "t-검정을 사용\n",
      "\n",
      "#아래는 회귀분석에서 통계검정에 사용되는 최소제곱법(최소자승법, method of least squares estimation) 소개이다.\n",
      "\n",
      "\n",
      "\n",
      "#위 내용은 'KOCW 자료' 에서 발췌했으며, 상세한 내용은 아래를 참고\n",
      "http://contents.kocw.or.kr/KOCW/document/2015/dongguk/sonchangkyoon/6.pdf\n",
      "\n",
      "\n",
      "\n",
      "\n",
      "4. 회귀의 다양성\n",
      "일반적으로 회귀라고 할 때 보통의 최소제곱(Ordinary Least Square, OLS)에 의한 회귀를 말하지만 그 외에도 수 많은 회귀 방법이 있다.\n",
      "2005년에 Vito Ricci가 만든 목록을 보면 R에서 사용하는 회귀와 관련된 함수는 모두 205개이다.\n",
      "\n",
      "A) 단순선형 회귀분석(단변량회귀, Simple linear regression)\n",
      "단순선형 회귀는 종속변수와 독립변수 사이의 관계를 선형으로 설명한 것이다. 이 때 표준오차는 추정 값이며 신뢰구간은 정해지는 값이다.\n",
      "\n",
      "B) 다중선형 회귀분석(다변량 회귀 분석, Multi linear regression)\n",
      "종속적 결과변수가 2개 이상의 독립 변수에 의해 예측되는 회귀분석을 '다중선형회귀분석'이라고 부른다. 독립변수는 연속성이거나 범주형 모두 가능하다. \n",
      "\n",
      "C) 로지스틱 회귀분석(Logistic regression)\n",
      "직선형 회귀분석과 다중 회귀분석은 종속변수가 연속적이라는 가정하에 적용되는 반면에 로지스틱 회귀분석은 이분화된 항목일 경우에 사용한다. 따라서 이론적인 이항분포를 보인다. \n",
      " D) Cox 비례회귀분석(proportional Cox regression)\n",
      "Cox 비례회귀분석은 생존이나 그 외에도 시간이 관계된 사건들에 영향을 미치는 변수를 결정하기 위해 사용한다. 결과측정에 사용된 시간은 실제 생존시간이 아니며 위험비의 개념이 사용된다.\n",
      "\n",
      "\n",
      "\n",
      "\n",
      "\n",
      "\n",
      "회귀 분석 (Regression analysis) End.\n",
      "BioinformaticsAndMe\n"
     ]
    }
   ],
   "source": [
    "for i in data :\n",
    "    print(i)"
   ]
  },
  {
   "cell_type": "code",
   "execution_count": 42,
   "id": "46f7aea4",
   "metadata": {},
   "outputs": [],
   "source": [
    "data = driver.find_elements(by=By.XPATH , value ='//*[@id=\"rank_holder\"]/ul')[0].text"
   ]
  },
  {
   "cell_type": "code",
   "execution_count": 46,
   "id": "19368ba1",
   "metadata": {},
   "outputs": [
    {
     "data": {
      "text/plain": [
       "['조진웅(1편)',\n",
       " '흥행지수',\n",
       " '139,834',\n",
       " '대외비',\n",
       " '1',\n",
       " '이성민(1편)',\n",
       " '흥행지수',\n",
       " '93,222',\n",
       " '대외비',\n",
       " '2',\n",
       " '임영웅(1편)',\n",
       " '흥행지수',\n",
       " '91,700',\n",
       " '아임 히어로 더 파이널',\n",
       " '3',\n",
       " '김무열(3편)',\n",
       " '흥행지수',\n",
       " '46,625',\n",
       " '대외비',\n",
       " '정직한 후보2',\n",
       " '연평해전',\n",
       " '4',\n",
       " '유연석(1편)',\n",
       " '흥행지수',\n",
       " '46,496',\n",
       " '멍뭉이',\n",
       " '5',\n",
       " '안재홍(2편)',\n",
       " '흥행지수',\n",
       " '45,106',\n",
       " '리바운드',\n",
       " '소공녀',\n",
       " '6',\n",
       " '김다미(1편)',\n",
       " '흥행지수',\n",
       " '42,258',\n",
       " '소울메이트',\n",
       " '7']"
      ]
     },
     "execution_count": 46,
     "metadata": {},
     "output_type": "execute_result"
    }
   ],
   "source": [
    "data.split('\\n')"
   ]
  },
  {
   "cell_type": "code",
   "execution_count": 68,
   "id": "039baf3f",
   "metadata": {},
   "outputs": [
    {
     "data": {
      "text/plain": [
       "'조진웅(1편)\\n흥행지수\\n139,834\\n대외비\\n1'"
      ]
     },
     "execution_count": 68,
     "metadata": {},
     "output_type": "execute_result"
    }
   ],
   "source": [
    "driver.find_elements(by=By.XPATH , value ='//*[@id=\"rank_holder\"]/ul/li[1]')[0].text"
   ]
  },
  {
   "cell_type": "code",
   "execution_count": 82,
   "id": "facd077d",
   "metadata": {},
   "outputs": [
    {
     "name": "stdout",
     "output_type": "stream",
     "text": [
      "None\n"
     ]
    },
    {
     "data": {
      "text/plain": [
       "1"
      ]
     },
     "execution_count": 82,
     "metadata": {},
     "output_type": "execute_result"
    }
   ],
   "source": [
    "import re\n",
    "p = re.compile('[0-9]')\n",
    "m = p.match('조진웅(1편)')\n",
    "print(m)\n",
    "int(p.findall('조진웅(1편)')[0])"
   ]
  },
  {
   "cell_type": "code",
   "execution_count": 130,
   "id": "2d655f38",
   "metadata": {
    "scrolled": true
   },
   "outputs": [
    {
     "name": "stdout",
     "output_type": "stream",
     "text": [
      "조진웅(1편)\n",
      "흥행지수\n",
      "139,834\n",
      "대외비\n",
      "1\n",
      "1\n",
      "\n",
      "이성민(1편)\n",
      "흥행지수\n",
      "93,222\n",
      "대외비\n",
      "2\n",
      "1\n",
      "\n",
      "임영웅(1편)\n",
      "흥행지수\n",
      "91,700\n",
      "아임 히어로 더 파이널\n",
      "3\n",
      "1\n",
      "\n",
      "김무열(3편)\n",
      "흥행지수\n",
      "46,625\n",
      "대외비\n",
      "정직한 후보2\n",
      "연평해전\n",
      "4\n",
      "3\n",
      "\n",
      "유연석(1편)\n",
      "흥행지수\n",
      "46,496\n",
      "멍뭉이\n",
      "5\n",
      "1\n",
      "\n",
      "안재홍(2편)\n",
      "흥행지수\n",
      "45,106\n",
      "리바운드\n",
      "소공녀\n",
      "6\n",
      "2\n",
      "\n"
     ]
    }
   ],
   "source": [
    "import re\n",
    "p = re.compile('[0-9]')\n",
    "name = []\n",
    "pup = []\n",
    "movie = []\n",
    "for i in range(1,7) :\n",
    "    print(driver.find_elements(by=By.XPATH , value =f'//*[@id=\"rank_holder\"]/ul/li[{i}]')[0].text)\n",
    "    data = driver.find_elements(by=By.XPATH , value =f'//*[@id=\"rank_holder\"]/ul/li[{i}]')[0].text\n",
    "    print(int(p.findall(data.split('\\n')[0])[0]))\n",
    "    sp = data.split('\\n')\n",
    "    num = int(p.findall(data.split('\\n')[0])[0])\n",
    "    \n",
    "    name.append(sp[0].split('(')[0])\n",
    "    pup.append(sp[2])\n",
    "    \n",
    "    if num >1 :\n",
    "        for x in range(num-1) :\n",
    "            sp[3] = sp[3] + ' , ' + sp[x+4]\n",
    "        movie.append(sp[3])\n",
    "    else :\n",
    "        movie.append(sp[3])\n",
    "            \n",
    "    print()"
   ]
  },
  {
   "cell_type": "code",
   "execution_count": 129,
   "id": "3fc67252",
   "metadata": {},
   "outputs": [
    {
     "data": {
      "text/plain": [
       "'조진웅'"
      ]
     },
     "execution_count": 129,
     "metadata": {},
     "output_type": "execute_result"
    }
   ],
   "source": [
    "d = '조진웅(1편)'\n",
    "d.split('(')[0]"
   ]
  },
  {
   "cell_type": "code",
   "execution_count": 112,
   "id": "3f8a685d",
   "metadata": {},
   "outputs": [
    {
     "data": {
      "text/plain": [
       "['대외비', '대외비', '아임 히어로 더 파이널', '대외비 , 정직한 후보2 , 연평해전', '멍뭉이', '리바운드 , 소공녀']"
      ]
     },
     "execution_count": 112,
     "metadata": {},
     "output_type": "execute_result"
    }
   ],
   "source": [
    "movie"
   ]
  },
  {
   "cell_type": "code",
   "execution_count": 131,
   "id": "d1463a8a",
   "metadata": {},
   "outputs": [
    {
     "data": {
      "text/plain": [
       "['조진웅', '이성민', '임영웅', '김무열', '유연석', '안재홍']"
      ]
     },
     "execution_count": 131,
     "metadata": {},
     "output_type": "execute_result"
    }
   ],
   "source": [
    "name"
   ]
  },
  {
   "cell_type": "code",
   "execution_count": 116,
   "id": "a6838ea9",
   "metadata": {},
   "outputs": [
    {
     "data": {
      "text/plain": [
       "['139,834', '93,222', '91,700', '46,625', '46,496', '45,106']"
      ]
     },
     "execution_count": 116,
     "metadata": {},
     "output_type": "execute_result"
    }
   ],
   "source": [
    "pup"
   ]
  },
  {
   "cell_type": "code",
   "execution_count": 125,
   "id": "4089eb57",
   "metadata": {},
   "outputs": [
    {
     "data": {
      "text/plain": [
       "{'배우': ['조진웅', '이성민', '임영웅', '김무열', '유연석', '안재홍'],\n",
       " '흥행지수': ['139,834', '93,222', '91,700', '46,625', '46,496', '45,106'],\n",
       " '영화': ['대외비',\n",
       "  '대외비',\n",
       "  '아임 히어로 더 파이널',\n",
       "  '대외비 , 정직한 후보2 , 연평해전',\n",
       "  '멍뭉이',\n",
       "  '리바운드 , 소공녀']}"
      ]
     },
     "execution_count": 125,
     "metadata": {},
     "output_type": "execute_result"
    }
   ],
   "source": [
    "dict = {'배우' : name , '흥행지수' : pup , '영화' : movie}\n",
    "dict"
   ]
  },
  {
   "cell_type": "code",
   "execution_count": 132,
   "id": "dc215a0c",
   "metadata": {},
   "outputs": [
    {
     "data": {
      "text/html": [
       "<div>\n",
       "<style scoped>\n",
       "    .dataframe tbody tr th:only-of-type {\n",
       "        vertical-align: middle;\n",
       "    }\n",
       "\n",
       "    .dataframe tbody tr th {\n",
       "        vertical-align: top;\n",
       "    }\n",
       "\n",
       "    .dataframe thead th {\n",
       "        text-align: right;\n",
       "    }\n",
       "</style>\n",
       "<table border=\"1\" class=\"dataframe\">\n",
       "  <thead>\n",
       "    <tr style=\"text-align: right;\">\n",
       "      <th></th>\n",
       "      <th>배우</th>\n",
       "      <th>흥행지수</th>\n",
       "      <th>영화</th>\n",
       "    </tr>\n",
       "  </thead>\n",
       "  <tbody>\n",
       "    <tr>\n",
       "      <th>1</th>\n",
       "      <td>조진웅</td>\n",
       "      <td>139,834</td>\n",
       "      <td>대외비</td>\n",
       "    </tr>\n",
       "    <tr>\n",
       "      <th>2</th>\n",
       "      <td>이성민</td>\n",
       "      <td>93,222</td>\n",
       "      <td>대외비</td>\n",
       "    </tr>\n",
       "    <tr>\n",
       "      <th>3</th>\n",
       "      <td>임영웅</td>\n",
       "      <td>91,700</td>\n",
       "      <td>아임 히어로 더 파이널</td>\n",
       "    </tr>\n",
       "    <tr>\n",
       "      <th>4</th>\n",
       "      <td>김무열</td>\n",
       "      <td>46,625</td>\n",
       "      <td>대외비 , 정직한 후보2 , 연평해전</td>\n",
       "    </tr>\n",
       "    <tr>\n",
       "      <th>5</th>\n",
       "      <td>유연석</td>\n",
       "      <td>46,496</td>\n",
       "      <td>멍뭉이</td>\n",
       "    </tr>\n",
       "    <tr>\n",
       "      <th>6</th>\n",
       "      <td>안재홍</td>\n",
       "      <td>45,106</td>\n",
       "      <td>리바운드 , 소공녀</td>\n",
       "    </tr>\n",
       "  </tbody>\n",
       "</table>\n",
       "</div>"
      ],
      "text/plain": [
       "    배우     흥행지수                    영화\n",
       "1  조진웅  139,834                   대외비\n",
       "2  이성민   93,222                   대외비\n",
       "3  임영웅   91,700          아임 히어로 더 파이널\n",
       "4  김무열   46,625  대외비 , 정직한 후보2 , 연평해전\n",
       "5  유연석   46,496                   멍뭉이\n",
       "6  안재홍   45,106            리바운드 , 소공녀"
      ]
     },
     "execution_count": 132,
     "metadata": {},
     "output_type": "execute_result"
    }
   ],
   "source": [
    "pd.DataFrame(dict , index = range(1,7))"
   ]
  },
  {
   "cell_type": "code",
   "execution_count": 101,
   "id": "da45f919",
   "metadata": {},
   "outputs": [
    {
     "data": {
      "text/plain": [
       "[1, 2, 3, 1, 2, 3, 4]"
      ]
     },
     "execution_count": 101,
     "metadata": {},
     "output_type": "execute_result"
    }
   ],
   "source": [
    "lst = [1,2,3]\n",
    "lst2 = [1,2,3,4]\n",
    "\n",
    "lst.append(lst2)\n",
    "lst\n",
    "\n",
    "lst = [1,2,3]\n",
    "lst2 = [1,2,3,4]\n",
    "\n",
    "lst.extend(lst2)\n",
    "lst"
   ]
  },
  {
   "cell_type": "code",
   "execution_count": 133,
   "id": "c9b3e885",
   "metadata": {},
   "outputs": [
    {
     "data": {
      "text/html": [
       "<div>\n",
       "<style scoped>\n",
       "    .dataframe tbody tr th:only-of-type {\n",
       "        vertical-align: middle;\n",
       "    }\n",
       "\n",
       "    .dataframe tbody tr th {\n",
       "        vertical-align: top;\n",
       "    }\n",
       "\n",
       "    .dataframe thead th {\n",
       "        text-align: right;\n",
       "    }\n",
       "</style>\n",
       "<table border=\"1\" class=\"dataframe\">\n",
       "  <thead>\n",
       "    <tr style=\"text-align: right;\">\n",
       "      <th></th>\n",
       "      <th>he</th>\n",
       "    </tr>\n",
       "  </thead>\n",
       "  <tbody>\n",
       "    <tr>\n",
       "      <th>0</th>\n",
       "      <td>1</td>\n",
       "    </tr>\n",
       "    <tr>\n",
       "      <th>1</th>\n",
       "      <td>2</td>\n",
       "    </tr>\n",
       "    <tr>\n",
       "      <th>2</th>\n",
       "      <td>3</td>\n",
       "    </tr>\n",
       "  </tbody>\n",
       "</table>\n",
       "</div>"
      ],
      "text/plain": [
       "   he\n",
       "0   1\n",
       "1   2\n",
       "2   3"
      ]
     },
     "execution_count": 133,
     "metadata": {},
     "output_type": "execute_result"
    }
   ],
   "source": [
    "pd.DataFrame(data = [1,2,3] , columns = ['he'] , index = [0,1,2])"
   ]
  },
  {
   "cell_type": "code",
   "execution_count": 146,
   "id": "5b5b0d7f",
   "metadata": {},
   "outputs": [],
   "source": [
    "pc1 = driver.find_elements(by=By.XPATH , value = '//*[@id=\"rank_holder\"]/ul/li[4]/ul[2]')[0].text"
   ]
  },
  {
   "cell_type": "code",
   "execution_count": 150,
   "id": "25e6b34e",
   "metadata": {},
   "outputs": [
    {
     "data": {
      "text/plain": [
       "'대외비, 정직한 후보2, 연평해전'"
      ]
     },
     "execution_count": 150,
     "metadata": {},
     "output_type": "execute_result"
    }
   ],
   "source": [
    "pc1.replace('\\n' , ', ')"
   ]
  }
 ],
 "metadata": {
  "kernelspec": {
   "display_name": "Python 3 (ipykernel)",
   "language": "python",
   "name": "python3"
  },
  "language_info": {
   "codemirror_mode": {
    "name": "ipython",
    "version": 3
   },
   "file_extension": ".py",
   "mimetype": "text/x-python",
   "name": "python",
   "nbconvert_exporter": "python",
   "pygments_lexer": "ipython3",
   "version": "3.10.9"
  }
 },
 "nbformat": 4,
 "nbformat_minor": 5
}
