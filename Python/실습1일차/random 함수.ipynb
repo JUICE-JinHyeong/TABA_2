{
 "cells": [
  {
   "cell_type": "code",
   "execution_count": 12,
   "id": "193992d8",
   "metadata": {},
   "outputs": [
    {
     "data": {
      "text/plain": [
       "['c', 'a', 'b']"
      ]
     },
     "execution_count": 12,
     "metadata": {},
     "output_type": "execute_result"
    }
   ],
   "source": [
    "import numpy as np\n",
    "import random \n",
    "\n",
    "# random() 0 ~ 1(미만) 아무 숫자 반환\n",
    "random.random()\n",
    "\n",
    "# randrange(a,b)  a ~ b 사이의 난수\n",
    "random.randrange(1,7)\n",
    "\n",
    "# shuffle() 시퀀스 섞기\n",
    "abc = ['a','b','c']\n",
    "random.shuffle(abc)\n",
    "abc\n",
    "\n",
    "# choice() 아무 원소 하나 뽑기\n",
    "abc = ['a','b','c']\n",
    "random.choice(abc)\n",
    "\n",
    "# uniform() 2개의 숫자 사이의 랜덤 실수 반환\n",
    "random.uniform(1,10)\n",
    "\n",
    "# randint() 2개의 숫자 사이의 랜덤 정수 반환\n",
    "random.randint(1,5)\n",
    "\n",
    "# sample(list , num) 랜덤하게 여러 개의 원소를 선택\n",
    "random.sample(abc , 3)\n",
    "\n"
   ]
  },
  {
   "cell_type": "code",
   "execution_count": null,
   "id": "caf4dee5",
   "metadata": {},
   "outputs": [],
   "source": []
  }
 ],
 "metadata": {
  "kernelspec": {
   "display_name": "Python 3 (ipykernel)",
   "language": "python",
   "name": "python3"
  },
  "language_info": {
   "codemirror_mode": {
    "name": "ipython",
    "version": 3
   },
   "file_extension": ".py",
   "mimetype": "text/x-python",
   "name": "python",
   "nbconvert_exporter": "python",
   "pygments_lexer": "ipython3",
   "version": "3.10.9"
  }
 },
 "nbformat": 4,
 "nbformat_minor": 5
}
