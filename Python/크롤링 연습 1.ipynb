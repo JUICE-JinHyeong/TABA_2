{
 "cells": [
  {
   "cell_type": "code",
   "execution_count": 31,
   "id": "8eec3032",
   "metadata": {},
   "outputs": [],
   "source": [
    "from selenium import webdriver\n",
    "from selenium.webdriver.chrome.options import Options\n",
    "import subprocess\n",
    "import shutil\n",
    "from selenium.webdriver.common.by import By\n",
    "import pandas as pd\n",
    "import time\n",
    "\n",
    "from selenium.webdriver.support.ui import WebDriverWait\n",
    "from selenium.webdriver.support import expected_conditions as EC\n",
    "\n",
    "# 셀레니움 신버전 크롬 드라이버 패키지\n",
    "\n",
    "from selenium.webdriver.chrome.service import Service\n",
    "from webdriver_manager.chrome import ChromeDriverManager\n",
    "\n",
    "# 자기 google.exe 저장 주소 입력\n",
    "# C:/Program Files (x86)/Google/Chrome/Application/chrome.exe 이 부분만 바꾸면 된다.\n",
    "subprocess.Popen(r'C:/Program Files/Google/Chrome/Application/chrome.exe --remote-debugging-port=9222 --user-data-dir=\"C:\\chrometemp\"')\n",
    "\n",
    "options = webdriver.ChromeOptions()\n",
    "options.add_experimental_option(\"debuggerAddress\", \"127.0.0.1:9222\")\n",
    "\n",
    "# 구버전 수정 이제 따로 크롬 드라이버 경로를 지정할 필요가 없다.\n",
    "# driver = webdriver.Chrome('../diver/chromedriver.exe', chrome_options=options)\n",
    "\n",
    "driver = webdriver.Chrome(service=Service(ChromeDriverManager().install()))\n",
    "# driver.implicitly_wait(3)\n",
    "\n",
    "# 링티 제로\n",
    "url = 'https://www.coupang.com/vp/products/5688038203?itemId=9412000674&isAddedCart='\n",
    "# 815\n",
    "url = 'https://www.coupang.com/vp/products/5109971962?itemId=6971621377&isAddedCart='\n",
    "# 부르르 제로 콜라\n",
    "url = 'https://www.coupang.com/vp/products/2358334857?itemId=4093099810&vendorItemId=72077082112&isAddedCart='\n",
    "# test data\n",
    "url = 'https://www.coupang.com/vp/products/6778883011?vendorItemId=83142028803&sourceType=HOME_GW_PROMOTION&searchId=feed-9d07ae1c003e479c84b9382e8fec5ae7-gw_promotion&isAddedCart='\n",
    "\n",
    "\n",
    "url = 'https://www.naver.com'\n",
    "\n",
    "driver.get(url)"
   ]
  },
  {
   "cell_type": "code",
   "execution_count": 35,
   "id": "88e0d35d",
   "metadata": {},
   "outputs": [
    {
     "data": {
      "text/plain": [
       "[<selenium.webdriver.remote.webelement.WebElement (session=\"961604a34c9da8dd263d27e8f950af66\", element=\"ff15e0e3-0e5d-4e31-8d65-79cb9130c3ba\")>]"
      ]
     },
     "execution_count": 35,
     "metadata": {},
     "output_type": "execute_result"
    }
   ],
   "source": [
    "url = 'http://www.cine21.com/rank/person'\n",
    "driver = webdriver.Chrome(service=Service(ChromeDriverManager().install()))\n",
    "driver.get(url)\n",
    "\n",
    "driver.find_elements(by=By.XPATH , value ='//*[@id=\"rank_holder\"]/ul')"
   ]
  },
  {
   "cell_type": "code",
   "execution_count": 42,
   "id": "46f7aea4",
   "metadata": {},
   "outputs": [],
   "source": [
    "data = driver.find_elements(by=By.XPATH , value ='//*[@id=\"rank_holder\"]/ul')[0].text"
   ]
  },
  {
   "cell_type": "code",
   "execution_count": 46,
   "id": "19368ba1",
   "metadata": {},
   "outputs": [
    {
     "data": {
      "text/plain": [
       "['조진웅(1편)',\n",
       " '흥행지수',\n",
       " '139,834',\n",
       " '대외비',\n",
       " '1',\n",
       " '이성민(1편)',\n",
       " '흥행지수',\n",
       " '93,222',\n",
       " '대외비',\n",
       " '2',\n",
       " '임영웅(1편)',\n",
       " '흥행지수',\n",
       " '91,700',\n",
       " '아임 히어로 더 파이널',\n",
       " '3',\n",
       " '김무열(3편)',\n",
       " '흥행지수',\n",
       " '46,625',\n",
       " '대외비',\n",
       " '정직한 후보2',\n",
       " '연평해전',\n",
       " '4',\n",
       " '유연석(1편)',\n",
       " '흥행지수',\n",
       " '46,496',\n",
       " '멍뭉이',\n",
       " '5',\n",
       " '안재홍(2편)',\n",
       " '흥행지수',\n",
       " '45,106',\n",
       " '리바운드',\n",
       " '소공녀',\n",
       " '6',\n",
       " '김다미(1편)',\n",
       " '흥행지수',\n",
       " '42,258',\n",
       " '소울메이트',\n",
       " '7']"
      ]
     },
     "execution_count": 46,
     "metadata": {},
     "output_type": "execute_result"
    }
   ],
   "source": [
    "data.split('\\n')"
   ]
  },
  {
   "cell_type": "code",
   "execution_count": 68,
   "id": "039baf3f",
   "metadata": {},
   "outputs": [
    {
     "data": {
      "text/plain": [
       "'조진웅(1편)\\n흥행지수\\n139,834\\n대외비\\n1'"
      ]
     },
     "execution_count": 68,
     "metadata": {},
     "output_type": "execute_result"
    }
   ],
   "source": [
    "driver.find_elements(by=By.XPATH , value ='//*[@id=\"rank_holder\"]/ul/li[1]')[0].text"
   ]
  },
  {
   "cell_type": "code",
   "execution_count": 82,
   "id": "facd077d",
   "metadata": {},
   "outputs": [
    {
     "name": "stdout",
     "output_type": "stream",
     "text": [
      "None\n"
     ]
    },
    {
     "data": {
      "text/plain": [
       "1"
      ]
     },
     "execution_count": 82,
     "metadata": {},
     "output_type": "execute_result"
    }
   ],
   "source": [
    "import re\n",
    "p = re.compile('[0-9]')\n",
    "m = p.match('조진웅(1편)')\n",
    "print(m)\n",
    "int(p.findall('조진웅(1편)')[0])"
   ]
  },
  {
   "cell_type": "code",
   "execution_count": 130,
   "id": "2d655f38",
   "metadata": {
    "scrolled": true
   },
   "outputs": [
    {
     "name": "stdout",
     "output_type": "stream",
     "text": [
      "조진웅(1편)\n",
      "흥행지수\n",
      "139,834\n",
      "대외비\n",
      "1\n",
      "1\n",
      "\n",
      "이성민(1편)\n",
      "흥행지수\n",
      "93,222\n",
      "대외비\n",
      "2\n",
      "1\n",
      "\n",
      "임영웅(1편)\n",
      "흥행지수\n",
      "91,700\n",
      "아임 히어로 더 파이널\n",
      "3\n",
      "1\n",
      "\n",
      "김무열(3편)\n",
      "흥행지수\n",
      "46,625\n",
      "대외비\n",
      "정직한 후보2\n",
      "연평해전\n",
      "4\n",
      "3\n",
      "\n",
      "유연석(1편)\n",
      "흥행지수\n",
      "46,496\n",
      "멍뭉이\n",
      "5\n",
      "1\n",
      "\n",
      "안재홍(2편)\n",
      "흥행지수\n",
      "45,106\n",
      "리바운드\n",
      "소공녀\n",
      "6\n",
      "2\n",
      "\n"
     ]
    }
   ],
   "source": [
    "import re\n",
    "p = re.compile('[0-9]')\n",
    "name = []\n",
    "pup = []\n",
    "movie = []\n",
    "for i in range(1,7) :\n",
    "    print(driver.find_elements(by=By.XPATH , value =f'//*[@id=\"rank_holder\"]/ul/li[{i}]')[0].text)\n",
    "    data = driver.find_elements(by=By.XPATH , value =f'//*[@id=\"rank_holder\"]/ul/li[{i}]')[0].text\n",
    "    print(int(p.findall(data.split('\\n')[0])[0]))\n",
    "    sp = data.split('\\n')\n",
    "    num = int(p.findall(data.split('\\n')[0])[0])\n",
    "    \n",
    "    name.append(sp[0].split('(')[0])\n",
    "    pup.append(sp[2])\n",
    "    \n",
    "    if num >1 :\n",
    "        for x in range(num-1) :\n",
    "            sp[3] = sp[3] + ' , ' + sp[x+4]\n",
    "        movie.append(sp[3])\n",
    "    else :\n",
    "        movie.append(sp[3])\n",
    "            \n",
    "    print()"
   ]
  },
  {
   "cell_type": "code",
   "execution_count": 129,
   "id": "3fc67252",
   "metadata": {},
   "outputs": [
    {
     "data": {
      "text/plain": [
       "'조진웅'"
      ]
     },
     "execution_count": 129,
     "metadata": {},
     "output_type": "execute_result"
    }
   ],
   "source": [
    "d = '조진웅(1편)'\n",
    "d.split('(')[0]"
   ]
  },
  {
   "cell_type": "code",
   "execution_count": 112,
   "id": "3f8a685d",
   "metadata": {},
   "outputs": [
    {
     "data": {
      "text/plain": [
       "['대외비', '대외비', '아임 히어로 더 파이널', '대외비 , 정직한 후보2 , 연평해전', '멍뭉이', '리바운드 , 소공녀']"
      ]
     },
     "execution_count": 112,
     "metadata": {},
     "output_type": "execute_result"
    }
   ],
   "source": [
    "movie"
   ]
  },
  {
   "cell_type": "code",
   "execution_count": 131,
   "id": "d1463a8a",
   "metadata": {},
   "outputs": [
    {
     "data": {
      "text/plain": [
       "['조진웅', '이성민', '임영웅', '김무열', '유연석', '안재홍']"
      ]
     },
     "execution_count": 131,
     "metadata": {},
     "output_type": "execute_result"
    }
   ],
   "source": [
    "name"
   ]
  },
  {
   "cell_type": "code",
   "execution_count": 116,
   "id": "a6838ea9",
   "metadata": {},
   "outputs": [
    {
     "data": {
      "text/plain": [
       "['139,834', '93,222', '91,700', '46,625', '46,496', '45,106']"
      ]
     },
     "execution_count": 116,
     "metadata": {},
     "output_type": "execute_result"
    }
   ],
   "source": [
    "pup"
   ]
  },
  {
   "cell_type": "code",
   "execution_count": 125,
   "id": "4089eb57",
   "metadata": {},
   "outputs": [
    {
     "data": {
      "text/plain": [
       "{'배우': ['조진웅', '이성민', '임영웅', '김무열', '유연석', '안재홍'],\n",
       " '흥행지수': ['139,834', '93,222', '91,700', '46,625', '46,496', '45,106'],\n",
       " '영화': ['대외비',\n",
       "  '대외비',\n",
       "  '아임 히어로 더 파이널',\n",
       "  '대외비 , 정직한 후보2 , 연평해전',\n",
       "  '멍뭉이',\n",
       "  '리바운드 , 소공녀']}"
      ]
     },
     "execution_count": 125,
     "metadata": {},
     "output_type": "execute_result"
    }
   ],
   "source": [
    "dict = {'배우' : name , '흥행지수' : pup , '영화' : movie}\n",
    "dict"
   ]
  },
  {
   "cell_type": "code",
   "execution_count": 132,
   "id": "dc215a0c",
   "metadata": {},
   "outputs": [
    {
     "data": {
      "text/html": [
       "<div>\n",
       "<style scoped>\n",
       "    .dataframe tbody tr th:only-of-type {\n",
       "        vertical-align: middle;\n",
       "    }\n",
       "\n",
       "    .dataframe tbody tr th {\n",
       "        vertical-align: top;\n",
       "    }\n",
       "\n",
       "    .dataframe thead th {\n",
       "        text-align: right;\n",
       "    }\n",
       "</style>\n",
       "<table border=\"1\" class=\"dataframe\">\n",
       "  <thead>\n",
       "    <tr style=\"text-align: right;\">\n",
       "      <th></th>\n",
       "      <th>배우</th>\n",
       "      <th>흥행지수</th>\n",
       "      <th>영화</th>\n",
       "    </tr>\n",
       "  </thead>\n",
       "  <tbody>\n",
       "    <tr>\n",
       "      <th>1</th>\n",
       "      <td>조진웅</td>\n",
       "      <td>139,834</td>\n",
       "      <td>대외비</td>\n",
       "    </tr>\n",
       "    <tr>\n",
       "      <th>2</th>\n",
       "      <td>이성민</td>\n",
       "      <td>93,222</td>\n",
       "      <td>대외비</td>\n",
       "    </tr>\n",
       "    <tr>\n",
       "      <th>3</th>\n",
       "      <td>임영웅</td>\n",
       "      <td>91,700</td>\n",
       "      <td>아임 히어로 더 파이널</td>\n",
       "    </tr>\n",
       "    <tr>\n",
       "      <th>4</th>\n",
       "      <td>김무열</td>\n",
       "      <td>46,625</td>\n",
       "      <td>대외비 , 정직한 후보2 , 연평해전</td>\n",
       "    </tr>\n",
       "    <tr>\n",
       "      <th>5</th>\n",
       "      <td>유연석</td>\n",
       "      <td>46,496</td>\n",
       "      <td>멍뭉이</td>\n",
       "    </tr>\n",
       "    <tr>\n",
       "      <th>6</th>\n",
       "      <td>안재홍</td>\n",
       "      <td>45,106</td>\n",
       "      <td>리바운드 , 소공녀</td>\n",
       "    </tr>\n",
       "  </tbody>\n",
       "</table>\n",
       "</div>"
      ],
      "text/plain": [
       "    배우     흥행지수                    영화\n",
       "1  조진웅  139,834                   대외비\n",
       "2  이성민   93,222                   대외비\n",
       "3  임영웅   91,700          아임 히어로 더 파이널\n",
       "4  김무열   46,625  대외비 , 정직한 후보2 , 연평해전\n",
       "5  유연석   46,496                   멍뭉이\n",
       "6  안재홍   45,106            리바운드 , 소공녀"
      ]
     },
     "execution_count": 132,
     "metadata": {},
     "output_type": "execute_result"
    }
   ],
   "source": [
    "pd.DataFrame(dict , index = range(1,7))"
   ]
  },
  {
   "cell_type": "code",
   "execution_count": 101,
   "id": "da45f919",
   "metadata": {},
   "outputs": [
    {
     "data": {
      "text/plain": [
       "[1, 2, 3, 1, 2, 3, 4]"
      ]
     },
     "execution_count": 101,
     "metadata": {},
     "output_type": "execute_result"
    }
   ],
   "source": [
    "lst = [1,2,3]\n",
    "lst2 = [1,2,3,4]\n",
    "\n",
    "lst.append(lst2)\n",
    "lst\n",
    "\n",
    "lst = [1,2,3]\n",
    "lst2 = [1,2,3,4]\n",
    "\n",
    "lst.extend(lst2)\n",
    "lst"
   ]
  },
  {
   "cell_type": "code",
   "execution_count": 133,
   "id": "c9b3e885",
   "metadata": {},
   "outputs": [
    {
     "data": {
      "text/html": [
       "<div>\n",
       "<style scoped>\n",
       "    .dataframe tbody tr th:only-of-type {\n",
       "        vertical-align: middle;\n",
       "    }\n",
       "\n",
       "    .dataframe tbody tr th {\n",
       "        vertical-align: top;\n",
       "    }\n",
       "\n",
       "    .dataframe thead th {\n",
       "        text-align: right;\n",
       "    }\n",
       "</style>\n",
       "<table border=\"1\" class=\"dataframe\">\n",
       "  <thead>\n",
       "    <tr style=\"text-align: right;\">\n",
       "      <th></th>\n",
       "      <th>he</th>\n",
       "    </tr>\n",
       "  </thead>\n",
       "  <tbody>\n",
       "    <tr>\n",
       "      <th>0</th>\n",
       "      <td>1</td>\n",
       "    </tr>\n",
       "    <tr>\n",
       "      <th>1</th>\n",
       "      <td>2</td>\n",
       "    </tr>\n",
       "    <tr>\n",
       "      <th>2</th>\n",
       "      <td>3</td>\n",
       "    </tr>\n",
       "  </tbody>\n",
       "</table>\n",
       "</div>"
      ],
      "text/plain": [
       "   he\n",
       "0   1\n",
       "1   2\n",
       "2   3"
      ]
     },
     "execution_count": 133,
     "metadata": {},
     "output_type": "execute_result"
    }
   ],
   "source": [
    "pd.DataFrame(data = [1,2,3] , columns = ['he'] , index = [0,1,2])"
   ]
  },
  {
   "cell_type": "code",
   "execution_count": 146,
   "id": "5b5b0d7f",
   "metadata": {},
   "outputs": [],
   "source": [
    "pc1 = driver.find_elements(by=By.XPATH , value = '//*[@id=\"rank_holder\"]/ul/li[4]/ul[2]')[0].text"
   ]
  },
  {
   "cell_type": "code",
   "execution_count": 150,
   "id": "25e6b34e",
   "metadata": {},
   "outputs": [
    {
     "data": {
      "text/plain": [
       "'대외비, 정직한 후보2, 연평해전'"
      ]
     },
     "execution_count": 150,
     "metadata": {},
     "output_type": "execute_result"
    }
   ],
   "source": [
    "pc1.replace('\\n' , ', ')"
   ]
  }
 ],
 "metadata": {
  "kernelspec": {
   "display_name": "Python 3 (ipykernel)",
   "language": "python",
   "name": "python3"
  },
  "language_info": {
   "codemirror_mode": {
    "name": "ipython",
    "version": 3
   },
   "file_extension": ".py",
   "mimetype": "text/x-python",
   "name": "python",
   "nbconvert_exporter": "python",
   "pygments_lexer": "ipython3",
   "version": "3.10.9"
  }
 },
 "nbformat": 4,
 "nbformat_minor": 5
}
