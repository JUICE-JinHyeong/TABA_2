{
  "nbformat": 4,
  "nbformat_minor": 0,
  "metadata": {
    "colab": {
      "provenance": []
    },
    "kernelspec": {
      "name": "python3",
      "display_name": "Python 3"
    },
    "language_info": {
      "name": "python"
    }
  },
  "cells": [
    {
      "cell_type": "markdown",
      "source": [
        "# 자료형(Data Type)\n",
        "\n",
        "## String"
      ],
      "metadata": {
        "id": "K8XH-khAuyHO"
      }
    },
    {
      "cell_type": "code",
      "execution_count": null,
      "metadata": {
        "colab": {
          "base_uri": "https://localhost:8080/"
        },
        "id": "greabFRTutb4",
        "outputId": "d398d7df-12ad-48c9-a285-31a1005eea94"
      },
      "outputs": [
        {
          "output_type": "stream",
          "name": "stdout",
          "text": [
            "안녕하세요.\n",
            "반갑습니다.\n"
          ]
        }
      ],
      "source": [
        "# 문자열\n",
        "st = \"안녕하세요.\"\n",
        "st2 = \"반갑습니다.\"\n",
        "\n",
        "print(st)\n",
        "print(st2)"
      ]
    },
    {
      "cell_type": "code",
      "source": [
        "# 타입 확인\n",
        "type(st)"
      ],
      "metadata": {
        "colab": {
          "base_uri": "https://localhost:8080/"
        },
        "id": "uGUakX9YvgoN",
        "outputId": "04114aa3-7632-446e-f59e-9b03aa7c47bd"
      },
      "execution_count": null,
      "outputs": [
        {
          "output_type": "execute_result",
          "data": {
            "text/plain": [
              "str"
            ]
          },
          "metadata": {},
          "execution_count": 8
        }
      ]
    },
    {
      "cell_type": "code",
      "source": [
        "# 문자열 내 따옴표\n",
        "print(\"'안녕하세요.' 라고 말했습니다.\")\n",
        "print(\"\\\"안녕하세요\\\"라고 말했습니다.\")"
      ],
      "metadata": {
        "colab": {
          "base_uri": "https://localhost:8080/"
        },
        "id": "0LwfWNe0u9Ks",
        "outputId": "f54d3e80-4a59-4d18-abda-1f520045dbf0"
      },
      "execution_count": null,
      "outputs": [
        {
          "output_type": "stream",
          "name": "stdout",
          "text": [
            "'안녕하세요.' 라고 말했습니다.\n",
            "\"안녕하세요\"라고 말했습니다.\n"
          ]
        }
      ]
    },
    {
      "cell_type": "code",
      "source": [
        "# 이스케이프 문자\n",
        "print(\"이름\\t나이\\t지역\")\n",
        "print(\"===================\")\n",
        "print(\"김동훈\\t20\\t서울\")\n",
        "print(\"김형식\\t20\\t분당\")\n",
        "print(\"이현지\\t20\\t죽전\")"
      ],
      "metadata": {
        "colab": {
          "base_uri": "https://localhost:8080/"
        },
        "id": "6O5qAvsA0q5v",
        "outputId": "93257ca8-54a4-49f1-8892-72a1b645f22b"
      },
      "execution_count": null,
      "outputs": [
        {
          "output_type": "stream",
          "name": "stdout",
          "text": [
            "이름\t나이\t지역\n",
            "===================\n",
            "김동훈\t20\t서울\n",
            "김형식\t20\t분당\n",
            "이현지\t20\t죽전\n"
          ]
        }
      ]
    },
    {
      "cell_type": "code",
      "source": [
        "# 이스케이프 문자2 (window 파일경로)\n",
        "# 에러 발생: print(\"C:\\User\\tmp\\\")\n",
        "print(\"C:\\\\User\\\\tmp\\\\\")"
      ],
      "metadata": {
        "colab": {
          "base_uri": "https://localhost:8080/"
        },
        "id": "tFrbggbE1p_B",
        "outputId": "5fe24ac7-66bf-4654-e293-e72dbd3b8c1b"
      },
      "execution_count": null,
      "outputs": [
        {
          "output_type": "stream",
          "name": "stdout",
          "text": [
            "C:\\User\\tmp\\\n"
          ]
        }
      ]
    },
    {
      "cell_type": "code",
      "source": [
        "# 여러 줄 쓰기(\\n)\n",
        "print(\"동해물과 백두산이 마르고 닳도록\\n하느님이 보우하사 우리나라 만세\\n무궁화 삼천리 화려강산\\n대한사람 대한으로 길이 보전하세.\")"
      ],
      "metadata": {
        "colab": {
          "base_uri": "https://localhost:8080/"
        },
        "id": "dE8p5FCuwOis",
        "outputId": "e890502e-8c94-454a-c223-64c37261f10c"
      },
      "execution_count": null,
      "outputs": [
        {
          "output_type": "stream",
          "name": "stdout",
          "text": [
            "동해물과 백두산이 마르고 닳도록\n",
            "하느님이 보우하사 우리나라 만세\n",
            "무궁화 삼천리 화려강산\n",
            "대한사람 대한으로 길이 보전하세.\n"
          ]
        }
      ]
    },
    {
      "cell_type": "code",
      "source": [
        "# 여러 줄 쓰기(\"\"\" \"\"\")\n",
        "print(\"\"\"\n",
        "동해물과 백두산이 마르고 닳도록\n",
        "하느님이 보우하사 우리나라 만세\n",
        "무궁화 삼천리 화려강산\n",
        "대한사람 대한으로 길이 보전하세.\n",
        "\"\"\")\n",
        "\n",
        "print('''\n",
        "동해물과 백두산이 마르고 닳도록\n",
        "하느님이 보우하사 우리나라 만세\n",
        "무궁화 삼천리 화려강산\n",
        "대한사람 대한으로 길이 보전하세.\n",
        "''')"
      ],
      "metadata": {
        "colab": {
          "base_uri": "https://localhost:8080/"
        },
        "id": "bpMrwl9Cw58S",
        "outputId": "c270eedc-b5a0-4606-9d80-1212bdd3291c"
      },
      "execution_count": null,
      "outputs": [
        {
          "output_type": "stream",
          "name": "stdout",
          "text": [
            "\n",
            "동해물과 백두산이 마르고 닳도록\n",
            "하느님이 보우하사 우리나라 만세\n",
            "무궁화 삼천리 화려강산\n",
            "대한사람 대한으로 길이 보전하세.\n",
            "\n",
            "\n",
            "동해물과 백두산이 마르고 닳도록\n",
            "하느님이 보우하사 우리나라 만세\n",
            "무궁화 삼천리 화려강산\n",
            "대한사람 대한으로 길이 보전하세.\n",
            "\n"
          ]
        }
      ]
    },
    {
      "cell_type": "code",
      "source": [
        "# 여러 줄 쓰기(공백제거)\n",
        "print(\"\"\"\\\n",
        "동해물과 백두산이 마르고 닳도록\n",
        "하느님이 보우하사 우리나라 만세\n",
        "무궁화 삼천리 화려강산\n",
        "대한사람 대한으로 길이 보전하세.\\\n",
        "\"\"\")"
      ],
      "metadata": {
        "colab": {
          "base_uri": "https://localhost:8080/"
        },
        "id": "EYoBN3fQ3R6N",
        "outputId": "06a2a9de-5715-439c-ac2f-fb3533f0984e"
      },
      "execution_count": null,
      "outputs": [
        {
          "output_type": "stream",
          "name": "stdout",
          "text": [
            "동해물과 백두산이 마르고 닳도록\n",
            "하느님이 보우하사 우리나라 만세\n",
            "무궁화 삼천리 화려강산\n",
            "대한사람 대한으로 길이 보전하세.\n"
          ]
        }
      ]
    },
    {
      "cell_type": "code",
      "source": [
        "# 문자열 연산자 : +, *\n",
        "print(\"안녕하세요. \" + \"반갑습니다.\")\n",
        "print(\"안녕하세요.\" * 3)"
      ],
      "metadata": {
        "colab": {
          "base_uri": "https://localhost:8080/"
        },
        "id": "mKeuyLbt3pvy",
        "outputId": "ca47a944-54d4-4863-cca9-1d10bb8b0a95"
      },
      "execution_count": null,
      "outputs": [
        {
          "output_type": "stream",
          "name": "stdout",
          "text": [
            "안녕하세요. 반갑습니다.\n",
            "안녕하세요.안녕하세요.안녕하세요.\n"
          ]
        }
      ]
    },
    {
      "cell_type": "code",
      "source": [
        "# 문자열 인덱싱\n",
        "print(\"문자열 인덱싱에 대해 알아볼까요?\")\n",
        "print(\"안녕하세요.\"[0])\n",
        "print(\"안녕하세요.\"[1])\n",
        "print(\"안녕하세요.\"[2])\n",
        "print(\"안녕하세요.\"[3])\n",
        "print(\"안녕하세요.\"[4])\n",
        "print(\"안녕하세요.\"[5])"
      ],
      "metadata": {
        "colab": {
          "base_uri": "https://localhost:8080/"
        },
        "id": "nRsh_Tb77P7R",
        "outputId": "9bf58593-0cb8-4344-ea8f-2aa9fde03912"
      },
      "execution_count": null,
      "outputs": [
        {
          "output_type": "stream",
          "name": "stdout",
          "text": [
            "문자열 인덱싱에 대해 알아볼까요?\n",
            "안\n",
            "녕\n",
            "하\n",
            "세\n",
            "요\n",
            ".\n"
          ]
        }
      ]
    },
    {
      "cell_type": "code",
      "source": [
        "# 문자열 인덱싱(역순)\n",
        "print(\"문자열 인덱싱에 대해 알아볼까요?\")\n",
        "print(\"안녕하세요.\"[-6])\n",
        "print(\"안녕하세요.\"[-5])\n",
        "print(\"안녕하세요.\"[-4])\n",
        "print(\"안녕하세요.\"[-3])\n",
        "print(\"안녕하세요.\"[-2])\n",
        "print(\"안녕하세요.\"[-1])"
      ],
      "metadata": {
        "colab": {
          "base_uri": "https://localhost:8080/"
        },
        "id": "oA1gSlWc7b0M",
        "outputId": "936e85cd-c92d-4897-8065-0652fc5f0252"
      },
      "execution_count": null,
      "outputs": [
        {
          "output_type": "stream",
          "name": "stdout",
          "text": [
            "문자열 인덱싱에 대해 알아볼까요?\n",
            "안\n",
            "녕\n",
            "하\n",
            "세\n",
            "요\n",
            ".\n"
          ]
        }
      ]
    },
    {
      "cell_type": "code",
      "source": [
        "# 문자열 슬라이싱\n",
        "print(\"안녕하세요\"[1:4])\n",
        "print(\"안녕하세요\"[:4])\n",
        "print(\"안녕하세요\"[2:])"
      ],
      "metadata": {
        "colab": {
          "base_uri": "https://localhost:8080/"
        },
        "id": "gNMr0NyN8PPF",
        "outputId": "61287a6f-6572-4a1a-8384-a72d37d14309"
      },
      "execution_count": null,
      "outputs": [
        {
          "output_type": "stream",
          "name": "stdout",
          "text": [
            "녕하세\n",
            "안녕하세\n",
            "하세요\n"
          ]
        }
      ]
    },
    {
      "cell_type": "code",
      "source": [
        "# 문자열 길이\n",
        "print(len(\"안녕하세요\"))"
      ],
      "metadata": {
        "colab": {
          "base_uri": "https://localhost:8080/"
        },
        "id": "PmNT6xbL8890",
        "outputId": "e925a6f0-0011-4f2c-d0b1-849fb54165ac"
      },
      "execution_count": null,
      "outputs": [
        {
          "output_type": "stream",
          "name": "stdout",
          "text": [
            "5\n"
          ]
        }
      ]
    },
    {
      "cell_type": "markdown",
      "source": [
        "## Number"
      ],
      "metadata": {
        "id": "WXVkbYYQFbkg"
      }
    },
    {
      "cell_type": "code",
      "source": [
        "# 정수 나누기 연산자 : //\n",
        "print(\"3 / 2 = \", 3/2)\n",
        "print(\"3 // 2 = \", 3//2)"
      ],
      "metadata": {
        "colab": {
          "base_uri": "https://localhost:8080/"
        },
        "id": "UtI5JEeIFbHW",
        "outputId": "11cf9a2c-c17e-4bb3-8e82-9f662a158508"
      },
      "execution_count": null,
      "outputs": [
        {
          "output_type": "stream",
          "name": "stdout",
          "text": [
            "3 / 2 =  1.5\n",
            "3 // 2 =  1\n"
          ]
        }
      ]
    },
    {
      "cell_type": "code",
      "source": [
        "# 나머지 연산자\n",
        "print(\"5 % 2 = \", 5%2)"
      ],
      "metadata": {
        "colab": {
          "base_uri": "https://localhost:8080/"
        },
        "id": "MsYx-vtQ9RVS",
        "outputId": "818d4159-3277-4688-a733-7706658ddfa3"
      },
      "execution_count": null,
      "outputs": [
        {
          "output_type": "stream",
          "name": "stdout",
          "text": [
            "5 % 2 =  1\n"
          ]
        }
      ]
    },
    {
      "cell_type": "code",
      "source": [
        "# 제곱 연산자\n",
        "print(\"2 ** 1 = \", 2**1)\n",
        "print(\"2 ** 2 = \", 2**2)\n",
        "print(\"2 ** 3 = \", 2**3)\n",
        "print(\"2 ** 4 = \", 2**4)"
      ],
      "metadata": {
        "colab": {
          "base_uri": "https://localhost:8080/"
        },
        "id": "pnek9I9BF3er",
        "outputId": "6d06e05a-fb85-4566-b501-26eb03ec26bc"
      },
      "execution_count": null,
      "outputs": [
        {
          "output_type": "stream",
          "name": "stdout",
          "text": [
            "2 ** 1 =  2\n",
            "2 ** 2 =  4\n",
            "2 ** 3 =  8\n",
            "2 ** 4 =  16\n"
          ]
        }
      ]
    },
    {
      "cell_type": "code",
      "source": [
        "# 변수 선언과 할당\n",
        "pi = 3.141592265\n",
        "r = 10\n",
        "\n",
        "# 변수 참조\n",
        "print(\"원주율  = \", pi)\n",
        "print(\"반지름 = \", r)\n",
        "print(\"원의 둘레 = \", 2*pi*r)\n",
        "print(\"원의 넓이 = \", pi*r*r)"
      ],
      "metadata": {
        "colab": {
          "base_uri": "https://localhost:8080/"
        },
        "id": "tZyGGvOUGHDE",
        "outputId": "c19dfc91-1d58-42fd-9253-5684e75c50e8"
      },
      "execution_count": null,
      "outputs": [
        {
          "output_type": "stream",
          "name": "stdout",
          "text": [
            "원주율  =  3.141592265\n",
            "반지름 =  10\n",
            "원의 둘레 =  62.8318453\n",
            "원의 넓이 =  314.1592265\n"
          ]
        }
      ]
    },
    {
      "cell_type": "code",
      "source": [
        "# 복합대입 연산자(숫자)\n",
        "number = 100\n",
        "number += 10\n",
        "number += 20\n",
        "number += 30\n",
        "print(\"number : \", number)"
      ],
      "metadata": {
        "colab": {
          "base_uri": "https://localhost:8080/"
        },
        "id": "G3eFf4H6GoPn",
        "outputId": "9edafc9d-ec9d-4e16-8249-00a98a4d1e53"
      },
      "execution_count": null,
      "outputs": [
        {
          "output_type": "stream",
          "name": "stdout",
          "text": [
            "number :  160\n"
          ]
        }
      ]
    },
    {
      "cell_type": "code",
      "source": [
        "# 복합대입 연산자(문자열)\n",
        "string = \"안녕하세요\"\n",
        "string += \"!\"\n",
        "string += \"!\"\n",
        "print(\"string : \", string)"
      ],
      "metadata": {
        "colab": {
          "base_uri": "https://localhost:8080/"
        },
        "id": "m0Bo07b1KJ4y",
        "outputId": "c9af04d6-f311-4b84-c0d2-fa10115fa4b4"
      },
      "execution_count": null,
      "outputs": [
        {
          "output_type": "stream",
          "name": "stdout",
          "text": [
            "string :  안녕하세요!!\n"
          ]
        }
      ]
    },
    {
      "cell_type": "code",
      "source": [
        "# cast (문자열 -> 숫자)\n",
        "string_a = \"1024\"\n",
        "int_a = int(string_a)\n",
        "\n",
        "string_b = \"1004\"\n",
        "int_b = int(string_b)\n",
        "\n",
        "print(\"문자열 자료: \", string_a + string_b)\n",
        "print(\"숫자 자료: \", int_a + int_b)"
      ],
      "metadata": {
        "colab": {
          "base_uri": "https://localhost:8080/"
        },
        "id": "sXzrurB3KeXC",
        "outputId": "0cca053f-b96b-4ab6-82fe-d1ba509a62d2"
      },
      "execution_count": null,
      "outputs": [
        {
          "output_type": "stream",
          "name": "stdout",
          "text": [
            "문자열 자료:  10241004\n",
            "숫자 자료:  2028\n"
          ]
        }
      ]
    },
    {
      "cell_type": "code",
      "source": [
        "# int(), float()\n",
        "output_a = int(\"52\")\n",
        "output_b = float(\"52.273\")\n",
        "\n",
        "print(type(output_a), output_a)\n",
        "print(type(output_b), output_b)"
      ],
      "metadata": {
        "colab": {
          "base_uri": "https://localhost:8080/"
        },
        "id": "FcXSafIzeceI",
        "outputId": "4a96ba64-7812-4f9d-c2b9-d5594fc40df6"
      },
      "execution_count": null,
      "outputs": [
        {
          "output_type": "stream",
          "name": "stdout",
          "text": [
            "<class 'int'> 52\n",
            "<class 'float'> 52.273\n"
          ]
        }
      ]
    },
    {
      "cell_type": "code",
      "source": [
        "# int 함수와 float 함수 조합\n",
        "int_a = int(273)\n",
        "int_b = int(52)\n",
        "float_c = float(273)\n",
        "float_d = float(52)\n",
        "\n",
        "print(\"int_a / int_b= \", int_a/int_b)\n",
        "print(\"int_a // int_b= \", int_a//int_b)\n",
        "print(\"float_c / float_d \", float_c/float_d)"
      ],
      "metadata": {
        "colab": {
          "base_uri": "https://localhost:8080/"
        },
        "id": "2OD0xjsWe4-M",
        "outputId": "cb57909d-6219-4fd0-94df-e51d0adb2dc8"
      },
      "execution_count": null,
      "outputs": [
        {
          "output_type": "stream",
          "name": "stdout",
          "text": [
            "int_a / int_b=  5.25\n",
            "int_a // int_b=  5\n",
            "float_c / float_d  5.25\n"
          ]
        }
      ]
    },
    {
      "cell_type": "code",
      "source": [
        "int(\"안녕하세요.\")\n",
        "float(\"안녕하세요.\")"
      ],
      "metadata": {
        "colab": {
          "base_uri": "https://localhost:8080/",
          "height": 187
        },
        "id": "DBhdFIWafumC",
        "outputId": "db2b6b2b-a807-4015-cd25-9e7e82d66663"
      },
      "execution_count": null,
      "outputs": [
        {
          "output_type": "error",
          "ename": "ValueError",
          "evalue": "ignored",
          "traceback": [
            "\u001b[0;31m---------------------------------------------------------------------------\u001b[0m",
            "\u001b[0;31mValueError\u001b[0m                                Traceback (most recent call last)",
            "\u001b[0;32m<ipython-input-5-46105c5e7b9f>\u001b[0m in \u001b[0;36m<cell line: 1>\u001b[0;34m()\u001b[0m\n\u001b[0;32m----> 1\u001b[0;31m \u001b[0mint\u001b[0m\u001b[0;34m(\u001b[0m\u001b[0;34m\"안녕하세요.\"\u001b[0m\u001b[0;34m)\u001b[0m\u001b[0;34m\u001b[0m\u001b[0;34m\u001b[0m\u001b[0m\n\u001b[0m\u001b[1;32m      2\u001b[0m \u001b[0mfloat\u001b[0m\u001b[0;34m(\u001b[0m\u001b[0;34m\"안녕하세요.\"\u001b[0m\u001b[0;34m)\u001b[0m\u001b[0;34m\u001b[0m\u001b[0;34m\u001b[0m\u001b[0m\n",
            "\u001b[0;31mValueError\u001b[0m: invalid literal for int() with base 10: '안녕하세요.'"
          ]
        }
      ]
    },
    {
      "cell_type": "code",
      "source": [
        "# 대소문자 변환\n",
        "a = \"Hello Python Programming...!\"\n",
        "print(a.upper())\n",
        "print(a.lower())"
      ],
      "metadata": {
        "id": "E-VDadFjgftv",
        "colab": {
          "base_uri": "https://localhost:8080/"
        },
        "outputId": "e1766784-e9b4-42c4-dd38-4c73bb757cd1"
      },
      "execution_count": null,
      "outputs": [
        {
          "output_type": "stream",
          "name": "stdout",
          "text": [
            "HELLO PYTHON PROGRAMMING...!\n",
            "hello python programming...!\n"
          ]
        }
      ]
    },
    {
      "cell_type": "code",
      "source": [
        "# 문자열 공백 제거\n",
        "a = \"\"\"\n",
        "       안녕하세요.\n",
        "문자열의 함수를 알아봅니다.\n",
        "\"\"\"\n",
        "print(a)\n",
        "print(a.strip())"
      ],
      "metadata": {
        "colab": {
          "base_uri": "https://localhost:8080/"
        },
        "id": "PeEI1AeHKh9w",
        "outputId": "e8ed7a30-39be-4d1e-95aa-0c7127b3a91d"
      },
      "execution_count": null,
      "outputs": [
        {
          "output_type": "stream",
          "name": "stdout",
          "text": [
            "\n",
            "       안녕하세요.\n",
            "문자열의 함수를 알아봅니다.\n",
            "\n",
            "안녕하세요.\n",
            "문자열의 함수를 알아봅니다.\n"
          ]
        }
      ]
    },
    {
      "cell_type": "code",
      "source": [
        "# 문자열 찾기\n",
        "a = \"안녕안녕하세요\"\n",
        "print(a.find(\"안녕\"))\n",
        "print(a.rfind(\"안녕\"))"
      ],
      "metadata": {
        "colab": {
          "base_uri": "https://localhost:8080/"
        },
        "id": "KeosCRWYLU_h",
        "outputId": "ca6ca6d0-d6ab-4053-99f4-4f749a0aeecb"
      },
      "execution_count": null,
      "outputs": [
        {
          "output_type": "stream",
          "name": "stdout",
          "text": [
            "0\n",
            "2\n"
          ]
        }
      ]
    },
    {
      "cell_type": "code",
      "source": [
        "# 문자열 in 연산자\n",
        "print(\"안녕\" in \"안녕하세요.\")\n",
        "print(\"잘자\" in \"안녕하세요.\")"
      ],
      "metadata": {
        "colab": {
          "base_uri": "https://localhost:8080/"
        },
        "id": "lbsGuFw3NOpx",
        "outputId": "34f58bcd-403a-4561-8418-7c645f8a5301"
      },
      "execution_count": null,
      "outputs": [
        {
          "output_type": "stream",
          "name": "stdout",
          "text": [
            "True\n",
            "False\n"
          ]
        }
      ]
    },
    {
      "cell_type": "code",
      "source": [
        "# 문자열 자르기\n",
        "a = \"10 20 30 40 50 60\"\n",
        "print(a.split(\" \"))"
      ],
      "metadata": {
        "colab": {
          "base_uri": "https://localhost:8080/"
        },
        "id": "ilMLzWzLNphG",
        "outputId": "8b546046-f987-4f07-8791-b9168da4109e"
      },
      "execution_count": null,
      "outputs": [
        {
          "output_type": "stream",
          "name": "stdout",
          "text": [
            "['10', '20', '30', '40', '50', '60']\n"
          ]
        }
      ]
    },
    {
      "cell_type": "code",
      "source": [
        "print(1 == True)\n",
        "print(0 == False)\n",
        "print(0 == True)"
      ],
      "metadata": {
        "colab": {
          "base_uri": "https://localhost:8080/"
        },
        "id": "xLiNj3i3OBdJ",
        "outputId": "7587feb5-aab1-4312-c4af-7c9278348cd8"
      },
      "execution_count": null,
      "outputs": [
        {
          "output_type": "stream",
          "name": "stdout",
          "text": [
            "True\n",
            "True\n",
            "False\n"
          ]
        }
      ]
    },
    {
      "cell_type": "code",
      "source": [
        "0 == True"
      ],
      "metadata": {
        "colab": {
          "base_uri": "https://localhost:8080/"
        },
        "id": "A9tFpKbUOZ_c",
        "outputId": "4ec7c1e6-5168-417d-8238-46ee1bd25ec4"
      },
      "execution_count": null,
      "outputs": [
        {
          "output_type": "execute_result",
          "data": {
            "text/plain": [
              "False"
            ]
          },
          "metadata": {},
          "execution_count": 9
        }
      ]
    },
    {
      "cell_type": "code",
      "source": [
        "# 비교 연산자\n",
        "print(\"가방\" == \"가방\")\n",
        "print(\"가방\" < \"하마\")\n",
        "print(\"가방\" > \"하마\")"
      ],
      "metadata": {
        "colab": {
          "base_uri": "https://localhost:8080/"
        },
        "id": "D7xEElWVObTG",
        "outputId": "73f40ceb-8045-4153-9f2a-e0f28139cadb"
      },
      "execution_count": null,
      "outputs": [
        {
          "output_type": "stream",
          "name": "stdout",
          "text": [
            "True\n",
            "True\n",
            "False\n"
          ]
        }
      ]
    },
    {
      "cell_type": "code",
      "source": [
        "# 논리 연산자\n",
        "print(not True)\n",
        "print(not False)\n",
        "\n",
        "print(True and True)\n",
        "print(True and False)\n",
        "\n",
        "print(True or True)\n",
        "print(True or False)"
      ],
      "metadata": {
        "colab": {
          "base_uri": "https://localhost:8080/"
        },
        "id": "-x3mCa0LPsHp",
        "outputId": "d7177c54-8ae1-4a39-c15a-6e4f49f912ac"
      },
      "execution_count": null,
      "outputs": [
        {
          "output_type": "stream",
          "name": "stdout",
          "text": [
            "False\n",
            "True\n",
            "True\n",
            "False\n",
            "True\n",
            "True\n"
          ]
        }
      ]
    },
    {
      "cell_type": "code",
      "source": [
        "# 조건문\n",
        "if True:\n",
        "  print(\"True 입니다.\")\n",
        "if False:\n",
        "  print(\"False 입니다.\")\n",
        "\n",
        "print(\"Default 문장입니다.\")"
      ],
      "metadata": {
        "colab": {
          "base_uri": "https://localhost:8080/"
        },
        "id": "N6SM9af1Qcrh",
        "outputId": "918b5653-acc0-4a4a-ae16-02d369aa5109"
      },
      "execution_count": null,
      "outputs": [
        {
          "output_type": "stream",
          "name": "stdout",
          "text": [
            "True 입니다.\n",
            "Default 문장입니다.\n"
          ]
        }
      ]
    },
    {
      "cell_type": "code",
      "source": [
        "# if~else\n",
        "number = input(\"정수입력> \")\n",
        "number = int(number)\n",
        "\n",
        "if number % 2 == 0:\n",
        "  print(\"짝수입니다.\")\n",
        "else:\n",
        "  print(\"홀수입니다.\")"
      ],
      "metadata": {
        "colab": {
          "base_uri": "https://localhost:8080/"
        },
        "id": "fzUD9cRDRBZh",
        "outputId": "7a20cbbd-d8cc-4e73-89dc-c5ad38c39a38"
      },
      "execution_count": null,
      "outputs": [
        {
          "output_type": "stream",
          "name": "stdout",
          "text": [
            "정수입력> 13\n",
            "홀수입니다.\n"
          ]
        }
      ]
    },
    {
      "cell_type": "code",
      "source": [
        "# if~elif (계절 구하기)\n",
        "import datetime\n",
        "\n",
        "now = datetime.datetime.now()\n",
        "month = now.month\n",
        "\n",
        "if 3 <= month <= 5:\n",
        "  print(\"현재는 봄 입니다.\")\n",
        "elif 6 <= month <= 8:\n",
        "  print(\"현재는 여름 입니다.\")\n",
        "elif 9 <= month  <= 11:\n",
        "  print(\"현재는 가을 입니다.\")\n",
        "else:\n",
        "  print(\"현재는 겨울 입니다.\")"
      ],
      "metadata": {
        "colab": {
          "base_uri": "https://localhost:8080/"
        },
        "id": "5Vng4Gk9R5ri",
        "outputId": "00e638be-2bc6-4bc4-bcd2-c29c041d4d70"
      },
      "execution_count": null,
      "outputs": [
        {
          "output_type": "stream",
          "name": "stdout",
          "text": [
            "현재는 봄 입니다.\n"
          ]
        }
      ]
    },
    {
      "cell_type": "code",
      "source": [
        "# pass\n",
        "number = 13\n",
        "\n",
        "if number > 0:\n",
        "  pass\n",
        "else:\n",
        "  pass"
      ],
      "metadata": {
        "id": "4sG5ijBJSqGM"
      },
      "execution_count": null,
      "outputs": []
    },
    {
      "cell_type": "code",
      "source": [
        "# raise NotImpementedError\n",
        "# pass\n",
        "number = 13\n",
        "\n",
        "if number > 0:\n",
        "  raise NotImplementedError(\"구현필요\")\n",
        "else:\n",
        "  raise NotImplementedError(\"구현필요\")"
      ],
      "metadata": {
        "colab": {
          "base_uri": "https://localhost:8080/",
          "height": 235
        },
        "id": "qxsZ2Q7iSxb0",
        "outputId": "0194bb92-3f43-44a8-f530-8e5a85154fd1"
      },
      "execution_count": null,
      "outputs": [
        {
          "output_type": "error",
          "ename": "NotImplementedError",
          "evalue": "ignored",
          "traceback": [
            "\u001b[0;31m---------------------------------------------------------------------------\u001b[0m",
            "\u001b[0;31mNotImplementedError\u001b[0m                       Traceback (most recent call last)",
            "\u001b[0;32m<ipython-input-24-89cc439bf577>\u001b[0m in \u001b[0;36m<cell line: 5>\u001b[0;34m()\u001b[0m\n\u001b[1;32m      4\u001b[0m \u001b[0;34m\u001b[0m\u001b[0m\n\u001b[1;32m      5\u001b[0m \u001b[0;32mif\u001b[0m \u001b[0mnumber\u001b[0m \u001b[0;34m>\u001b[0m \u001b[0;36m0\u001b[0m\u001b[0;34m:\u001b[0m\u001b[0;34m\u001b[0m\u001b[0;34m\u001b[0m\u001b[0m\n\u001b[0;32m----> 6\u001b[0;31m   \u001b[0;32mraise\u001b[0m \u001b[0mNotImplementedError\u001b[0m\u001b[0;34m(\u001b[0m\u001b[0;34m\"구현필요\"\u001b[0m\u001b[0;34m)\u001b[0m\u001b[0;34m\u001b[0m\u001b[0;34m\u001b[0m\u001b[0m\n\u001b[0m\u001b[1;32m      7\u001b[0m \u001b[0;32melse\u001b[0m\u001b[0;34m:\u001b[0m\u001b[0;34m\u001b[0m\u001b[0;34m\u001b[0m\u001b[0m\n\u001b[1;32m      8\u001b[0m   \u001b[0;32mraise\u001b[0m \u001b[0mNotImplementedError\u001b[0m\u001b[0;34m(\u001b[0m\u001b[0;34m\"구현필요\"\u001b[0m\u001b[0;34m)\u001b[0m\u001b[0;34m\u001b[0m\u001b[0;34m\u001b[0m\u001b[0m\n",
            "\u001b[0;31mNotImplementedError\u001b[0m: 구현필요"
          ]
        }
      ]
    },
    {
      "cell_type": "code",
      "source": [
        "# 리스트\n",
        "array = [273, 32, 103, \"문자열\", True, False]\n",
        "print(array)"
      ],
      "metadata": {
        "colab": {
          "base_uri": "https://localhost:8080/"
        },
        "id": "svoKh2uyUJ-_",
        "outputId": "43f4f6a1-e883-4d23-eb38-96cbf8cdad61"
      },
      "execution_count": null,
      "outputs": [
        {
          "output_type": "stream",
          "name": "stdout",
          "text": [
            "[273, 32, 103, '문자열', True, False]\n"
          ]
        }
      ]
    },
    {
      "cell_type": "code",
      "source": [
        "print(\"array[0] : \", array[0])\n",
        "print(\"array[3][0] : \", array[3][0])\n",
        "print(\"array[-1] : \", array[-1])"
      ],
      "metadata": {
        "colab": {
          "base_uri": "https://localhost:8080/"
        },
        "id": "R0Rb_D1oVZ1b",
        "outputId": "fce295de-154f-4f76-be12-04a624ecf7e3"
      },
      "execution_count": null,
      "outputs": [
        {
          "output_type": "stream",
          "name": "stdout",
          "text": [
            "array[0] :  273\n",
            "array[3][0] :  문\n",
            "array[-1] :  False\n"
          ]
        }
      ]
    },
    {
      "cell_type": "code",
      "source": [
        "array = [[1,2,3,4], [5,6,7,9]]\n",
        "array_dict = [{\"array\": 1, \"arr\": 2}, {\"python\": 3}]"
      ],
      "metadata": {
        "id": "7W4U2Fj1V_LF"
      },
      "execution_count": null,
      "outputs": []
    },
    {
      "cell_type": "code",
      "source": [
        "print(array)\n",
        "print(array_dict)"
      ],
      "metadata": {
        "colab": {
          "base_uri": "https://localhost:8080/"
        },
        "id": "XXxKmOMDWaYZ",
        "outputId": "27eea763-74ff-4f2c-bbe9-e7283844f9e0"
      },
      "execution_count": null,
      "outputs": [
        {
          "output_type": "stream",
          "name": "stdout",
          "text": [
            "[[1, 2, 3, 4], [5, 6, 7, 9]]\n",
            "[{'array': 1, 'arr': 2}, {'python': 3}]\n"
          ]
        }
      ]
    },
    {
      "cell_type": "code",
      "source": [
        "# 리스트 연산자\n",
        "list_a = [1,2,3]\n",
        "list_b = [4,5,6]\n",
        "\n",
        "# 연결 연산자 +\n",
        "print(\"list_a + list_b = \", list_a + list_b)\n",
        "\n",
        "# 반복 연산자 *\n",
        "print(\"list_a * 3 = \", list_a * 3)\n",
        "\n",
        "# 리스트 길이 len\n",
        "print(\"length of list : \", len(list_a))"
      ],
      "metadata": {
        "colab": {
          "base_uri": "https://localhost:8080/"
        },
        "id": "xrd1oCotWiPf",
        "outputId": "ba5f0503-fe86-4c7c-c783-48b21f60ef02"
      },
      "execution_count": null,
      "outputs": [
        {
          "output_type": "stream",
          "name": "stdout",
          "text": [
            "list_a + list_b =  [1, 2, 3, 4, 5, 6]\n",
            "list_a * 3 =  [1, 2, 3, 1, 2, 3, 1, 2, 3]\n",
            "length of list :  3\n"
          ]
        }
      ]
    },
    {
      "cell_type": "code",
      "source": [
        "# 리스트 요소 추가\n",
        "list_a = [1,2,3]\n",
        "list_a.append(4)\n",
        "print(list_a)\n",
        "\n",
        "list_a.insert(2, 5)\n",
        "print(list_a)"
      ],
      "metadata": {
        "colab": {
          "base_uri": "https://localhost:8080/"
        },
        "id": "sKIrcm6tXLBw",
        "outputId": "57bf38db-ce52-4462-a49f-c6b87e4b5819"
      },
      "execution_count": null,
      "outputs": [
        {
          "output_type": "stream",
          "name": "stdout",
          "text": [
            "[1, 2, 3, 4]\n",
            "[1, 2, 5, 3, 4]\n"
          ]
        }
      ]
    },
    {
      "cell_type": "code",
      "source": [
        "# 리스트 연결 연산자\n",
        "list_a = [1,2,3]\n",
        "list_b = [4,5,6]\n",
        "\n",
        "print(\"list_a + list_b = \", list_a + list_b)\n",
        "print(\"list_a : \", list_a)\n",
        "print(\"list_b : \", list_b)\n",
        "print(\"list_a.extend(list_b) = \", list_a.extend(list_b))\n",
        "print(\"list_a after extend : \", list_a)"
      ],
      "metadata": {
        "colab": {
          "base_uri": "https://localhost:8080/"
        },
        "id": "j8Stiz-OXkOo",
        "outputId": "bb63261f-f1d6-490b-926b-047664773250"
      },
      "execution_count": null,
      "outputs": [
        {
          "output_type": "stream",
          "name": "stdout",
          "text": [
            "list_a + list_b =  [1, 2, 3, 4, 5, 6]\n",
            "list_a :  [1, 2, 3]\n",
            "list_b :  [4, 5, 6]\n",
            "list_a.extend(list_b) =  None\n",
            "list_a after extend :  [1, 2, 3, 4, 5, 6]\n"
          ]
        }
      ]
    },
    {
      "cell_type": "code",
      "source": [
        "# append vs. extend\n",
        "list_a = [1,2,3]\n",
        "list_b = [4,5,6]\n",
        "\n",
        "list_c = []\n",
        "list_c.append(list_a)\n",
        "list_c.append(list_b)\n",
        "print(list_c)\n",
        "\n",
        "list_c = []\n",
        "list_c.extend(list_a)\n",
        "list_c.extend(list_b)\n",
        "print(list_c)"
      ],
      "metadata": {
        "colab": {
          "base_uri": "https://localhost:8080/"
        },
        "id": "8KQAQCBnYbTw",
        "outputId": "f8086369-8b59-40b5-dd4c-eb5a9088798d"
      },
      "execution_count": null,
      "outputs": [
        {
          "output_type": "stream",
          "name": "stdout",
          "text": [
            "[[1, 2, 3], [4, 5, 6]]\n",
            "[1, 2, 3, 4, 5, 6]\n"
          ]
        }
      ]
    },
    {
      "cell_type": "code",
      "source": [
        "# 리스트 요소 제거\n",
        "list_a = [1,2,3]\n",
        "del list_a[:2]\n",
        "print(list_a)"
      ],
      "metadata": {
        "colab": {
          "base_uri": "https://localhost:8080/"
        },
        "id": "CAMeRyqxZNVR",
        "outputId": "6b0cf6ec-4a5a-47c0-8f4d-e4a6b813ddd3"
      },
      "execution_count": null,
      "outputs": [
        {
          "output_type": "stream",
          "name": "stdout",
          "text": [
            "[3]\n"
          ]
        }
      ]
    },
    {
      "cell_type": "code",
      "source": [
        "list_a = [1,2,3]\n",
        "list_a.pop(2)\n",
        "print(list_a)"
      ],
      "metadata": {
        "colab": {
          "base_uri": "https://localhost:8080/"
        },
        "id": "URiUsSXiZ76d",
        "outputId": "9c3ebd19-3921-4cbd-b23e-3919bf9ddcbc"
      },
      "execution_count": null,
      "outputs": [
        {
          "output_type": "stream",
          "name": "stdout",
          "text": [
            "[1, 2]\n"
          ]
        }
      ]
    },
    {
      "cell_type": "code",
      "source": [
        "list_a = [1,2,3]\n",
        "list_a.remove(2)\n",
        "print(list_a)"
      ],
      "metadata": {
        "colab": {
          "base_uri": "https://localhost:8080/"
        },
        "id": "ussUOUE7aFV8",
        "outputId": "e5f62f2e-9e8e-461d-df66-bea67fb3b63d"
      },
      "execution_count": null,
      "outputs": [
        {
          "output_type": "stream",
          "name": "stdout",
          "text": [
            "[1, 3]\n"
          ]
        }
      ]
    },
    {
      "cell_type": "code",
      "source": [
        "# 리스트에 요소 있는지 확인\n",
        "list_a = [1,2,3]\n",
        "print(3 in list_a)\n",
        "print(5 in list_a)"
      ],
      "metadata": {
        "colab": {
          "base_uri": "https://localhost:8080/"
        },
        "id": "4T0FmAFKaP5f",
        "outputId": "1af1603f-615d-4a99-9fa2-2044df2463fd"
      },
      "execution_count": null,
      "outputs": [
        {
          "output_type": "stream",
          "name": "stdout",
          "text": [
            "True\n",
            "False\n"
          ]
        }
      ]
    },
    {
      "cell_type": "code",
      "source": [
        "# 딕셔너리\n",
        "a = {\n",
        "    \"키A\" : 10,\n",
        "     \"키B\" : 20,\n",
        "     \"키C\" : 30,\n",
        "     1 : 40,\n",
        "     False: 50\n",
        "}\n",
        "\n",
        "print(a[\"키A\"])"
      ],
      "metadata": {
        "colab": {
          "base_uri": "https://localhost:8080/"
        },
        "id": "KWYV15qjalw4",
        "outputId": "38b6c96a-b853-4cf6-b595-320a64f267f1"
      },
      "execution_count": null,
      "outputs": [
        {
          "output_type": "stream",
          "name": "stdout",
          "text": [
            "10\n"
          ]
        }
      ]
    },
    {
      "cell_type": "code",
      "source": [
        "a = {\n",
        "    \"키A\" : 10,\n",
        "     \"키B\" : 20,\n",
        "     \"키C\" : 30,\n",
        "     1 : 40,\n",
        "     False: 50,\n",
        "     \"키D\" : ['망고', '설탕', '메타중아황산나트륨', '치자황색소']\n",
        "}\n",
        "print(a['키D'][0])"
      ],
      "metadata": {
        "colab": {
          "base_uri": "https://localhost:8080/"
        },
        "id": "tFJV4PAIclbX",
        "outputId": "aae46582-99d9-415d-9596-b9f8836ca880"
      },
      "execution_count": null,
      "outputs": [
        {
          "output_type": "stream",
          "name": "stdout",
          "text": [
            "망고\n"
          ]
        }
      ]
    },
    {
      "cell_type": "code",
      "source": [
        "# 딕셔너리 요소 추가/제거\n",
        "dictionary = {}\n",
        "dictionary[\"name\"] = \"새로운 이름\"\n",
        "dictionary[\"head\"] = \"새로운 정신\"\n",
        "dictionary[\"body\"] = \"새로운 몸\"\n",
        "\n",
        "print(dictionary)\n",
        "\n",
        "del dictionary[\"name\"]\n",
        "print(dictionary)"
      ],
      "metadata": {
        "colab": {
          "base_uri": "https://localhost:8080/"
        },
        "id": "ELtv3h0FdWxn",
        "outputId": "fc4c5ec1-2cbc-4a3e-ac09-27c76a3ee418"
      },
      "execution_count": null,
      "outputs": [
        {
          "output_type": "stream",
          "name": "stdout",
          "text": [
            "{'name': '새로운 이름', 'head': '새로운 정신', 'body': '새로운 몸'}\n",
            "{'head': '새로운 정신', 'body': '새로운 몸'}\n"
          ]
        }
      ]
    },
    {
      "cell_type": "code",
      "source": [
        "# 딕셔너리 요소 확인\n",
        "a = {\n",
        "    \"키A\" : 10,\n",
        "     \"키B\" : 20,\n",
        "     \"키C\" : 30,\n",
        "     1 : 40,\n",
        "     False: 50,\n",
        "     \"키D\" : ['망고', '설탕', '메타중아황산나트륨', '치자황색소']\n",
        "}\n",
        "\n",
        "print(\"키A\" in a)"
      ],
      "metadata": {
        "colab": {
          "base_uri": "https://localhost:8080/"
        },
        "id": "k6VPk3_qeAUO",
        "outputId": "6947779b-da6c-403a-f98f-b8939d7562d8"
      },
      "execution_count": null,
      "outputs": [
        {
          "output_type": "stream",
          "name": "stdout",
          "text": [
            "True\n"
          ]
        }
      ]
    },
    {
      "cell_type": "code",
      "source": [
        "# for 반복문\n",
        "for i in range(5):\n",
        "  print(str(i) + \"=반복 변수\")\n",
        "print()\n",
        "\n",
        "for i in range(5, 10):\n",
        "  print(str(i) + \"=반복 변수\")\n",
        "print()\n",
        "\n",
        "for i in range(0, 10, 3):\n",
        "  print(str(i) + \"=반복 변수\")\n",
        "print()"
      ],
      "metadata": {
        "colab": {
          "base_uri": "https://localhost:8080/"
        },
        "id": "LrHzkJhxf-Ez",
        "outputId": "43b4f715-4bb8-4c64-b330-aec1eaa1d0f6"
      },
      "execution_count": null,
      "outputs": [
        {
          "output_type": "stream",
          "name": "stdout",
          "text": [
            "0=반복 변수\n",
            "1=반복 변수\n",
            "2=반복 변수\n",
            "3=반복 변수\n",
            "4=반복 변수\n",
            "\n",
            "5=반복 변수\n",
            "6=반복 변수\n",
            "7=반복 변수\n",
            "8=반복 변수\n",
            "9=반복 변수\n",
            "\n",
            "0=반복 변수\n",
            "3=반복 변수\n",
            "6=반복 변수\n",
            "9=반복 변수\n",
            "\n"
          ]
        }
      ]
    },
    {
      "cell_type": "code",
      "source": [
        "# for 반복문 (element, key로 반복하기)\n",
        "list_a = [1,2,3]\n",
        "\n",
        "for elem in list_a:\n",
        "  print(elem)\n",
        "print()\n",
        "\n",
        "dict_a = {\n",
        "    \"키A\" : 10,\n",
        "     \"키B\" : 20,\n",
        "     \"키C\" : 30,\n",
        "     1 : 40,\n",
        "     False: 50,\n",
        "     \"키D\" : ['망고', '설탕', '메타중아황산나트륨', '치자황색소']\n",
        "}\n",
        "\n",
        "for key in dict_a:\n",
        "  print(str(key), \" : \", str(dict_a[key]))"
      ],
      "metadata": {
        "colab": {
          "base_uri": "https://localhost:8080/"
        },
        "id": "VidlSN2ChssO",
        "outputId": "b8ad0583-3277-46fd-a792-22b5404fc3d4"
      },
      "execution_count": null,
      "outputs": [
        {
          "output_type": "stream",
          "name": "stdout",
          "text": [
            "1\n",
            "2\n",
            "3\n",
            "\n",
            "키A  :  10\n",
            "키B  :  20\n",
            "키C  :  30\n",
            "1  :  40\n",
            "False  :  50\n",
            "키D  :  ['망고', '설탕', '메타중아황산나트륨', '치자황색소']\n"
          ]
        }
      ]
    },
    {
      "cell_type": "code",
      "source": [
        "# while 반복문\n",
        "i = 0\n",
        "while i < 10:\n",
        "  print(f\"{i}번째 반복입니다.\")\n",
        "  i += 1"
      ],
      "metadata": {
        "colab": {
          "base_uri": "https://localhost:8080/"
        },
        "id": "VTMt56bNjIwr",
        "outputId": "fc9c2589-7fb3-47c6-e2cc-aef1329e255d"
      },
      "execution_count": null,
      "outputs": [
        {
          "output_type": "stream",
          "name": "stdout",
          "text": [
            "0번째 반복입니다.\n",
            "1번째 반복입니다.\n",
            "2번째 반복입니다.\n",
            "3번째 반복입니다.\n",
            "4번째 반복입니다.\n",
            "5번째 반복입니다.\n",
            "6번째 반복입니다.\n",
            "7번째 반복입니다.\n",
            "8번째 반복입니다.\n",
            "9번째 반복입니다.\n"
          ]
        }
      ]
    },
    {
      "cell_type": "code",
      "source": [
        "# while 반복문 break\n",
        "\n",
        "i = 0\n",
        "while True:\n",
        "  print(\"반복 중..\")\n",
        "  if (i != 0) & (i % 5 == 0):\n",
        "    break;\n",
        "  i += 1"
      ],
      "metadata": {
        "colab": {
          "base_uri": "https://localhost:8080/"
        },
        "id": "G-bhj9qWkLY7",
        "outputId": "c44020b1-a15f-4dd9-da97-9af39ca6fbb3"
      },
      "execution_count": null,
      "outputs": [
        {
          "output_type": "stream",
          "name": "stdout",
          "text": [
            "반복 중..\n",
            "반복 중..\n",
            "반복 중..\n",
            "반복 중..\n",
            "반복 중..\n",
            "반복 중..\n"
          ]
        }
      ]
    },
    {
      "cell_type": "code",
      "source": [
        "# 함수 기본 형태\n",
        "def 함수이름(매개변수, 매개변수, ...):\n",
        "    문장"
      ],
      "metadata": {
        "id": "6-NPEu7lk52F"
      },
      "execution_count": null,
      "outputs": []
    },
    {
      "cell_type": "code",
      "source": [
        "# 리턴값이 없는 형태\n",
        "def print_n_times(n, *values, flush=False):\n",
        "  for i in range(n):\n",
        "    for value in values:\n",
        "      print(value)\n",
        "    print()\n",
        "  \n",
        "print_n_times(3, \"안녕하세요\", \"즐거운\", \"파이썬 프로그래밍\")"
      ],
      "metadata": {
        "colab": {
          "base_uri": "https://localhost:8080/"
        },
        "id": "dE71LpGCnQ-k",
        "outputId": "fc02324b-b00c-4873-dcde-fbbe70987e8e"
      },
      "execution_count": null,
      "outputs": [
        {
          "output_type": "stream",
          "name": "stdout",
          "text": [
            "안녕하세요\n",
            "즐거운\n",
            "파이썬 프로그래밍\n",
            "\n",
            "안녕하세요\n",
            "즐거운\n",
            "파이썬 프로그래밍\n",
            "\n",
            "안녕하세요\n",
            "즐거운\n",
            "파이썬 프로그래밍\n",
            "\n"
          ]
        }
      ]
    },
    {
      "cell_type": "code",
      "source": [
        "# 리턴값이 있는 형태\n",
        "def sum_all(start=0, end=100, step=1):\n",
        "  output = 0\n",
        "  for i in range(start, end+1, step):\n",
        "    output += i\n",
        "    \n",
        "  return output\n",
        "\n",
        "print(\"A : \", sum_all(0,100,10))\n",
        "print(\"B : \", sum_all(end=100))\n",
        "print(\"C : \", sum_all(end=100, step=2))"
      ],
      "metadata": {
        "colab": {
          "base_uri": "https://localhost:8080/"
        },
        "id": "1cnz4VpUnwGB",
        "outputId": "a483747b-6474-401d-c37b-86fe9539834d"
      },
      "execution_count": null,
      "outputs": [
        {
          "output_type": "stream",
          "name": "stdout",
          "text": [
            "A :  550\n",
            "B :  5050\n",
            "C :  2550\n"
          ]
        }
      ]
    },
    {
      "cell_type": "code",
      "source": [
        "# 클래스\n",
        "class Rectangle:\n",
        "  count = 0         # 클래스 변수\n",
        "\n",
        "  def __init__(self, width, height):\n",
        "    self.width = width\n",
        "    self.height = height\n",
        "    self._area = width * height\n",
        "    Rectangle.count += 1\n",
        "  \n",
        "  # 인스턴스 메소드\n",
        "  def calcArea(self):\n",
        "    area = self.width * self.height\n",
        "    return area\n",
        "\n",
        "  @staticmethod\n",
        "  def isSquare(rectWidth, rectHeight):\n",
        "    return rectWidth == rectHeight\n",
        "  \n",
        "  @classmethod\n",
        "  def printCount(cls):\n",
        "    print(cls.count)"
      ],
      "metadata": {
        "id": "nnNMEiI206WG"
      },
      "execution_count": null,
      "outputs": []
    },
    {
      "cell_type": "code",
      "source": [
        "square = Rectangle.isSquare(5,5)\n",
        "print(square)\n",
        "\n",
        "rect1 = Rectangle(5,5)\n",
        "rect2 = Rectangle(2,5)\n",
        "rect1.printCount()"
      ],
      "metadata": {
        "id": "d6G6UF-C1tdZ"
      },
      "execution_count": null,
      "outputs": []
    },
    {
      "cell_type": "code",
      "source": [],
      "metadata": {
        "id": "G1Ozkj_e14ZM"
      },
      "execution_count": null,
      "outputs": []
    }
  ]
}