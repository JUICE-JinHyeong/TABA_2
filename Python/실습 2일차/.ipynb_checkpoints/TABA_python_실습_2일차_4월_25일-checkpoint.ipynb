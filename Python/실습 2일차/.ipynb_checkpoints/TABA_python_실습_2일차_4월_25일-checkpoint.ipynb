{
 "cells": [
  {
   "cell_type": "code",
   "execution_count": 2,
   "metadata": {
    "id": "2sutb5CJDtBA"
   },
   "outputs": [],
   "source": [
    "# MNIST\n",
    "# 런타임 -> 런타임 유형 변경 -> GPU"
   ]
  },
  {
   "cell_type": "code",
   "execution_count": 2,
   "metadata": {
    "id": "AIoIJ7H6Dz03"
   },
   "outputs": [
    {
     "ename": "ImportError",
     "evalue": "DLL load failed while importing _path: 지정된 모듈을 찾을 수 없습니다.",
     "output_type": "error",
     "traceback": [
      "\u001b[1;31m---------------------------------------------------------------------------\u001b[0m",
      "\u001b[1;31mImportError\u001b[0m                               Traceback (most recent call last)",
      "Cell \u001b[1;32mIn[2], line 3\u001b[0m\n\u001b[0;32m      1\u001b[0m \u001b[38;5;28;01mimport\u001b[39;00m \u001b[38;5;21;01mtorch\u001b[39;00m\n\u001b[0;32m      2\u001b[0m \u001b[38;5;28;01mimport\u001b[39;00m \u001b[38;5;21;01mnumpy\u001b[39;00m \u001b[38;5;28;01mas\u001b[39;00m \u001b[38;5;21;01mnp\u001b[39;00m\n\u001b[1;32m----> 3\u001b[0m \u001b[38;5;28;01mimport\u001b[39;00m \u001b[38;5;21;01mmatplotlib\u001b[39;00m\u001b[38;5;21;01m.\u001b[39;00m\u001b[38;5;21;01mpyplot\u001b[39;00m \u001b[38;5;28;01mas\u001b[39;00m \u001b[38;5;21;01mplt\u001b[39;00m\n\u001b[0;32m      4\u001b[0m \u001b[38;5;28;01mimport\u001b[39;00m \u001b[38;5;21;01mtorchvision\u001b[39;00m\u001b[38;5;21;01m.\u001b[39;00m\u001b[38;5;21;01mtransforms\u001b[39;00m \u001b[38;5;28;01mas\u001b[39;00m \u001b[38;5;21;01mtransforms\u001b[39;00m\n\u001b[0;32m      6\u001b[0m \u001b[38;5;28;01mfrom\u001b[39;00m \u001b[38;5;21;01mtorchvision\u001b[39;00m\u001b[38;5;21;01m.\u001b[39;00m\u001b[38;5;21;01mdatasets\u001b[39;00m \u001b[38;5;28;01mimport\u001b[39;00m MNIST\n",
      "File \u001b[1;32m~\\anaconda3\\lib\\site-packages\\matplotlib\\pyplot.py:52\u001b[0m\n\u001b[0;32m     50\u001b[0m \u001b[38;5;28;01mfrom\u001b[39;00m \u001b[38;5;21;01mcycler\u001b[39;00m \u001b[38;5;28;01mimport\u001b[39;00m cycler\n\u001b[0;32m     51\u001b[0m \u001b[38;5;28;01mimport\u001b[39;00m \u001b[38;5;21;01mmatplotlib\u001b[39;00m\n\u001b[1;32m---> 52\u001b[0m \u001b[38;5;28;01mimport\u001b[39;00m \u001b[38;5;21;01mmatplotlib\u001b[39;00m\u001b[38;5;21;01m.\u001b[39;00m\u001b[38;5;21;01mcolorbar\u001b[39;00m\n\u001b[0;32m     53\u001b[0m \u001b[38;5;28;01mimport\u001b[39;00m \u001b[38;5;21;01mmatplotlib\u001b[39;00m\u001b[38;5;21;01m.\u001b[39;00m\u001b[38;5;21;01mimage\u001b[39;00m\n\u001b[0;32m     54\u001b[0m \u001b[38;5;28;01mfrom\u001b[39;00m \u001b[38;5;21;01mmatplotlib\u001b[39;00m \u001b[38;5;28;01mimport\u001b[39;00m _api\n",
      "File \u001b[1;32m~\\anaconda3\\lib\\site-packages\\matplotlib\\colorbar.py:19\u001b[0m\n\u001b[0;32m     16\u001b[0m \u001b[38;5;28;01mimport\u001b[39;00m \u001b[38;5;21;01mnumpy\u001b[39;00m \u001b[38;5;28;01mas\u001b[39;00m \u001b[38;5;21;01mnp\u001b[39;00m\n\u001b[0;32m     18\u001b[0m \u001b[38;5;28;01mimport\u001b[39;00m \u001b[38;5;21;01mmatplotlib\u001b[39;00m \u001b[38;5;28;01mas\u001b[39;00m \u001b[38;5;21;01mmpl\u001b[39;00m\n\u001b[1;32m---> 19\u001b[0m \u001b[38;5;28;01mfrom\u001b[39;00m \u001b[38;5;21;01mmatplotlib\u001b[39;00m \u001b[38;5;28;01mimport\u001b[39;00m _api, cbook, collections, cm, colors, contour, ticker\n\u001b[0;32m     20\u001b[0m \u001b[38;5;28;01mimport\u001b[39;00m \u001b[38;5;21;01mmatplotlib\u001b[39;00m\u001b[38;5;21;01m.\u001b[39;00m\u001b[38;5;21;01martist\u001b[39;00m \u001b[38;5;28;01mas\u001b[39;00m \u001b[38;5;21;01mmartist\u001b[39;00m\n\u001b[0;32m     21\u001b[0m \u001b[38;5;28;01mimport\u001b[39;00m \u001b[38;5;21;01mmatplotlib\u001b[39;00m\u001b[38;5;21;01m.\u001b[39;00m\u001b[38;5;21;01mpatches\u001b[39;00m \u001b[38;5;28;01mas\u001b[39;00m \u001b[38;5;21;01mmpatches\u001b[39;00m\n",
      "File \u001b[1;32m~\\anaconda3\\lib\\site-packages\\matplotlib\\collections.py:19\u001b[0m\n\u001b[0;32m     16\u001b[0m \u001b[38;5;28;01mimport\u001b[39;00m \u001b[38;5;21;01mnumpy\u001b[39;00m \u001b[38;5;28;01mas\u001b[39;00m \u001b[38;5;21;01mnp\u001b[39;00m\n\u001b[0;32m     18\u001b[0m \u001b[38;5;28;01mimport\u001b[39;00m \u001b[38;5;21;01mmatplotlib\u001b[39;00m \u001b[38;5;28;01mas\u001b[39;00m \u001b[38;5;21;01mmpl\u001b[39;00m\n\u001b[1;32m---> 19\u001b[0m \u001b[38;5;28;01mfrom\u001b[39;00m \u001b[38;5;21;01m.\u001b[39;00m \u001b[38;5;28;01mimport\u001b[39;00m (_api, _path, artist, cbook, cm, colors \u001b[38;5;28;01mas\u001b[39;00m mcolors, _docstring,\n\u001b[0;32m     20\u001b[0m                hatch \u001b[38;5;28;01mas\u001b[39;00m mhatch, lines \u001b[38;5;28;01mas\u001b[39;00m mlines, path \u001b[38;5;28;01mas\u001b[39;00m mpath, transforms)\n\u001b[0;32m     21\u001b[0m \u001b[38;5;28;01mfrom\u001b[39;00m \u001b[38;5;21;01m.\u001b[39;00m\u001b[38;5;21;01m_enums\u001b[39;00m \u001b[38;5;28;01mimport\u001b[39;00m JoinStyle, CapStyle\n\u001b[0;32m     24\u001b[0m \u001b[38;5;66;03m# \"color\" is excluded; it is a compound setter, and its docstring differs\u001b[39;00m\n\u001b[0;32m     25\u001b[0m \u001b[38;5;66;03m# in LineCollection.\u001b[39;00m\n",
      "\u001b[1;31mImportError\u001b[0m: DLL load failed while importing _path: 지정된 모듈을 찾을 수 없습니다."
     ]
    }
   ],
   "source": [
    "import torch\n",
    "import numpy as np\n",
    "import matplotlib.pyplot as plt\n",
    "import torchvision.transforms as transforms\n",
    "\n",
    "from torchvision.datasets import MNIST\n",
    "from torch.utils.data import DataLoader\n",
    "\n",
    "from torch import nn\n"
   ]
  },
  {
   "cell_type": "code",
   "execution_count": 61,
   "metadata": {
    "colab": {
     "base_uri": "https://localhost:8080/"
    },
    "id": "U1xvErfbEhsb",
    "outputId": "81d3bb19-2fdc-4e42-a652-2c9c6e47d8ad"
   },
   "outputs": [
    {
     "data": {
      "text/plain": [
       "True"
      ]
     },
     "execution_count": 61,
     "metadata": {},
     "output_type": "execute_result"
    }
   ],
   "source": [
    "# GPU 되는지 확인\n",
    "torch.cuda.is_available()"
   ]
  },
  {
   "cell_type": "code",
   "execution_count": 62,
   "metadata": {
    "id": "d04Akb2cEjSc"
   },
   "outputs": [],
   "source": [
    "device = torch.device('cuda')"
   ]
  },
  {
   "cell_type": "code",
   "execution_count": 63,
   "metadata": {
    "id": "xmaIaeOFE3vT"
   },
   "outputs": [],
   "source": [
    "train_dataset = MNIST(root = 'MNIST_data/' , train = True , transform=transforms.ToTensor(), download=True)\n",
    "train_dataset = MNIST(root = 'MNIST_data/' , train = True , transform=transforms.ToTensor(), download=True)"
   ]
  },
  {
   "cell_type": "code",
   "execution_count": 64,
   "metadata": {
    "colab": {
     "base_uri": "https://localhost:8080/"
    },
    "id": "AygdgR3ZFV-X",
    "outputId": "a7cdac01-34a0-4005-e375-4f13c8f6652c"
   },
   "outputs": [
    {
     "name": "stdout",
     "output_type": "stream",
     "text": [
      "Dataset MNIST\n",
      "    Number of datapoints: 60000\n",
      "    Root location: MNIST_data/\n",
      "    Split: Train\n",
      "    StandardTransform\n",
      "Transform: ToTensor()\n"
     ]
    }
   ],
   "source": [
    "print(train_dataset)"
   ]
  },
  {
   "cell_type": "code",
   "execution_count": 65,
   "metadata": {
    "id": "LZR549GGFj3Q"
   },
   "outputs": [],
   "source": [
    "# Datalodaer 생성\n",
    "\n",
    "train_loader = DataLoader(dataset = train_dataset ,\n",
    "                           batch_size = 128 ,shuffle = True)\n",
    "train_loader = DataLoader(dataset = train_dataset ,\n",
    "                           batch_size = 128 ,shuffle = True)"
   ]
  },
  {
   "cell_type": "code",
   "execution_count": 66,
   "metadata": {
    "id": "Csyzy4QbF69P"
   },
   "outputs": [],
   "source": []
  },
  {
   "cell_type": "markdown",
   "metadata": {
    "id": "zVaWbmWaGRl7"
   },
   "source": [
    "# Tensor"
   ]
  },
  {
   "cell_type": "code",
   "execution_count": 67,
   "metadata": {
    "id": "LvUZHhOaGDiS"
   },
   "outputs": [],
   "source": [
    "# Numpy > Tensor\n",
    "\n",
    "z = torch.empty(5,2)"
   ]
  },
  {
   "cell_type": "code",
   "execution_count": 68,
   "metadata": {
    "colab": {
     "base_uri": "https://localhost:8080/"
    },
    "id": "RSni4gXyGlDc",
    "outputId": "a4f45a91-a70d-4344-d498-300259c0b66a"
   },
   "outputs": [
    {
     "name": "stdout",
     "output_type": "stream",
     "text": [
      "torch.Size([5, 2])\n"
     ]
    }
   ],
   "source": [
    "print(z.shape)"
   ]
  },
  {
   "cell_type": "code",
   "execution_count": 69,
   "metadata": {
    "colab": {
     "base_uri": "https://localhost:8080/"
    },
    "id": "1r32026uGvfe",
    "outputId": "b04a5e51-6ecd-49ad-d413-ed3cb971ed59"
   },
   "outputs": [
    {
     "name": "stdout",
     "output_type": "stream",
     "text": [
      "[[1. 1.]\n",
      " [1. 1.]\n",
      " [1. 1.]\n",
      " [1. 1.]\n",
      " [1. 1.]]\n",
      "tensor([[1., 1.],\n",
      "        [1., 1.],\n",
      "        [1., 1.],\n",
      "        [1., 1.],\n",
      "        [1., 1.]], dtype=torch.float64) torch.Size([5, 2])\n"
     ]
    }
   ],
   "source": [
    "a = np.ones((5,2))\n",
    "print(a)\n",
    "\n",
    "# tensor로 변환\n",
    "\n",
    "b = torch.from_numpy(a)\n",
    "print(b, b.shape)"
   ]
  },
  {
   "cell_type": "code",
   "execution_count": 70,
   "metadata": {
    "colab": {
     "base_uri": "https://localhost:8080/"
    },
    "id": "PvgxvGMMHB4y",
    "outputId": "b4f5e4c1-356f-42f8-9416-12be8ff00854"
   },
   "outputs": [
    {
     "name": "stdout",
     "output_type": "stream",
     "text": [
      "[[1. 1.]\n",
      " [1. 1.]\n",
      " [1. 1.]\n",
      " [1. 1.]\n",
      " [1. 1.]]\n"
     ]
    }
   ],
   "source": [
    "# tensor > numpy\n",
    "numpy_arr = b.numpy()\n",
    "print(numpy_arr)"
   ]
  },
  {
   "cell_type": "code",
   "execution_count": 71,
   "metadata": {
    "id": "12_tsjxAHKcr"
   },
   "outputs": [],
   "source": [
    "# MNIST 데이터 셋을 확인"
   ]
  },
  {
   "cell_type": "code",
   "execution_count": 72,
   "metadata": {
    "colab": {
     "base_uri": "https://localhost:8080/",
     "height": 448
    },
    "id": "9BIYdp8FHQNz",
    "outputId": "8926d199-ab2c-42da-f6b5-261649400583"
   },
   "outputs": [
    {
     "name": "stdout",
     "output_type": "stream",
     "text": [
      "img shape =  (1, 28, 28)\n"
     ]
    },
    {
     "data": {
      "image/png": "[encoded data removed]",
      "text/plain": [
       "<Figure size 640x480 with 1 Axes>"
      ]
     },
     "metadata": {},
     "output_type": "display_data"
    }
   ],
   "source": [
    "# 하나의 이미지만 가져오기\n",
    "img = train_dataset[0][0].numpy()\n",
    "print('img shape = ' , img.shape)\n",
    "plt.imshow(img[0 ], cmap = 'gray')\n",
    "plt.show()\n"
   ]
  },
  {
   "cell_type": "code",
   "execution_count": 73,
   "metadata": {
    "id": "5Tj9OrCaHt0i"
   },
   "outputs": [],
   "source": [
    "# 모델 만들기"
   ]
  },
  {
   "cell_type": "code",
   "execution_count": 114,
   "metadata": {
    "id": "VL3by2KLHzVc"
   },
   "outputs": [],
   "source": [
    "# sequential\n",
    "\n",
    "mnist_fo_model = nn.Sequential(\n",
    "    nn.Flatten(),\n",
    "    nn.Linear(in_features=28*28*1 , out_features=256) ,\n",
    "    nn.Sigmoid(),\n",
    "    nn.Linear(in_features=256 , out_features=10) ,\n",
    "    nn.Softmax()\n",
    ")"
   ]
  },
  {
   "cell_type": "code",
   "execution_count": 115,
   "metadata": {
    "colab": {
     "base_uri": "https://localhost:8080/"
    },
    "id": "1RuvIg9mIh6-",
    "outputId": "3c49a215-bb78-4090-a27a-43d0bd2918be"
   },
   "outputs": [
    {
     "data": {
      "text/plain": [
       "Sequential(\n",
       "  (0): Flatten(start_dim=1, end_dim=-1)\n",
       "  (1): Linear(in_features=784, out_features=256, bias=True)\n",
       "  (2): Sigmoid()\n",
       "  (3): Linear(in_features=256, out_features=10, bias=True)\n",
       "  (4): Softmax(dim=None)\n",
       ")"
      ]
     },
     "execution_count": 115,
     "metadata": {},
     "output_type": "execute_result"
    }
   ],
   "source": [
    "# device\n",
    "# 모델을 device로 전달\n",
    "# cpu에 만들어지고 gpu로 넘겨서 연산을 하도록 한다.\n",
    "\n",
    "mnist_fo_model.to(device)"
   ]
  },
  {
   "cell_type": "code",
   "execution_count": 137,
   "metadata": {
    "id": "p_ErhgiVIecu"
   },
   "outputs": [],
   "source": [
    "# pass는 디버깅\n",
    "\n",
    "from  torch import optim\n",
    "\n",
    "# time 패키지\n",
    "\n",
    "import time\n",
    "\n",
    "\n",
    "def train(model, train_loader) :\n",
    "  # 시간 재기 시작\n",
    "  start_time = time.time()\n",
    "\n",
    "  epoche = 10\n",
    "  optimizer = optim.Adam(model.parameters() ,  lr = 0.0001)\n",
    "  criterion = nn.CrossEntropyLoss()\n",
    "\n",
    "  for epoch in range(epoche) :\n",
    "    # model 학습이 가능하도록 모드를 변경\n",
    "    model.train()\n",
    "    print(f\"epochs :{str(epoch+1)}/{str(epoche)}\")\n",
    "\n",
    "    for samples in train_loader :\n",
    "        x_t , y_t = samples\n",
    "        # print('pass 01 ')\n",
    "        # 데이터를 cuda(gpu)로 보낸다\n",
    "        x_t, y_t = x_t.to(device) , y_t.to(device)\n",
    "        # print('pass 02 ')\n",
    "        # predict\n",
    "        pred = model(x_t)\n",
    "        # print('pass 03 ')\n",
    "        # loss 구하기\n",
    "        loss = criterion(pred , y_t)\n",
    "        # print('pass 04 ')\n",
    "        # optimizer를 이용해서 학습\n",
    "        optimizer.zero_grad()\n",
    "        # print('pass 05 ')\n",
    "        # 역전파 # 기울기 구하기\n",
    "        loss.backward()\n",
    "        # print('pass 06 ')\n",
    "        # 기울기 적용\n",
    "        optimizer.step()\n",
    "        # print('pass 07 ') \n",
    "        # 하나의 epoch에 대해 학습이 끝난 후\n",
    "\n",
    "     # 모델 평가\n",
    "    model.eval()\n",
    "    # print('pass eval')\n",
    "    correct = 0\n",
    "    for samples in train_loader :\n",
    "      xx , yy = samples \n",
    "      # print('pass sample')\n",
    "      xx, yy = xx.to(device) , yy.to(device)\n",
    "      # print('pass device')\n",
    "      pred = model(xx) #  모델 predict\n",
    "      # print('predict')\n",
    "      _, predicted = torch.max(pred, 1)\n",
    "      correct += predicted.eq(yy.data).sum()\n",
    "      # print('pass correct')\n",
    "    #print('loop end pass')\n",
    "    print(f'train_accuracy : {(100 * correct / len(train_loader.dataset)).item()}')\n",
    "\n",
    "  # 시간 재기 끝\n",
    "  end_time = time.time()\n",
    "  지난시간 = end_time - start_time\n",
    "  분 = int(지난시간 // 60 )\n",
    "  초 = int(지난시간 ** 60)\n",
    "\n",
    "  print(f'학습 시간 : {분}분 {초}초')\n"
   ]
  },
  {
   "cell_type": "code",
   "execution_count": 88,
   "metadata": {
    "colab": {
     "base_uri": "https://localhost:8080/"
    },
    "id": "tBzVfopyLEY3",
    "outputId": "78ea2946-c82c-4cb9-9223-b838b5186fd5"
   },
   "outputs": [
    {
     "name": "stdout",
     "output_type": "stream",
     "text": [
      "epochs :1/10\n",
      "train_accuracy : 93.06999969482422\n",
      "epochs :2/10\n",
      "train_accuracy : 93.19667053222656\n",
      "epochs :3/10\n",
      "train_accuracy : 93.37833404541016\n",
      "epochs :4/10\n",
      "train_accuracy : 93.51667022705078\n",
      "epochs :5/10\n",
      "train_accuracy : 93.66333770751953\n",
      "epochs :6/10\n",
      "train_accuracy : 93.79000091552734\n",
      "epochs :7/10\n",
      "train_accuracy : 93.93333435058594\n",
      "epochs :8/10\n",
      "train_accuracy : 94.04499816894531\n",
      "epochs :9/10\n",
      "train_accuracy : 94.17666625976562\n",
      "epochs :10/10\n",
      "train_accuracy : 94.26499938964844\n"
     ]
    }
   ],
   "source": [
    "train(mnist_fo_model , train_loader)"
   ]
  },
  {
   "cell_type": "code",
   "execution_count": 89,
   "metadata": {
    "id": "k_uMLwWRXYSN"
   },
   "outputs": [],
   "source": [
    "# 우리가 만든 모델의 복잡도 알아보기"
   ]
  },
  {
   "cell_type": "code",
   "execution_count": 90,
   "metadata": {
    "id": "0Nbzk3UtMNnZ"
   },
   "outputs": [],
   "source": [
    "# 모델의 복잡도 판단\n",
    "# 훈련가능한 파라미터\n",
    " # 훈련가능하지 않은 파라미터"
   ]
  },
  {
   "cell_type": "code",
   "execution_count": 112,
   "metadata": {
    "id": "did9HeF_nbpY"
   },
   "outputs": [],
   "source": [
    "def 복잡도계산(model) :\n",
    "  pp = 0 \n",
    "  # 모델에서 ㅍ파라미터를 하나씩 불러온다\n",
    "  for p in list(model.parameters()) :\n",
    "    nn = 1\n",
    "    # 각 파라미터의 수를 더해준다\n",
    "    for a in list(p.size()) :\n",
    "      nn = nn * a\n",
    "    pp += nn\n",
    "  return pp\n",
    "\n",
    "\n",
    " "
   ]
  },
  {
   "cell_type": "code",
   "execution_count": 93,
   "metadata": {
    "colab": {
     "base_uri": "https://localhost:8080/"
    },
    "id": "_f_qqka1ncJ9",
    "outputId": "66c7ced7-b37c-4583-ef56-e281e2e7c3dd"
   },
   "outputs": [
    {
     "data": {
      "text/plain": [
       "203530"
      ]
     },
     "execution_count": 93,
     "metadata": {},
     "output_type": "execute_result"
    }
   ],
   "source": [
    "복잡도계산(mnist_fo_model)"
   ]
  },
  {
   "cell_type": "code",
   "execution_count": 90,
   "metadata": {
    "id": "SzaU1hWxncMu"
   },
   "outputs": [],
   "source": []
  },
  {
   "cell_type": "markdown",
   "metadata": {
    "id": "3rE5_aGZoQOO"
   },
   "source": [
    "# cnn 이용하여 모델  설계\n",
    "\n",
    "cnn 합성곱연사을 이용한 모델\n",
    "이미지에서 사용"
   ]
  },
  {
   "cell_type": "code",
   "execution_count": 109,
   "metadata": {
    "id": "_TnfLfLHncO0"
   },
   "outputs": [],
   "source": [
    "mnist_cnn_model = nn.Sequential(\n",
    "    # input 1x28x28\n",
    "    nn.Conv2d(in_channels=1, out_channels=4, kernel_size=3, stride=1, padding=0),\n",
    "    nn.ReLU(),\n",
    "    nn.Conv2d(in_channels=4, out_channels=8, kernel_size=3, stride=1, padding=0),\n",
    "    nn.ReLU(),\n",
    "    # ===== convolution layer 2개 완성 =====\n",
    "    nn.Flatten(),\n",
    "    nn.Linear(in_features=24*24*8, out_features=48),\n",
    "    nn.Sigmoid(),\n",
    "    nn.Linear(in_features=48, out_features=10),\n",
    "    nn.Softmax()\n",
    ")"
   ]
  },
  {
   "cell_type": "code",
   "execution_count": 117,
   "metadata": {
    "colab": {
     "base_uri": "https://localhost:8080/"
    },
    "id": "2KPoM_6TncRG",
    "outputId": "865380b9-fb15-4e13-8d2f-fce34655af2e"
   },
   "outputs": [
    {
     "data": {
      "text/plain": [
       "203530"
      ]
     },
     "execution_count": 117,
     "metadata": {},
     "output_type": "execute_result"
    }
   ],
   "source": [
    "복잡도계산(mnist_fo_model)"
   ]
  },
  {
   "cell_type": "code",
   "execution_count": 118,
   "metadata": {
    "colab": {
     "base_uri": "https://localhost:8080/"
    },
    "id": "HND7jHFZvkEh",
    "outputId": "6e1daed1-0ba9-41da-c8c1-81ed30c0f113"
   },
   "outputs": [
    {
     "name": "stdout",
     "output_type": "stream",
     "text": [
      "epochs :1/10\n",
      "train_accuracy : 69.99666595458984\n",
      "epochs :2/10\n",
      "train_accuracy : 80.9816665649414\n",
      "epochs :3/10\n",
      "train_accuracy : 82.96500396728516\n",
      "epochs :4/10\n",
      "train_accuracy : 84.2300033569336\n",
      "epochs :5/10\n",
      "train_accuracy : 90.04833221435547\n",
      "epochs :6/10\n",
      "train_accuracy : 91.14500427246094\n",
      "epochs :7/10\n",
      "train_accuracy : 91.8933334350586\n",
      "epochs :8/10\n",
      "train_accuracy : 92.55000305175781\n",
      "epochs :9/10\n",
      "train_accuracy : 93.11000061035156\n",
      "epochs :10/10\n",
      "train_accuracy : 93.57833099365234\n"
     ]
    }
   ],
   "source": [
    "# gpu에 모델을 넣어줌\n",
    "mnist_cnn_model.to(device)\n",
    "# 학습\n",
    "train(mnist_cnn_model, train_loader)"
   ]
  },
  {
   "cell_type": "code",
   "execution_count": 95,
   "metadata": {
    "id": "i6kDp0hkncTM"
   },
   "outputs": [],
   "source": [
    "#  Le Net 이라는 검증된 네트워크를 만들어보자\n"
   ]
  },
  {
   "cell_type": "code",
   "execution_count": 104,
   "metadata": {
    "id": "2Y-0h_vuncVd"
   },
   "outputs": [],
   "source": [
    "import torch.nn.functional as r\n",
    "\n",
    "lenet = nn.Sequential(\n",
    "    nn.Conv2d(in_channels = 1 , out_channels = 6 , kernel_size = 5 , stride = 1) ,\n",
    "    nn.Tanh(),\n",
    "    nn.AvgPool2d(kernel_size = 2) ,\n",
    "    nn.Conv2d(in_channels = 6 , out_channels = 16 , kernel_size = 5 , stride = 1) ,\n",
    "    nn.Tanh(),\n",
    "    nn.AvgPool2d(kernel_size = 2) ,\n",
    "    nn.Conv2d(in_channels = 16 , out_channels = 120 , kernel_size = 4, stride = 1) ,\n",
    "    nn.Tanh(),\n",
    "    nn.Flatten(),\n",
    "    nn.Linear(in_features=120 , out_features=84) ,\n",
    "    nn.Tanh() ,\n",
    "    nn.Linear(in_features= 84 , out_features=10),\n",
    "    nn.Softmax()\n",
    "\n",
    ")"
   ]
  },
  {
   "cell_type": "code",
   "execution_count": null,
   "metadata": {
    "id": "EMF639jMtOrj"
   },
   "outputs": [],
   "source": [
    "복잡도계산()"
   ]
  },
  {
   "cell_type": "code",
   "execution_count": 105,
   "metadata": {
    "colab": {
     "base_uri": "https://localhost:8080/"
    },
    "id": "v6Q8OvJJsaeD",
    "outputId": "60957855-81cd-4185-c940-1c2b2e17895a"
   },
   "outputs": [
    {
     "name": "stdout",
     "output_type": "stream",
     "text": [
      "epochs :1/10\n"
     ]
    },
    {
     "name": "stderr",
     "output_type": "stream",
     "text": [
      "/usr/local/lib/python3.9/dist-packages/torch/nn/modules/container.py:217: UserWarning: Implicit dimension choice for softmax has been deprecated. Change the call to include dim=X as an argument.\n",
      "  input = module(input)\n"
     ]
    },
    {
     "name": "stdout",
     "output_type": "stream",
     "text": [
      "train_accuracy : 76.30833435058594\n",
      "epochs :2/10\n",
      "train_accuracy : 88.38333129882812\n",
      "epochs :3/10\n",
      "train_accuracy : 90.08833312988281\n",
      "epochs :4/10\n",
      "train_accuracy : 91.30500030517578\n",
      "epochs :5/10\n",
      "train_accuracy : 92.28500366210938\n",
      "epochs :6/10\n",
      "train_accuracy : 93.1066665649414\n",
      "epochs :7/10\n",
      "train_accuracy : 93.78333282470703\n",
      "epochs :8/10\n",
      "train_accuracy : 94.4433364868164\n",
      "epochs :9/10\n",
      "train_accuracy : 94.84333801269531\n",
      "epochs :10/10\n",
      "train_accuracy : 95.30500030517578\n"
     ]
    }
   ],
   "source": [
    "# gp에다가 모델을 넘겨주기 위함\n",
    "lenet.to(device)\n",
    "# 학습을 진행\n",
    "train(lenet , train_loader)\n",
    "\n",
    "\n"
   ]
  },
  {
   "cell_type": "code",
   "execution_count": 119,
   "metadata": {
    "colab": {
     "base_uri": "https://localhost:8080/"
    },
    "id": "PotvvuMstK1E",
    "outputId": "848cfcd6-8088-4d46-93ce-ab67f93c4361"
   },
   "outputs": [
    {
     "name": "stdout",
     "output_type": "stream",
     "text": [
      "----------------------------------------------------------------\n",
      "        Layer (type)               Output Shape         Param #\n",
      "================================================================\n",
      "            Conv2d-1            [-1, 6, 24, 24]             156\n",
      "              Tanh-2            [-1, 6, 24, 24]               0\n",
      "         AvgPool2d-3            [-1, 6, 12, 12]               0\n",
      "            Conv2d-4             [-1, 16, 8, 8]           2,416\n",
      "              Tanh-5             [-1, 16, 8, 8]               0\n",
      "         AvgPool2d-6             [-1, 16, 4, 4]               0\n",
      "            Conv2d-7            [-1, 120, 1, 1]          30,840\n",
      "              Tanh-8            [-1, 120, 1, 1]               0\n",
      "           Flatten-9                  [-1, 120]               0\n",
      "           Linear-10                   [-1, 84]          10,164\n",
      "             Tanh-11                   [-1, 84]               0\n",
      "           Linear-12                   [-1, 10]             850\n",
      "          Softmax-13                   [-1, 10]               0\n",
      "================================================================\n",
      "Total params: 44,426\n",
      "Trainable params: 44,426\n",
      "Non-trainable params: 0\n",
      "----------------------------------------------------------------\n",
      "Input size (MB): 0.00\n",
      "Forward/backward pass size (MB): 0.08\n",
      "Params size (MB): 0.17\n",
      "Estimated Total Size (MB): 0.25\n",
      "----------------------------------------------------------------\n"
     ]
    }
   ],
   "source": [
    "from torchsummary import summary\n",
    "summary(lenet , input_size = (1,28,28))"
   ]
  },
  {
   "cell_type": "code",
   "execution_count": 120,
   "metadata": {
    "id": "bbPZtyVVte_b"
   },
   "outputs": [],
   "source": [
    "\n",
    "# FashionMNIST\n"
   ]
  },
  {
   "cell_type": "code",
   "execution_count": 121,
   "metadata": {
    "id": "t2V9WQ4Y3xQw"
   },
   "outputs": [],
   "source": [
    "from torchvision.datasets import FashionMNIST\n",
    "from torchvision import transforms\n"
   ]
  },
  {
   "cell_type": "code",
   "execution_count": 123,
   "metadata": {
    "colab": {
     "base_uri": "https://localhost:8080/"
    },
    "id": "wtVWtgCV34Hf",
    "outputId": "3d72199f-7ec7-45fd-bb1e-21e70a03f628"
   },
   "outputs": [
    {
     "name": "stdout",
     "output_type": "stream",
     "text": [
      "Downloading http://fashion-mnist.s3-website.eu-central-1.amazonaws.com/train-images-idx3-ubyte.gz\n",
      "Downloading http://fashion-mnist.s3-website.eu-central-1.amazonaws.com/train-images-idx3-ubyte.gz to ./FashionMNIST/raw/train-images-idx3-ubyte.gz\n"
     ]
    },
    {
     "name": "stderr",
     "output_type": "stream",
     "text": [
      "100%|██████████| 26421880/26421880 [00:02<00:00, 12393112.93it/s]\n"
     ]
    },
    {
     "name": "stdout",
     "output_type": "stream",
     "text": [
      "Extracting ./FashionMNIST/raw/train-images-idx3-ubyte.gz to ./FashionMNIST/raw\n",
      "\n",
      "Downloading http://fashion-mnist.s3-website.eu-central-1.amazonaws.com/train-labels-idx1-ubyte.gz\n",
      "Downloading http://fashion-mnist.s3-website.eu-central-1.amazonaws.com/train-labels-idx1-ubyte.gz to ./FashionMNIST/raw/train-labels-idx1-ubyte.gz\n"
     ]
    },
    {
     "name": "stderr",
     "output_type": "stream",
     "text": [
      "100%|██████████| 29515/29515 [00:00<00:00, 207704.31it/s]\n"
     ]
    },
    {
     "name": "stdout",
     "output_type": "stream",
     "text": [
      "Extracting ./FashionMNIST/raw/train-labels-idx1-ubyte.gz to ./FashionMNIST/raw\n",
      "\n",
      "Downloading http://fashion-mnist.s3-website.eu-central-1.amazonaws.com/t10k-images-idx3-ubyte.gz\n",
      "Downloading http://fashion-mnist.s3-website.eu-central-1.amazonaws.com/t10k-images-idx3-ubyte.gz to ./FashionMNIST/raw/t10k-images-idx3-ubyte.gz\n"
     ]
    },
    {
     "name": "stderr",
     "output_type": "stream",
     "text": [
      "100%|██████████| 4422102/4422102 [00:01<00:00, 3887324.93it/s]\n"
     ]
    },
    {
     "name": "stdout",
     "output_type": "stream",
     "text": [
      "Extracting ./FashionMNIST/raw/t10k-images-idx3-ubyte.gz to ./FashionMNIST/raw\n",
      "\n",
      "Downloading http://fashion-mnist.s3-website.eu-central-1.amazonaws.com/t10k-labels-idx1-ubyte.gz\n",
      "Downloading http://fashion-mnist.s3-website.eu-central-1.amazonaws.com/t10k-labels-idx1-ubyte.gz to ./FashionMNIST/raw/t10k-labels-idx1-ubyte.gz\n"
     ]
    },
    {
     "name": "stderr",
     "output_type": "stream",
     "text": [
      "100%|██████████| 5148/5148 [00:00<00:00, 20067171.93it/s]"
     ]
    },
    {
     "name": "stdout",
     "output_type": "stream",
     "text": [
      "Extracting ./FashionMNIST/raw/t10k-labels-idx1-ubyte.gz to ./FashionMNIST/raw\n",
      "\n"
     ]
    },
    {
     "name": "stderr",
     "output_type": "stream",
     "text": [
      "\n"
     ]
    }
   ],
   "source": [
    "fashion_mnist_transforms = transforms.Compose([\n",
    "    transforms.ToTensor(), # tensor 형태로 변환\n",
    "    transforms.Resize(48) # 48 x 48 이미지로 변환\n",
    "])\n",
    "\n",
    "train_dataset = FashionMNIST('./' , transform = fashion_mnist_transforms , train = True , download = True)\n",
    "test_dataset = FashionMNIST('./' , transform = fashion_mnist_transforms , train = False , download = True)"
   ]
  },
  {
   "cell_type": "code",
   "execution_count": 126,
   "metadata": {
    "id": "ZUo0QYBL4Qgn"
   },
   "outputs": [],
   "source": [
    "train_loader = DataLoader(dataset = train_dataset\n",
    "                          , batch_size = 256\n",
    "                          , shuffle = True\n",
    "                          )\n",
    "test_loader = DataLoader(dataset = test_dataset\n",
    "                         , batch_size = 256\n",
    "                         , shuffle = True)"
   ]
  },
  {
   "cell_type": "code",
   "execution_count": 124,
   "metadata": {
    "id": "jmkxMb_55ErO"
   },
   "outputs": [],
   "source": []
  },
  {
   "cell_type": "markdown",
   "metadata": {
    "id": "DhuGZkGs5jaQ"
   },
   "source": [
    "# 모델 만들기\n",
    "총 7개의 convolution layer가 존재하도록 만들 것"
   ]
  },
  {
   "cell_type": "code",
   "execution_count": 134,
   "metadata": {
    "id": "xB6yo78U5Fne"
   },
   "outputs": [],
   "source": [
    "# 이미지 데이터 확인\n",
    "# train_dataset[0][0].shape\n",
    "\n",
    "\n",
    "from torch import nn\n",
    "import torch\n",
    "\n",
    "class SimpleConvNet1(nn.Module):\n",
    "  def __init__(self) :\n",
    "    # 초기화_\n",
    "    super().__init__() # 부모 클래스 초기화\n",
    "    # 선언\n",
    "    # 시작 아웃풋 = 다음 인풋\n",
    "    self.CNN = nn.Sequential(\n",
    "        # stage1\n",
    "        nn.Conv2d(in_channels=1, out_channels=16, kernel_size=3 , stride = 1 , padding = 1)\n",
    "        , nn.ReLU(True)\n",
    "        , nn.Conv2d(in_channels=16, out_channels=16, kernel_size=3 , stride = 1 , padding = 1)\n",
    "        , nn.ReLU(True)\n",
    "        , nn.MaxPool2d(kernel_size=2 , stride =2)\n",
    "\n",
    "        # stage2\n",
    "        , nn.Conv2d(in_channels=16, out_channels=32, kernel_size=3 , stride = 1 , padding = 1)\n",
    "        , nn.ReLU(True)\n",
    "        , nn.Conv2d(in_channels=32, out_channels=32, kernel_size=3 , stride = 1 , padding = 1)\n",
    "        , nn.ReLU(True)\n",
    "        , nn.MaxPool2d(kernel_size=2 , stride =2)\n",
    "\n",
    "        # stage3\n",
    "        , nn.Conv2d(in_channels=32, out_channels=64, kernel_size=3 , stride = 1 , padding = 1)\n",
    "        , nn.ReLU(True)\n",
    "        , nn.Conv2d(in_channels=64, out_channels=64, kernel_size=3 , stride = 1 , padding = 1)\n",
    "        , nn.ReLU(True)\n",
    "        , nn.Conv2d(in_channels=64, out_channels=64, kernel_size=3 , stride = 1 , padding = 'same')\n",
    "        , nn.ReLU(True)\n",
    "        , nn.MaxPool2d(kernel_size=4 , stride =4)\n",
    "    )\n",
    "\n",
    "    self.FC = nn.Sequential(\n",
    "        nn.Linear(64*3*3 , 256)\n",
    "        , nn.ReLU(True)\n",
    "        , nn.Dropout(p=0.2)\n",
    "        , nn.Linear(256 , 10)\n",
    "        , nn.Softmax()\n",
    "    )\n",
    "\n",
    "  # forward\n",
    "  def forward(self , inp) :\n",
    "    cnn_result = self.CNN(inp)\n",
    "    flatten = torch.flatten(cnn_result , 1)\n",
    "    fc_result = self.FC(flatten)\n",
    "    return fc_result"
   ]
  },
  {
   "cell_type": "code",
   "execution_count": 135,
   "metadata": {
    "id": "hGpDTQdM5FvZ"
   },
   "outputs": [],
   "source": [
    "convent1 = SimpleConvNet1()"
   ]
  },
  {
   "cell_type": "code",
   "execution_count": 138,
   "metadata": {
    "colab": {
     "base_uri": "https://localhost:8080/"
    },
    "id": "KumdNYCa5FwW",
    "outputId": "835ce58a-3641-4f81-a1d1-8c332d86ec28"
   },
   "outputs": [
    {
     "name": "stdout",
     "output_type": "stream",
     "text": [
      "----------------------------------------------------------------\n",
      "        Layer (type)               Output Shape         Param #\n",
      "================================================================\n",
      "            Conv2d-1           [-1, 16, 48, 48]             160\n",
      "              ReLU-2           [-1, 16, 48, 48]               0\n",
      "            Conv2d-3           [-1, 16, 48, 48]           2,320\n",
      "              ReLU-4           [-1, 16, 48, 48]               0\n",
      "         MaxPool2d-5           [-1, 16, 24, 24]               0\n",
      "            Conv2d-6           [-1, 32, 24, 24]           4,640\n",
      "              ReLU-7           [-1, 32, 24, 24]               0\n",
      "            Conv2d-8           [-1, 32, 24, 24]           9,248\n",
      "              ReLU-9           [-1, 32, 24, 24]               0\n",
      "        MaxPool2d-10           [-1, 32, 12, 12]               0\n",
      "           Conv2d-11           [-1, 64, 12, 12]          18,496\n",
      "             ReLU-12           [-1, 64, 12, 12]               0\n",
      "           Conv2d-13           [-1, 64, 12, 12]          36,928\n",
      "             ReLU-14           [-1, 64, 12, 12]               0\n",
      "           Conv2d-15           [-1, 64, 12, 12]          36,928\n",
      "             ReLU-16           [-1, 64, 12, 12]               0\n",
      "        MaxPool2d-17             [-1, 64, 3, 3]               0\n",
      "           Linear-18                  [-1, 256]         147,712\n",
      "             ReLU-19                  [-1, 256]               0\n",
      "          Dropout-20                  [-1, 256]               0\n",
      "           Linear-21                   [-1, 10]           2,570\n",
      "          Softmax-22                   [-1, 10]               0\n",
      "================================================================\n",
      "Total params: 259,002\n",
      "Trainable params: 259,002\n",
      "Non-trainable params: 0\n",
      "----------------------------------------------------------------\n",
      "Input size (MB): 0.01\n",
      "Forward/backward pass size (MB): 2.23\n",
      "Params size (MB): 0.99\n",
      "Estimated Total Size (MB): 3.22\n",
      "----------------------------------------------------------------\n"
     ]
    },
    {
     "name": "stderr",
     "output_type": "stream",
     "text": [
      "/usr/local/lib/python3.9/dist-packages/torch/nn/modules/container.py:217: UserWarning: Implicit dimension choice for softmax has been deprecated. Change the call to include dim=X as an argument.\n",
      "  input = module(input)\n"
     ]
    }
   ],
   "source": [
    "convent1.to(device)\n",
    "summary(convent1 , input_size = (1,48,48))"
   ]
  },
  {
   "cell_type": "code",
   "execution_count": 141,
   "metadata": {
    "colab": {
     "base_uri": "https://localhost:8080/"
    },
    "id": "_411jHyR5FxG",
    "outputId": "7429117d-d4b5-481c-a5b0-ef87d4749716"
   },
   "outputs": [
    {
     "name": "stdout",
     "output_type": "stream",
     "text": [
      "epochs :1/10\n"
     ]
    },
    {
     "name": "stderr",
     "output_type": "stream",
     "text": [
      "/usr/local/lib/python3.9/dist-packages/torchvision/transforms/functional.py:1603: UserWarning: The default value of the antialias parameter of all the resizing transforms (Resize(), RandomResizedCrop(), etc.) will change from None to True in v0.17, in order to be consistent across the PIL and Tensor backends. To suppress this warning, directly pass antialias=True (recommended, future default), antialias=None (current default, which means False for Tensors and True for PIL), or antialias=False (only works on Tensors - PIL will still use antialiasing). This also applies if you are using the inference transforms from the models weights: update the call to weights.transforms(antialias=True).\n",
      "  warnings.warn(\n",
      "/usr/local/lib/python3.9/dist-packages/torch/nn/modules/container.py:217: UserWarning: Implicit dimension choice for softmax has been deprecated. Change the call to include dim=X as an argument.\n",
      "  input = module(input)\n"
     ]
    },
    {
     "name": "stdout",
     "output_type": "stream",
     "text": [
      "train_accuracy : 69.87833404541016\n",
      "epochs :2/10\n",
      "train_accuracy : 75.87999725341797\n",
      "epochs :3/10\n",
      "train_accuracy : 77.91000366210938\n",
      "epochs :4/10\n",
      "train_accuracy : 78.52999877929688\n",
      "epochs :5/10\n",
      "train_accuracy : 80.39666748046875\n",
      "epochs :6/10\n",
      "train_accuracy : 81.78166961669922\n",
      "epochs :7/10\n",
      "train_accuracy : 81.82333374023438\n",
      "epochs :8/10\n",
      "train_accuracy : 83.49333190917969\n",
      "epochs :9/10\n",
      "train_accuracy : 83.84333801269531\n",
      "epochs :10/10\n",
      "train_accuracy : 83.94833374023438\n",
      "학습 시간 : 5분 871402390287682705873410680747973273141535962003763229905507875445081013699018095074962238472195189550525416842877236790041693339945711933280256450887680초\n"
     ]
    }
   ],
   "source": [
    "train(convent1 , train_loader)"
   ]
  },
  {
   "cell_type": "code",
   "execution_count": 124,
   "metadata": {
    "id": "2MaX6c9K5Fx7"
   },
   "outputs": [],
   "source": []
  },
  {
   "cell_type": "markdown",
   "metadata": {
    "id": "PaCyhivvEP_i"
   },
   "source": [
    "# test 함수"
   ]
  },
  {
   "cell_type": "code",
   "execution_count": 149,
   "metadata": {
    "id": "D0LzzaMm5Fyq"
   },
   "outputs": [],
   "source": [
    "def test(model , loader) :\n",
    "  with torch.no_grad() :\n",
    "    # 이 안에 있는 것들은 기울기 계산을 안함\n",
    "    # 모델이 고정됨 , 평가하는 용도로 제격\n",
    "    model.eval() # 모델을 평가모드로 변경\n",
    "    correct = 0\n",
    "    for xx, yy in loader :\n",
    "      # xx : 데이터(이미지)\n",
    "      # yy : 정답\n",
    "      data , target = xx.to(device) , yy.to(device)\n",
    "      pred = model(data)\n",
    "      _, predicted = torch.max(pred , 1)\n",
    "      correct += predicted.eq(target.data).sum()\n",
    "\n",
    "  print(f'test accuracy {(100*correct / len(loader.dataset)).item()}')\n",
    "\n"
   ]
  },
  {
   "cell_type": "code",
   "execution_count": 150,
   "metadata": {
    "colab": {
     "base_uri": "https://localhost:8080/"
    },
    "id": "cq-m4Q_G5Fzj",
    "outputId": "a6d715a4-e6c1-4f2a-bf3c-441dbfc96771"
   },
   "outputs": [
    {
     "name": "stdout",
     "output_type": "stream",
     "text": [
      "test accuracy 82.61000061035156\n"
     ]
    }
   ],
   "source": [
    "test(convent1 , test_loader)"
   ]
  },
  {
   "cell_type": "code",
   "execution_count": 124,
   "metadata": {
    "id": "wTZ0cFb-5F0Z"
   },
   "outputs": [],
   "source": []
  },
  {
   "cell_type": "markdown",
   "metadata": {
    "id": "GmmraM5JJ1it"
   },
   "source": [
    "# MNIST 훈련\n",
    "# SVHN이라는 데이터셋 학습"
   ]
  },
  {
   "cell_type": "code",
   "execution_count": 164,
   "metadata": {
    "id": "izMhhT1mK1Zc"
   },
   "outputs": [],
   "source": [
    "# 이미지 데이터 확인\n",
    "# train_dataset[0][0].shape\n",
    "\n",
    "\n",
    "from torch import nn\n",
    "import torch\n",
    "\n",
    "class SimpleConvNet2(nn.Module):\n",
    "  def __init__(self) :\n",
    "    # 초기화_\n",
    "    super().__init__() # 부모 클래스 초기화\n",
    "    # 선언\n",
    "    # 시작 아웃풋 = 다음 인풋\n",
    "    self.CNN = nn.Sequential(\n",
    "        # stage1\n",
    "        nn.Conv2d(in_channels=1, out_channels=16, kernel_size=3 , stride = 1 , padding = 1)\n",
    "        , nn.ReLU(True)\n",
    "        , nn.Conv2d(in_channels=16, out_channels=16, kernel_size=3 , stride = 1 , padding = 1)\n",
    "        , nn.ReLU(True)\n",
    "        , nn.MaxPool2d(kernel_size=2 , stride =2)\n",
    "\n",
    "        # stage2\n",
    "        , nn.Conv2d(in_channels=16, out_channels=32, kernel_size=3 , stride = 1 , padding = 1)\n",
    "        , nn.ReLU(True)\n",
    "        , nn.Conv2d(in_channels=32, out_channels=32, kernel_size=3 , stride = 1 , padding = 1)\n",
    "        , nn.ReLU(True)\n",
    "        , nn.MaxPool2d(kernel_size=2 , stride =2)\n",
    "\n",
    "        # stage3\n",
    "        , nn.Conv2d(in_channels=32, out_channels=64, kernel_size=3 , stride = 1 , padding = 1)\n",
    "        , nn.ReLU(True)\n",
    "        , nn.Conv2d(in_channels=64, out_channels=64, kernel_size=3 , stride = 1 , padding = 1)\n",
    "        , nn.ReLU(True)\n",
    "        , nn.Conv2d(in_channels=64, out_channels=64, kernel_size=3 , stride = 1 , padding = 'same')\n",
    "        , nn.ReLU(True)\n",
    "        , nn.MaxPool2d(kernel_size=4 , stride =4)\n",
    "    )\n",
    "\n",
    "    self.FC = nn.Sequential(\n",
    "        nn.Linear(64*3*3 , 256)\n",
    "        , nn.ReLU(True)\n",
    "        , nn.Dropout(p=0.2)\n",
    "        , nn.Linear(256 , 10)\n",
    "        , nn.Softmax()\n",
    "    )\n",
    "\n",
    "  # forward\n",
    "  def forward(self , inp) :\n",
    "    cnn_result = self.CNN(inp)\n",
    "    flatten = torch.flatten(cnn_result , 1)\n",
    "    fc_result = self.FC(flatten)\n",
    "    return fc_result"
   ]
  },
  {
   "cell_type": "code",
   "execution_count": 158,
   "metadata": {
    "id": "107Pt6cc5F1O"
   },
   "outputs": [],
   "source": [
    "train_dataset = MNIST(root = 'MNIST_data/' , train = True , transform = fashion_mnist_transforms,download = True)\n",
    "test_dataset = MNIST(root = 'MNIST_data/' , train = False , transform = fashion_mnist_transforms,download = True)"
   ]
  },
  {
   "cell_type": "code",
   "execution_count": 159,
   "metadata": {
    "id": "qB71o2Kl5F19"
   },
   "outputs": [],
   "source": [
    "train_loader = DataLoader(dataset = train_dataset\n",
    "                          , batch_size = 256\n",
    "                          , shuffle = True)\n",
    "test_loader = DataLoader(dataset = train_dataset\n",
    "                          , batch_size = 256\n",
    "                          , shuffle = True)"
   ]
  },
  {
   "cell_type": "code",
   "execution_count": 167,
   "metadata": {
    "id": "KxwIOWqwK9eV"
   },
   "outputs": [],
   "source": [
    "convnet2 = SimpleConvNet1()"
   ]
  },
  {
   "cell_type": "code",
   "execution_count": 168,
   "metadata": {
    "colab": {
     "base_uri": "https://localhost:8080/"
    },
    "id": "jAiFqCpK5F3u",
    "outputId": "49e6d2f7-486d-4a70-d1be-8bec63a8172e"
   },
   "outputs": [
    {
     "name": "stdout",
     "output_type": "stream",
     "text": [
      "----------------------------------------------------------------\n",
      "        Layer (type)               Output Shape         Param #\n",
      "================================================================\n",
      "            Conv2d-1           [-1, 16, 48, 48]             160\n",
      "              ReLU-2           [-1, 16, 48, 48]               0\n",
      "            Conv2d-3           [-1, 16, 48, 48]           2,320\n",
      "              ReLU-4           [-1, 16, 48, 48]               0\n",
      "         MaxPool2d-5           [-1, 16, 24, 24]               0\n",
      "            Conv2d-6           [-1, 32, 24, 24]           4,640\n",
      "              ReLU-7           [-1, 32, 24, 24]               0\n",
      "            Conv2d-8           [-1, 32, 24, 24]           9,248\n",
      "              ReLU-9           [-1, 32, 24, 24]               0\n",
      "        MaxPool2d-10           [-1, 32, 12, 12]               0\n",
      "           Conv2d-11           [-1, 64, 12, 12]          18,496\n",
      "             ReLU-12           [-1, 64, 12, 12]               0\n",
      "           Conv2d-13           [-1, 64, 12, 12]          36,928\n",
      "             ReLU-14           [-1, 64, 12, 12]               0\n",
      "           Conv2d-15           [-1, 64, 12, 12]          36,928\n",
      "             ReLU-16           [-1, 64, 12, 12]               0\n",
      "        MaxPool2d-17             [-1, 64, 3, 3]               0\n",
      "           Linear-18                  [-1, 256]         147,712\n",
      "             ReLU-19                  [-1, 256]               0\n",
      "          Dropout-20                  [-1, 256]               0\n",
      "           Linear-21                   [-1, 10]           2,570\n",
      "          Softmax-22                   [-1, 10]               0\n",
      "================================================================\n",
      "Total params: 259,002\n",
      "Trainable params: 259,002\n",
      "Non-trainable params: 0\n",
      "----------------------------------------------------------------\n",
      "Input size (MB): 0.01\n",
      "Forward/backward pass size (MB): 2.23\n",
      "Params size (MB): 0.99\n",
      "Estimated Total Size (MB): 3.22\n",
      "----------------------------------------------------------------\n"
     ]
    },
    {
     "name": "stderr",
     "output_type": "stream",
     "text": [
      "/usr/local/lib/python3.9/dist-packages/torch/nn/modules/container.py:217: UserWarning: Implicit dimension choice for softmax has been deprecated. Change the call to include dim=X as an argument.\n",
      "  input = module(input)\n"
     ]
    }
   ],
   "source": [
    "convnet2.to(device)\n",
    "summary(convnet2 , (1,48,48))"
   ]
  },
  {
   "cell_type": "code",
   "execution_count": 169,
   "metadata": {
    "colab": {
     "base_uri": "https://localhost:8080/"
    },
    "id": "omSEAZ_k5F4z",
    "outputId": "88656c29-0592-4707-c54e-6c1dee4b0f7b"
   },
   "outputs": [
    {
     "name": "stdout",
     "output_type": "stream",
     "text": [
      "epochs :1/10\n"
     ]
    },
    {
     "name": "stderr",
     "output_type": "stream",
     "text": [
      "/usr/local/lib/python3.9/dist-packages/torchvision/transforms/functional.py:1603: UserWarning: The default value of the antialias parameter of all the resizing transforms (Resize(), RandomResizedCrop(), etc.) will change from None to True in v0.17, in order to be consistent across the PIL and Tensor backends. To suppress this warning, directly pass antialias=True (recommended, future default), antialias=None (current default, which means False for Tensors and True for PIL), or antialias=False (only works on Tensors - PIL will still use antialiasing). This also applies if you are using the inference transforms from the models weights: update the call to weights.transforms(antialias=True).\n",
      "  warnings.warn(\n",
      "/usr/local/lib/python3.9/dist-packages/torch/nn/modules/container.py:217: UserWarning: Implicit dimension choice for softmax has been deprecated. Change the call to include dim=X as an argument.\n",
      "  input = module(input)\n"
     ]
    },
    {
     "name": "stdout",
     "output_type": "stream",
     "text": [
      "train_accuracy : 73.5683364868164\n",
      "epochs :2/10\n",
      "train_accuracy : 93.91333770751953\n",
      "epochs :3/10\n",
      "train_accuracy : 95.88833618164062\n",
      "epochs :4/10\n",
      "train_accuracy : 96.1433334350586\n",
      "epochs :5/10\n",
      "train_accuracy : 96.06666564941406\n",
      "epochs :6/10\n",
      "train_accuracy : 97.125\n",
      "epochs :7/10\n",
      "train_accuracy : 97.33833312988281\n",
      "epochs :8/10\n",
      "train_accuracy : 97.55667114257812\n",
      "epochs :9/10\n",
      "train_accuracy : 97.90666961669922\n",
      "epochs :10/10\n",
      "train_accuracy : 98.05166625976562\n",
      "학습 시간 : 5분 325328872444232372221692418253415070802000202093687015429291673706106244144895501277361982969045446250719713853003902455428032041130361551946286362525696초\n"
     ]
    }
   ],
   "source": [
    "train(convnet2, train_loader)"
   ]
  },
  {
   "cell_type": "code",
   "execution_count": 170,
   "metadata": {
    "colab": {
     "base_uri": "https://localhost:8080/"
    },
    "id": "e7gtfYj95F6G",
    "outputId": "5c6da9f1-1cf3-467f-a063-f6628c8eba55"
   },
   "outputs": [
    {
     "name": "stdout",
     "output_type": "stream",
     "text": [
      "Downloading http://ufldl.stanford.edu/housenumbers/train_32x32.mat to ./train_32x32.mat\n"
     ]
    },
    {
     "name": "stderr",
     "output_type": "stream",
     "text": [
      "100%|██████████| 182040794/182040794 [00:03<00:00, 58936212.70it/s]\n"
     ]
    },
    {
     "name": "stdout",
     "output_type": "stream",
     "text": [
      "Downloading http://ufldl.stanford.edu/housenumbers/test_32x32.mat to ./test_32x32.mat\n"
     ]
    },
    {
     "name": "stderr",
     "output_type": "stream",
     "text": [
      "100%|██████████| 64275384/64275384 [00:01<00:00, 59081180.80it/s]\n"
     ]
    }
   ],
   "source": [
    "import torchvision.datasets as datasets\n",
    "\n",
    "svhn_transform = transforms.Compose([\n",
    "    transforms.ToTensor(),\n",
    "    transforms.Resize((48,48)),\n",
    "    transforms.Grayscale()\n",
    "])\n",
    "\n",
    "SVHN_train_dataset = datasets.SVHN(root='./', split='train', transform=svhn_transform, download=True)\n",
    "SVHN_test_dataset = datasets.SVHN(root='./', split='test', transform=svhn_transform, download=True)\n",
    "\n",
    "sv_train_loader = DataLoader(dataset=SVHN_train_dataset, batch_size=128, shuffle=True)\n",
    "sv_test_loader = DataLoader(dataset=SVHN_test_dataset, batch_size=128, shuffle=True)"
   ]
  },
  {
   "cell_type": "code",
   "execution_count": 171,
   "metadata": {
    "colab": {
     "base_uri": "https://localhost:8080/"
    },
    "id": "apRfwcHqQAyR",
    "outputId": "6b275bf7-5017-48aa-feac-c6c082a22b8b"
   },
   "outputs": [
    {
     "name": "stderr",
     "output_type": "stream",
     "text": [
      "/usr/local/lib/python3.9/dist-packages/torchvision/transforms/functional.py:1603: UserWarning: The default value of the antialias parameter of all the resizing transforms (Resize(), RandomResizedCrop(), etc.) will change from None to True in v0.17, in order to be consistent across the PIL and Tensor backends. To suppress this warning, directly pass antialias=True (recommended, future default), antialias=None (current default, which means False for Tensors and True for PIL), or antialias=False (only works on Tensors - PIL will still use antialiasing). This also applies if you are using the inference transforms from the models weights: update the call to weights.transforms(antialias=True).\n",
      "  warnings.warn(\n"
     ]
    },
    {
     "data": {
      "text/plain": [
       "torch.Size([1, 48, 48])"
      ]
     },
     "execution_count": 171,
     "metadata": {},
     "output_type": "execute_result"
    }
   ],
   "source": [
    "SVHN_train_dataset[0][0].shape"
   ]
  },
  {
   "cell_type": "code",
   "execution_count": 172,
   "metadata": {
    "colab": {
     "base_uri": "https://localhost:8080/",
     "height": 431
    },
    "id": "OVlsly0sQC44",
    "outputId": "24528e23-65b0-4106-f444-22e161be25d4"
   },
   "outputs": [
    {
     "data": {
      "image/png": "[encoded data removed]",
      "text/plain": [
       "<Figure size 640x480 with 1 Axes>"
      ]
     },
     "metadata": {},
     "output_type": "display_data"
    }
   ],
   "source": [
    "plt.imshow(SVHN_train_dataset[170][0][0], cmap='gray')\n",
    "plt.show()"
   ]
  },
  {
   "cell_type": "code",
   "execution_count": 173,
   "metadata": {
    "colab": {
     "base_uri": "https://localhost:8080/"
    },
    "id": "okBbDZxfQEs4",
    "outputId": "995a9e8d-9362-4f41-b07d-6c0ca983df1c"
   },
   "outputs": [
    {
     "name": "stderr",
     "output_type": "stream",
     "text": [
      "/usr/local/lib/python3.9/dist-packages/torch/nn/modules/container.py:217: UserWarning: Implicit dimension choice for softmax has been deprecated. Change the call to include dim=X as an argument.\n",
      "  input = module(input)\n"
     ]
    },
    {
     "name": "stdout",
     "output_type": "stream",
     "text": [
      "test accuracy 10.464043617248535\n"
     ]
    }
   ],
   "source": [
    "test(convnet2, sv_test_loader)"
   ]
  },
  {
   "cell_type": "code",
   "execution_count": 174,
   "metadata": {
    "id": "-HJndGHNQHmw"
   },
   "outputs": [],
   "source": [
    "class SvhnNet(nn.Module):\n",
    "  def __init__(self, pretrain_model):\n",
    "    super().__init__()\n",
    "    self.pretrain = pretrain_model # 학습된 모델을 self.pretrain에 저장\n",
    "    # 우리가 받은 pretrain_model의 parameter를 고정\n",
    "    for param in self.pretrain.parameters():\n",
    "      param.requires_grad = False\n",
    "\n",
    "    self.add_model = nn.Sequential(\n",
    "        nn.Linear(in_features=64*3*3, out_features=256),\n",
    "        nn.ReLU(True),\n",
    "        nn.Dropout(p=0.2),\n",
    "        nn.Linear(in_features=256, out_features=10),\n",
    "        nn.Softmax()\n",
    "    )\n",
    "\n",
    "  def forward(self, inp):\n",
    "    with torch.no_grad(): # 기울기 학습 안하도록 함\n",
    "      cnn_result = self.pretrain(inp)\n",
    "    flatten = torch.flatten(cnn_result, 1)\n",
    "    result = self.add_model(flatten)\n",
    "    return result"
   ]
  },
  {
   "cell_type": "code",
   "execution_count": 175,
   "metadata": {
    "id": "zrNhnOvMQKyY"
   },
   "outputs": [],
   "source": [
    "svhn_net = SvhnNet(convnet2.CNN)"
   ]
  },
  {
   "cell_type": "code",
   "execution_count": 176,
   "metadata": {
    "colab": {
     "base_uri": "https://localhost:8080/"
    },
    "id": "IxDCK3h5QQ3R",
    "outputId": "6ef3e781-5fca-4763-ed1b-c5c041b73cc1"
   },
   "outputs": [
    {
     "name": "stdout",
     "output_type": "stream",
     "text": [
      "----------------------------------------------------------------\n",
      "        Layer (type)               Output Shape         Param #\n",
      "================================================================\n",
      "            Conv2d-1           [-1, 16, 48, 48]             160\n",
      "              ReLU-2           [-1, 16, 48, 48]               0\n",
      "            Conv2d-3           [-1, 16, 48, 48]           2,320\n",
      "              ReLU-4           [-1, 16, 48, 48]               0\n",
      "         MaxPool2d-5           [-1, 16, 24, 24]               0\n",
      "            Conv2d-6           [-1, 32, 24, 24]           4,640\n",
      "              ReLU-7           [-1, 32, 24, 24]               0\n",
      "            Conv2d-8           [-1, 32, 24, 24]           9,248\n",
      "              ReLU-9           [-1, 32, 24, 24]               0\n",
      "        MaxPool2d-10           [-1, 32, 12, 12]               0\n",
      "           Conv2d-11           [-1, 64, 12, 12]          18,496\n",
      "             ReLU-12           [-1, 64, 12, 12]               0\n",
      "           Conv2d-13           [-1, 64, 12, 12]          36,928\n",
      "             ReLU-14           [-1, 64, 12, 12]               0\n",
      "           Conv2d-15           [-1, 64, 12, 12]          36,928\n",
      "             ReLU-16           [-1, 64, 12, 12]               0\n",
      "        MaxPool2d-17             [-1, 64, 3, 3]               0\n",
      "           Linear-18                  [-1, 256]         147,712\n",
      "             ReLU-19                  [-1, 256]               0\n",
      "          Dropout-20                  [-1, 256]               0\n",
      "           Linear-21                   [-1, 10]           2,570\n",
      "          Softmax-22                   [-1, 10]               0\n",
      "================================================================\n",
      "Total params: 259,002\n",
      "Trainable params: 150,282\n",
      "Non-trainable params: 108,720\n",
      "----------------------------------------------------------------\n",
      "Input size (MB): 0.01\n",
      "Forward/backward pass size (MB): 2.23\n",
      "Params size (MB): 0.99\n",
      "Estimated Total Size (MB): 3.22\n",
      "----------------------------------------------------------------\n"
     ]
    }
   ],
   "source": [
    "svhn_net.to(device)\n",
    "summary(svhn_net, (1,48,48))"
   ]
  },
  {
   "cell_type": "code",
   "execution_count": 177,
   "metadata": {
    "colab": {
     "base_uri": "https://localhost:8080/"
    },
    "id": "sBuMyATjQSfh",
    "outputId": "df3aadf6-d45e-45dc-c9ed-b3180ec26076"
   },
   "outputs": [
    {
     "data": {
      "text/plain": [
       "Dataset SVHN\n",
       "    Number of datapoints: 73257\n",
       "    Root location: ./\n",
       "    Split: train\n",
       "    StandardTransform\n",
       "Transform: Compose(\n",
       "               ToTensor()\n",
       "               Resize(size=(48, 48), interpolation=bilinear, max_size=None, antialias=warn)\n",
       "               Grayscale(num_output_channels=1)\n",
       "           )"
      ]
     },
     "execution_count": 177,
     "metadata": {},
     "output_type": "execute_result"
    }
   ],
   "source": [
    "SVHN_train_dataset"
   ]
  },
  {
   "cell_type": "code",
   "execution_count": 178,
   "metadata": {
    "id": "aqZv8pJCRj-X"
   },
   "outputs": [],
   "source": [
    "# 데이터셋에서 일부만 가져오기\n",
    "from torch.utils.data import random_split\n",
    "svhn_train_1, svhn_train_2 = random_split(SVHN_train_dataset, [1000, 72257])\n",
    "sv_train_loader2 = DataLoader(dataset=svhn_train_1,\n",
    "                              batch_size=128,\n",
    "                              shuffle=True)"
   ]
  },
  {
   "cell_type": "code",
   "execution_count": 179,
   "metadata": {
    "colab": {
     "base_uri": "https://localhost:8080/"
    },
    "id": "05gBGZCuRmA_",
    "outputId": "7e3050f6-764f-4b2b-8ff6-dd0089013547"
   },
   "outputs": [
    {
     "name": "stdout",
     "output_type": "stream",
     "text": [
      "epochs :1/10\n",
      "train_accuracy : 23.952659606933594\n",
      "epochs :2/10\n",
      "train_accuracy : 43.54669189453125\n",
      "epochs :3/10\n",
      "train_accuracy : 46.472007751464844\n",
      "epochs :4/10\n",
      "train_accuracy : 49.780906677246094\n",
      "epochs :5/10\n",
      "train_accuracy : 50.594482421875\n",
      "epochs :6/10\n",
      "train_accuracy : 53.27954864501953\n",
      "epochs :7/10\n",
      "train_accuracy : 54.42210006713867\n",
      "epochs :8/10\n",
      "train_accuracy : 56.7413330078125\n",
      "epochs :9/10\n",
      "train_accuracy : 57.388370513916016\n",
      "epochs :10/10\n",
      "train_accuracy : 59.393638610839844\n",
      "학습 시간 : 11분 2031429596160411901718980754129728727207423633162187101652082753489596089392691064391513580291720150491103091581050906094922722866087356384249146844184114531675462237683712초\n"
     ]
    }
   ],
   "source": [
    "train(svhn_net, sv_train_loader)"
   ]
  },
  {
   "cell_type": "code",
   "execution_count": null,
   "metadata": {
    "id": "yjrOJlQ0Rnli"
   },
   "outputs": [],
   "source": []
  },
  {
   "cell_type": "markdown",
   "metadata": {
    "id": "ufCb5k07ZQsu"
   },
   "source": [
    "# 학습된 ResNet 18을 이용해서 매우 적은 숫자의 FashionMNIST를 학습시키자"
   ]
  },
  {
   "cell_type": "code",
   "execution_count": 180,
   "metadata": {
    "id": "Yohvfa-lZRLc"
   },
   "outputs": [],
   "source": [
    "fashion_mnist_transforms = transforms.Compose([\n",
    "    transforms.ToTensor(), # tensor형태로 변환\n",
    "    transforms.Resize(224) # 224x224 이미지로 변환\n",
    "])\n",
    "\n",
    "train_dataset = FashionMNIST('./', transform=fashion_mnist_transforms, train=True, download=True)\n",
    "test_dataset = FashionMNIST('./', transform=fashion_mnist_transforms, train=False, download=True)\n",
    "\n",
    "test_loader = DataLoader(dataset=test_dataset,\n",
    "                         batch_size = 256,\n",
    "                         shuffle = True)"
   ]
  },
  {
   "cell_type": "code",
   "execution_count": 181,
   "metadata": {
    "id": "thkzqeeJZRcE"
   },
   "outputs": [],
   "source": [
    "# random_split\n",
    "\n",
    "train_dataset1, train_dataset2 = random_split(train_dataset, [100, 59900])\n",
    "train_loader2 = DataLoader(dataset = train_dataset1,\n",
    "                           batch_size = 128,\n",
    "                           shuffle = True)"
   ]
  },
  {
   "cell_type": "code",
   "execution_count": 182,
   "metadata": {
    "colab": {
     "base_uri": "https://localhost:8080/"
    },
    "id": "l2rTakSLZX37",
    "outputId": "01074e2d-d3dc-4ccc-8924-d2f776e71c9c"
   },
   "outputs": [
    {
     "data": {
      "text/plain": [
       "<torch.utils.data.dataset.Subset at 0x7f7f6c8adf40>"
      ]
     },
     "execution_count": 182,
     "metadata": {},
     "output_type": "execute_result"
    }
   ],
   "source": [
    "train_dataset1"
   ]
  },
  {
   "cell_type": "code",
   "execution_count": null,
   "metadata": {
    "id": "4b11ivczZZbE"
   },
   "outputs": [],
   "source": []
  },
  {
   "cell_type": "markdown",
   "metadata": {
    "id": "WTVTXX2rZbn2"
   },
   "source": [
    "# ResNet18Transfer Learning\n",
    "\n",
    "학습된 데이터를 가져오자"
   ]
  },
  {
   "cell_type": "code",
   "execution_count": 183,
   "metadata": {
    "colab": {
     "base_uri": "https://localhost:8080/",
     "height": 193
    },
    "id": "EiyUMxQ9ZeXz",
    "outputId": "7ab93df0-a803-4e44-b097-0831075f7a4b"
   },
   "outputs": [
    {
     "ename": "AttributeError",
     "evalue": "ignored",
     "output_type": "error",
     "traceback": [
      "\u001b[0;31m---------------------------------------------------------------------------\u001b[0m",
      "\u001b[0;31mAttributeError\u001b[0m                            Traceback (most recent call last)",
      "\u001b[0;32m<ipython-input-183-89647a1db5ae>\u001b[0m in \u001b[0;36m<cell line: 2>\u001b[0;34m()\u001b[0m\n\u001b[1;32m      1\u001b[0m \u001b[0;32mfrom\u001b[0m \u001b[0mtorchvision\u001b[0m \u001b[0;32mimport\u001b[0m \u001b[0mmodels\u001b[0m\u001b[0;34m\u001b[0m\u001b[0;34m\u001b[0m\u001b[0m\n\u001b[0;32m----> 2\u001b[0;31m \u001b[0mrenet18_pretrained\u001b[0m \u001b[0;34m=\u001b[0m \u001b[0mmodels\u001b[0m\u001b[0;34m.\u001b[0m\u001b[0mrenet18\u001b[0m\u001b[0;34m(\u001b[0m\u001b[0moretrainded\u001b[0m \u001b[0;34m=\u001b[0m \u001b[0;32mTrue\u001b[0m\u001b[0;34m)\u001b[0m\u001b[0;34m\u001b[0m\u001b[0;34m\u001b[0m\u001b[0m\n\u001b[0m",
      "\u001b[0;31mAttributeError\u001b[0m: module 'torchvision.models' has no attribute 'renet18'"
     ]
    }
   ],
   "source": [
    "from torchvision import models\n",
    "resnet18_pretrained = models.resnet18(pretrained=True)"
   ]
  },
  {
   "cell_type": "code",
   "execution_count": null,
   "metadata": {
    "id": "IPnyrFZyaCFj"
   },
   "outputs": [],
   "source": []
  }
 ],
 "metadata": {
  "accelerator": "GPU",
  "colab": {
   "provenance": []
  },
  "gpuClass": "standard",
  "kernelspec": {
   "display_name": "Python 3 (ipykernel)",
   "language": "python",
   "name": "python3"
  },
  "language_info": {
   "codemirror_mode": {
    "name": "ipython",
    "version": 3
   },
   "file_extension": ".py",
   "mimetype": "text/x-python",
   "name": "python",
   "nbconvert_exporter": "python",
   "pygments_lexer": "ipython3",
   "version": "3.10.9"
  }
 },
 "nbformat": 4,
 "nbformat_minor": 1
}
