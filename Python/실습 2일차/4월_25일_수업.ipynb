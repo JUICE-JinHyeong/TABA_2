{
  "nbformat": 4,
  "nbformat_minor": 0,
  "metadata": {
    "colab": {
      "provenance": []
    },
    "kernelspec": {
      "name": "python3",
      "display_name": "Python 3"
    },
    "language_info": {
      "name": "python"
    },
    "accelerator": "GPU",
    "gpuClass": "standard"
  },
  "cells": [
    {
      "cell_type": "markdown",
      "source": [
        "# MNIST"
      ],
      "metadata": {
        "id": "HCBAvF-ODbeA"
      }
    },
    {
      "cell_type": "code",
      "source": [
        "import torch\n",
        "import numpy as np\n",
        "import matplotlib.pyplot as plt\n",
        "import torchvision.transforms as transforms\n",
        "\n",
        "from torchvision.datasets import MNIST\n",
        "from torch.utils.data import DataLoader\n",
        "\n",
        "from torch import nn"
      ],
      "metadata": {
        "id": "GXu-aapEDar9"
      },
      "execution_count": null,
      "outputs": []
    },
    {
      "cell_type": "code",
      "source": [
        "# gpu 되는지 확인\n",
        "torch.cuda.is_available()"
      ],
      "metadata": {
        "colab": {
          "base_uri": "https://localhost:8080/"
        },
        "id": "41a7yI3VEBcS",
        "outputId": "207efde2-0bfa-4895-8b88-b01d9ccfeb85"
      },
      "execution_count": null,
      "outputs": [
        {
          "output_type": "execute_result",
          "data": {
            "text/plain": [
              "True"
            ]
          },
          "metadata": {},
          "execution_count": 2
        }
      ]
    },
    {
      "cell_type": "code",
      "source": [
        "device = torch.device(\"cuda\")"
      ],
      "metadata": {
        "id": "FgQrUxPBEk35"
      },
      "execution_count": null,
      "outputs": []
    },
    {
      "cell_type": "code",
      "source": [
        "# MNIST dataset 다운로드\n",
        "train_dataset = MNIST(root='MNIST_data/', train=True, transform=transforms.ToTensor(), download=True)\n",
        "test_dataset = MNIST(root='MNIST_data/', train=False, transform=transforms.ToTensor(), download=True)\n",
        "print(train_dataset)"
      ],
      "metadata": {
        "colab": {
          "base_uri": "https://localhost:8080/"
        },
        "id": "Pv30Whb7Ew1n",
        "outputId": "a2d650e3-0fc7-4891-a030-3a1d9fd5dbfb"
      },
      "execution_count": null,
      "outputs": [
        {
          "output_type": "stream",
          "name": "stdout",
          "text": [
            "Downloading http://yann.lecun.com/exdb/mnist/train-images-idx3-ubyte.gz\n",
            "Downloading http://yann.lecun.com/exdb/mnist/train-images-idx3-ubyte.gz to MNIST_data/MNIST/raw/train-images-idx3-ubyte.gz\n"
          ]
        },
        {
          "output_type": "stream",
          "name": "stderr",
          "text": [
            "100%|██████████| 9912422/9912422 [00:00<00:00, 168054646.61it/s]"
          ]
        },
        {
          "output_type": "stream",
          "name": "stdout",
          "text": [
            "Extracting MNIST_data/MNIST/raw/train-images-idx3-ubyte.gz to MNIST_data/MNIST/raw\n"
          ]
        },
        {
          "output_type": "stream",
          "name": "stderr",
          "text": [
            "\n"
          ]
        },
        {
          "output_type": "stream",
          "name": "stdout",
          "text": [
            "\n",
            "Downloading http://yann.lecun.com/exdb/mnist/train-labels-idx1-ubyte.gz\n",
            "Downloading http://yann.lecun.com/exdb/mnist/train-labels-idx1-ubyte.gz to MNIST_data/MNIST/raw/train-labels-idx1-ubyte.gz\n"
          ]
        },
        {
          "output_type": "stream",
          "name": "stderr",
          "text": [
            "100%|██████████| 28881/28881 [00:00<00:00, 90670429.51it/s]\n"
          ]
        },
        {
          "output_type": "stream",
          "name": "stdout",
          "text": [
            "Extracting MNIST_data/MNIST/raw/train-labels-idx1-ubyte.gz to MNIST_data/MNIST/raw\n",
            "\n",
            "Downloading http://yann.lecun.com/exdb/mnist/t10k-images-idx3-ubyte.gz\n",
            "Downloading http://yann.lecun.com/exdb/mnist/t10k-images-idx3-ubyte.gz to MNIST_data/MNIST/raw/t10k-images-idx3-ubyte.gz\n"
          ]
        },
        {
          "output_type": "stream",
          "name": "stderr",
          "text": [
            "100%|██████████| 1648877/1648877 [00:00<00:00, 178065640.12it/s]\n"
          ]
        },
        {
          "output_type": "stream",
          "name": "stdout",
          "text": [
            "Extracting MNIST_data/MNIST/raw/t10k-images-idx3-ubyte.gz to MNIST_data/MNIST/raw\n",
            "\n",
            "Downloading http://yann.lecun.com/exdb/mnist/t10k-labels-idx1-ubyte.gz\n",
            "Downloading http://yann.lecun.com/exdb/mnist/t10k-labels-idx1-ubyte.gz to MNIST_data/MNIST/raw/t10k-labels-idx1-ubyte.gz\n"
          ]
        },
        {
          "output_type": "stream",
          "name": "stderr",
          "text": [
            "100%|██████████| 4542/4542 [00:00<00:00, 20440481.51it/s]"
          ]
        },
        {
          "output_type": "stream",
          "name": "stdout",
          "text": [
            "Extracting MNIST_data/MNIST/raw/t10k-labels-idx1-ubyte.gz to MNIST_data/MNIST/raw\n",
            "\n"
          ]
        },
        {
          "output_type": "stream",
          "name": "stderr",
          "text": [
            "\n"
          ]
        },
        {
          "output_type": "stream",
          "name": "stdout",
          "text": [
            "Dataset MNIST\n",
            "    Number of datapoints: 60000\n",
            "    Root location: MNIST_data/\n",
            "    Split: Train\n",
            "    StandardTransform\n",
            "Transform: ToTensor()\n"
          ]
        }
      ]
    },
    {
      "cell_type": "code",
      "source": [
        "# DataLoader 생성\n",
        "\n",
        "train_loader = DataLoader(dataset=train_dataset,\n",
        "                          batch_size=128,\n",
        "                          shuffle=True)\n",
        "test_loader = DataLoader(dataset=test_dataset,\n",
        "                          batch_size=128,\n",
        "                          shuffle=True)"
      ],
      "metadata": {
        "id": "nS-rSJiPFcnr"
      },
      "execution_count": null,
      "outputs": []
    },
    {
      "cell_type": "markdown",
      "source": [
        "# Tensor에 대하여"
      ],
      "metadata": {
        "id": "cyqewq_BF_xC"
      }
    },
    {
      "cell_type": "code",
      "source": [
        "# Numpy > Tensor\n",
        "\n",
        "z = torch.empty(5,2)"
      ],
      "metadata": {
        "id": "ZUkkEY7UF5iE"
      },
      "execution_count": null,
      "outputs": []
    },
    {
      "cell_type": "code",
      "source": [
        "a = np.ones((5,2))\n",
        "# tensor로 변환\n",
        "b = torch.from_numpy(a)\n",
        "print(b, b.shape)"
      ],
      "metadata": {
        "colab": {
          "base_uri": "https://localhost:8080/"
        },
        "id": "GNRNgXjTGgAb",
        "outputId": "ce7492f8-9175-419d-860e-5470816bd533"
      },
      "execution_count": null,
      "outputs": [
        {
          "output_type": "stream",
          "name": "stdout",
          "text": [
            "tensor([[1., 1.],\n",
            "        [1., 1.],\n",
            "        [1., 1.],\n",
            "        [1., 1.],\n",
            "        [1., 1.]], dtype=torch.float64) torch.Size([5, 2])\n"
          ]
        }
      ]
    },
    {
      "cell_type": "code",
      "source": [
        "# tensor > numpy\n",
        "numpy_arr = b.numpy()\n",
        "print(numpy_arr)"
      ],
      "metadata": {
        "colab": {
          "base_uri": "https://localhost:8080/"
        },
        "id": "FV6aGUWvGimT",
        "outputId": "f5f4b175-8e88-4381-b62e-d824169ea2c9"
      },
      "execution_count": null,
      "outputs": [
        {
          "output_type": "stream",
          "name": "stdout",
          "text": [
            "[[1. 1.]\n",
            " [1. 1.]\n",
            " [1. 1.]\n",
            " [1. 1.]\n",
            " [1. 1.]]\n"
          ]
        }
      ]
    },
    {
      "cell_type": "markdown",
      "source": [
        "MNIST 데이터셋을 확인"
      ],
      "metadata": {
        "id": "MjJpy441HI6Q"
      }
    },
    {
      "cell_type": "code",
      "source": [
        "# 하나의 이미지만 가져오기\n",
        "img = train_dataset[0][0].numpy()\n",
        "plt.imshow(img[0], cmap='gray')\n",
        "plt.show()"
      ],
      "metadata": {
        "colab": {
          "base_uri": "https://localhost:8080/",
          "height": 430
        },
        "id": "AahErjIeG-bN",
        "outputId": "73fab9f3-8d60-4c82-e024-217ce864e363"
      },
      "execution_count": null,
      "outputs": [
        {
          "output_type": "display_data",
          "data": {
            "text/plain": [
              "<Figure size 640x480 with 1 Axes>"
            ],
            "image/png": "[encoded data removed]"
          },
          "metadata": {}
        }
      ]
    },
    {
      "cell_type": "markdown",
      "source": [
        "모델 만들기(Multi layer perceptron)"
      ],
      "metadata": {
        "id": "gUpcoR96HsCM"
      }
    },
    {
      "cell_type": "code",
      "source": [
        "# sequential\n",
        "mnist_fc_model = nn.Sequential(\n",
        "    nn.Flatten(),\n",
        "    nn.Linear(in_features=28*28*1, out_features=256),\n",
        "    nn.Sigmoid(),\n",
        "    nn.Linear(in_features=256, out_features=10),\n",
        "    nn.Softmax()\n",
        ")"
      ],
      "metadata": {
        "id": "TVTyudZIHXW7"
      },
      "execution_count": null,
      "outputs": []
    },
    {
      "cell_type": "code",
      "source": [
        "# device = \"cuda\"\n",
        "# 모델을 device로 전달해야합니다.\n",
        "# cpu에 만들어짐 gpu로 넘겨서 연산을 하도록 해야합니다.\n",
        "mnist_fc_model.to(device)"
      ],
      "metadata": {
        "colab": {
          "base_uri": "https://localhost:8080/"
        },
        "id": "zSLcN0mMHyAq",
        "outputId": "332ce0ae-6c05-4322-a470-1e6aaa84fd93"
      },
      "execution_count": null,
      "outputs": [
        {
          "output_type": "execute_result",
          "data": {
            "text/plain": [
              "Sequential(\n",
              "  (0): Flatten(start_dim=1, end_dim=-1)\n",
              "  (1): Linear(in_features=784, out_features=256, bias=True)\n",
              "  (2): Sigmoid()\n",
              "  (3): Linear(in_features=256, out_features=10, bias=True)\n",
              "  (4): Softmax(dim=None)\n",
              ")"
            ]
          },
          "metadata": {},
          "execution_count": 11
        }
      ]
    },
    {
      "cell_type": "code",
      "source": [
        "from torch import optim\n",
        "import time\n",
        "\n",
        "def train(model, train_loader):\n",
        "  epochs = 30\n",
        "  optimizer = optim.Adam(model.parameters(), lr=0.0001)\n",
        "  criterion = nn.CrossEntropyLoss()\n",
        "\n",
        "  start_time = time.time() # 시작시간 체크\n",
        "\n",
        "  for epoch in range(epochs):\n",
        "    # model 학습이 가능하도록 모드를 변경\n",
        "    model.train()\n",
        "    print(f\"epochs:{str(epoch+1)} / {str(epochs)}\")\n",
        "\n",
        "    for samples in train_loader:\n",
        "      x_t, y_t = samples\n",
        "      # 데이터를 cuda(gpu)로 보내주자\n",
        "      x_t, y_t = x_t.to(device), y_t.to(device)\n",
        "      pred = model(x_t) # predict\n",
        "      loss = criterion(pred, y_t) # loss 구하기\n",
        "      optimizer.zero_grad() # optimzer를 사용해서 학습을 시킴\n",
        "      loss.backward() # 역전파 # 기울기(gradient) 구하기\n",
        "      optimizer.step() # 기울기 적용\n",
        "    # 하나의 epoch에 대해서 학습이 끝난 후\n",
        "    # 모델을 평가상태로 모드 변경\n",
        "    model.eval()\n",
        "    correct = 0\n",
        "    for samples in train_loader:\n",
        "      xx, yy = samples\n",
        "      xx, yy = xx.to(device), yy.to(device)\n",
        "      pred = model(xx) # 모델 predict\n",
        "      _, predicted = torch.max(pred, 1)\n",
        "      correct += predicted.eq(yy.data).sum()\n",
        "    print(f\"train_accuracy: {(100. * correct / len(train_loader.dataset)).item()}\")\n",
        "\n",
        "    end_time = time.time() # 끝나는 시간 확인\n",
        "    지난시간 = end_time - start_time\n",
        "    분 = int(지난시간 // 60)\n",
        "    초 = int(지난시간 % 60)\n",
        "\n",
        "    print(f'학습하는데 걸린 시간: {분}분 {초}초')"
      ],
      "metadata": {
        "id": "-tnq3wFSI0JS"
      },
      "execution_count": null,
      "outputs": []
    },
    {
      "cell_type": "code",
      "source": [
        "train(mnist_fc_model, train_loader)"
      ],
      "metadata": {
        "colab": {
          "base_uri": "https://localhost:8080/"
        },
        "id": "fOdCEm0aK7yH",
        "outputId": "9abeaf2d-6efe-4719-a50b-e8c678d74952"
      },
      "execution_count": null,
      "outputs": [
        {
          "output_type": "stream",
          "name": "stdout",
          "text": [
            "epochs:1 / 10\n",
            "train_accuracy: 65.04499816894531\n",
            "epochs:2 / 10\n",
            "train_accuracy: 66.63166809082031\n",
            "epochs:3 / 10\n",
            "train_accuracy: 77.74166870117188\n",
            "epochs:4 / 10\n",
            "train_accuracy: 81.63333129882812\n",
            "epochs:5 / 10\n",
            "train_accuracy: 82.52666473388672\n",
            "epochs:6 / 10\n",
            "train_accuracy: 83.02999877929688\n",
            "epochs:7 / 10\n",
            "train_accuracy: 85.25666809082031\n",
            "epochs:8 / 10\n",
            "train_accuracy: 91.0633316040039\n",
            "epochs:9 / 10\n",
            "train_accuracy: 91.56500244140625\n",
            "epochs:10 / 10\n",
            "train_accuracy: 91.94667053222656\n"
          ]
        }
      ]
    },
    {
      "cell_type": "markdown",
      "source": [
        "# 우리가 만든 모델의 복잡도 알아보기\n",
        "\n",
        "모델의 parameter수로 복잡도 판단  \n",
        "훈련가능한 parameter.  \n",
        "훈련가능하지 않은 parameter. "
      ],
      "metadata": {
        "id": "C58DTIW2mY5Y"
      }
    },
    {
      "cell_type": "code",
      "source": [
        "def 복잡도계산(model):\n",
        "  pp = 0\n",
        "  # 모델에서 parameter를 하나씩 불러온다\n",
        "  for p in list(model.parameters()):\n",
        "    nn = 1\n",
        "    # 각 parameter의 수를 더해준다\n",
        "    for s in list(p.size()):\n",
        "      nn = nn*s\n",
        "    pp += nn\n",
        "  return pp"
      ],
      "metadata": {
        "id": "n9nkQzcHMItv"
      },
      "execution_count": null,
      "outputs": []
    },
    {
      "cell_type": "code",
      "source": [
        "복잡도계산(mnist_fc_model)"
      ],
      "metadata": {
        "colab": {
          "base_uri": "https://localhost:8080/"
        },
        "id": "GgQ5SKIHnwuo",
        "outputId": "aac54b34-48c6-4b94-a15d-9d150f345450"
      },
      "execution_count": null,
      "outputs": [
        {
          "output_type": "execute_result",
          "data": {
            "text/plain": [
              "203530"
            ]
          },
          "metadata": {},
          "execution_count": 15
        }
      ]
    },
    {
      "cell_type": "markdown",
      "source": [
        "# CNN을 이용하여 모델 설계\n",
        "\n",
        "CNN 합성곱연산을 이용한 모델  \n",
        "이미지에서 많이 사용됨"
      ],
      "metadata": {
        "id": "EOU6vwR2oHmB"
      }
    },
    {
      "cell_type": "code",
      "source": [
        "mnist_cnn_model = nn.Sequential(\n",
        "    # input 1x28x28\n",
        "    nn.Conv2d(in_channels=1, out_channels=4, kernel_size=3, stride=1, padding=0),\n",
        "    nn.ReLU(),\n",
        "    nn.Conv2d(in_channels=4, out_channels=8, kernel_size=3, stride=1, padding=0),\n",
        "    nn.ReLU(),\n",
        "    # ===== convolution layer 2개 완성 =====\n",
        "    nn.Flatten(),\n",
        "    nn.Linear(in_features=24*24*8, out_features=48),\n",
        "    nn.Sigmoid(),\n",
        "    nn.Linear(in_features=48, out_features=10),\n",
        "    nn.Softmax()\n",
        ")"
      ],
      "metadata": {
        "id": "ZlIsrU5Pn9sc"
      },
      "execution_count": null,
      "outputs": []
    },
    {
      "cell_type": "code",
      "source": [
        "복잡도계산(mnist_cnn_model)"
      ],
      "metadata": {
        "colab": {
          "base_uri": "https://localhost:8080/"
        },
        "id": "07Scsu3ipL_T",
        "outputId": "49c0341b-3454-4ddc-dc9b-e2f49be1cd66"
      },
      "execution_count": null,
      "outputs": [
        {
          "output_type": "execute_result",
          "data": {
            "text/plain": [
              "222058"
            ]
          },
          "metadata": {},
          "execution_count": 17
        }
      ]
    },
    {
      "cell_type": "code",
      "source": [
        "# gpu에 모델을 넣어줌\n",
        "mnist_cnn_model.to(device)\n",
        "# 학습\n",
        "train(mnist_cnn_model, train_loader)"
      ],
      "metadata": {
        "colab": {
          "base_uri": "https://localhost:8080/"
        },
        "id": "ZpYZUe3hpPXY",
        "outputId": "784945ae-255e-4be8-cdb9-a5b5369d8de4"
      },
      "execution_count": null,
      "outputs": [
        {
          "output_type": "stream",
          "name": "stdout",
          "text": [
            "epochs:1 / 10\n"
          ]
        },
        {
          "output_type": "stream",
          "name": "stderr",
          "text": [
            "/usr/local/lib/python3.9/dist-packages/torch/nn/modules/container.py:217: UserWarning: Implicit dimension choice for softmax has been deprecated. Change the call to include dim=X as an argument.\n",
            "  input = module(input)\n"
          ]
        },
        {
          "output_type": "stream",
          "name": "stdout",
          "text": [
            "train_accuracy: 65.49333190917969\n",
            "epochs:2 / 10\n",
            "train_accuracy: 79.18167114257812\n",
            "epochs:3 / 10\n",
            "train_accuracy: 82.53166961669922\n",
            "epochs:4 / 10\n",
            "train_accuracy: 83.27166748046875\n",
            "epochs:5 / 10\n",
            "train_accuracy: 83.89500427246094\n",
            "epochs:6 / 10\n",
            "train_accuracy: 89.75666809082031\n",
            "epochs:7 / 10\n",
            "train_accuracy: 91.08499908447266\n",
            "epochs:8 / 10\n",
            "train_accuracy: 91.5433349609375\n",
            "epochs:9 / 10\n",
            "train_accuracy: 92.12833404541016\n",
            "epochs:10 / 10\n",
            "train_accuracy: 92.47833251953125\n"
          ]
        }
      ]
    },
    {
      "cell_type": "markdown",
      "source": [
        "# Le-Net5 이라는 검증된 네트워크를 만들어보자"
      ],
      "metadata": {
        "id": "8OVXuxX5q6Np"
      }
    },
    {
      "cell_type": "code",
      "source": [
        "import torch.nn.functional as F\n",
        "\n",
        "lenet = nn.Sequential(\n",
        "    nn.Conv2d(in_channels=1, out_channels=6, kernel_size=5, stride=1),\n",
        "    nn.Tanh(),\n",
        "    nn.AvgPool2d(kernel_size=2),\n",
        "    nn.Conv2d(in_channels=6, out_channels=16, kernel_size=5, stride=1),\n",
        "    nn.Tanh(),\n",
        "    nn.AvgPool2d(kernel_size=2),\n",
        "    nn.Conv2d(in_channels=16, out_channels=120, kernel_size=4, stride=1),\n",
        "    nn.Tanh(),\n",
        "    nn.Flatten(),\n",
        "    nn.Linear(in_features=120, out_features=84),\n",
        "    nn.Tanh(),\n",
        "    nn.Linear(in_features=84, out_features=10),\n",
        "    nn.Softmax()\n",
        ")"
      ],
      "metadata": {
        "id": "uu376H7TpfHK"
      },
      "execution_count": null,
      "outputs": []
    },
    {
      "cell_type": "code",
      "source": [
        "복잡도계산(lenet)"
      ],
      "metadata": {
        "colab": {
          "base_uri": "https://localhost:8080/"
        },
        "id": "ayklZe_XsWul",
        "outputId": "3ebe9d4f-e7b6-4fbe-c09d-4c4bbeb77f43"
      },
      "execution_count": null,
      "outputs": [
        {
          "output_type": "execute_result",
          "data": {
            "text/plain": [
              "44426"
            ]
          },
          "metadata": {},
          "execution_count": 25
        }
      ]
    },
    {
      "cell_type": "code",
      "source": [
        "# gpu에다가 모델을 넘겨주기 위함\n",
        "lenet.to(device)\n",
        "# 학습을 진행\n",
        "train(lenet, train_loader)"
      ],
      "metadata": {
        "colab": {
          "base_uri": "https://localhost:8080/"
        },
        "id": "gbpkeuvosfVy",
        "outputId": "2af45873-3783-4def-9046-3526e2846d8e"
      },
      "execution_count": null,
      "outputs": [
        {
          "output_type": "stream",
          "name": "stdout",
          "text": [
            "epochs:1 / 10\n"
          ]
        },
        {
          "output_type": "stream",
          "name": "stderr",
          "text": [
            "/usr/local/lib/python3.9/dist-packages/torch/nn/modules/container.py:217: UserWarning: Implicit dimension choice for softmax has been deprecated. Change the call to include dim=X as an argument.\n",
            "  input = module(input)\n"
          ]
        },
        {
          "output_type": "stream",
          "name": "stdout",
          "text": [
            "train_accuracy: 80.57167053222656\n",
            "epochs:2 / 10\n",
            "train_accuracy: 88.34333801269531\n",
            "epochs:3 / 10\n",
            "train_accuracy: 90.25\n",
            "epochs:4 / 10\n",
            "train_accuracy: 91.52000427246094\n",
            "epochs:5 / 10\n",
            "train_accuracy: 92.52000427246094\n",
            "epochs:6 / 10\n",
            "train_accuracy: 93.211669921875\n",
            "epochs:7 / 10\n",
            "train_accuracy: 93.86833190917969\n",
            "epochs:8 / 10\n",
            "train_accuracy: 94.44667053222656\n",
            "epochs:9 / 10\n",
            "train_accuracy: 94.84166717529297\n",
            "epochs:10 / 10\n",
            "train_accuracy: 95.28333282470703\n"
          ]
        }
      ]
    },
    {
      "cell_type": "code",
      "source": [
        "from torchsummary import summary\n",
        "\n",
        "summary(lenet, input_size=(1,28,28))"
      ],
      "metadata": {
        "colab": {
          "base_uri": "https://localhost:8080/"
        },
        "id": "dB4o1Fijsr8y",
        "outputId": "00ac2870-e60e-48d9-d2c8-255c531fba1a"
      },
      "execution_count": null,
      "outputs": [
        {
          "output_type": "stream",
          "name": "stdout",
          "text": [
            "----------------------------------------------------------------\n",
            "        Layer (type)               Output Shape         Param #\n",
            "================================================================\n",
            "            Conv2d-1            [-1, 6, 24, 24]             156\n",
            "              Tanh-2            [-1, 6, 24, 24]               0\n",
            "         AvgPool2d-3            [-1, 6, 12, 12]               0\n",
            "            Conv2d-4             [-1, 16, 8, 8]           2,416\n",
            "              Tanh-5             [-1, 16, 8, 8]               0\n",
            "         AvgPool2d-6             [-1, 16, 4, 4]               0\n",
            "            Conv2d-7            [-1, 120, 1, 1]          30,840\n",
            "              Tanh-8            [-1, 120, 1, 1]               0\n",
            "           Flatten-9                  [-1, 120]               0\n",
            "           Linear-10                   [-1, 84]          10,164\n",
            "             Tanh-11                   [-1, 84]               0\n",
            "           Linear-12                   [-1, 10]             850\n",
            "          Softmax-13                   [-1, 10]               0\n",
            "================================================================\n",
            "Total params: 44,426\n",
            "Trainable params: 44,426\n",
            "Non-trainable params: 0\n",
            "----------------------------------------------------------------\n",
            "Input size (MB): 0.00\n",
            "Forward/backward pass size (MB): 0.08\n",
            "Params size (MB): 0.17\n",
            "Estimated Total Size (MB): 0.25\n",
            "----------------------------------------------------------------\n"
          ]
        }
      ]
    },
    {
      "cell_type": "code",
      "source": [
        "summary(mnist_cnn_model, input_size=(1,28,28))"
      ],
      "metadata": {
        "colab": {
          "base_uri": "https://localhost:8080/"
        },
        "id": "bT3JlTpytYRH",
        "outputId": "818dbce6-03f5-45bc-cd1d-d3a2db0de316"
      },
      "execution_count": null,
      "outputs": [
        {
          "output_type": "stream",
          "name": "stdout",
          "text": [
            "----------------------------------------------------------------\n",
            "        Layer (type)               Output Shape         Param #\n",
            "================================================================\n",
            "            Conv2d-1            [-1, 4, 26, 26]              40\n",
            "              ReLU-2            [-1, 4, 26, 26]               0\n",
            "            Conv2d-3            [-1, 8, 24, 24]             296\n",
            "              ReLU-4            [-1, 8, 24, 24]               0\n",
            "           Flatten-5                 [-1, 4608]               0\n",
            "            Linear-6                   [-1, 48]         221,232\n",
            "           Sigmoid-7                   [-1, 48]               0\n",
            "            Linear-8                   [-1, 10]             490\n",
            "           Softmax-9                   [-1, 10]               0\n",
            "================================================================\n",
            "Total params: 222,058\n",
            "Trainable params: 222,058\n",
            "Non-trainable params: 0\n",
            "----------------------------------------------------------------\n",
            "Input size (MB): 0.00\n",
            "Forward/backward pass size (MB): 0.15\n",
            "Params size (MB): 0.85\n",
            "Estimated Total Size (MB): 1.00\n",
            "----------------------------------------------------------------\n"
          ]
        },
        {
          "output_type": "stream",
          "name": "stderr",
          "text": [
            "/usr/local/lib/python3.9/dist-packages/torch/nn/modules/container.py:217: UserWarning: Implicit dimension choice for softmax has been deprecated. Change the call to include dim=X as an argument.\n",
            "  input = module(input)\n"
          ]
        }
      ]
    },
    {
      "cell_type": "markdown",
      "source": [
        "# 복잡한 CNN을 만들어보자"
      ],
      "metadata": {
        "id": "1nVBPl9l3IXt"
      }
    },
    {
      "cell_type": "code",
      "source": [
        "model = nn.Sequential(\n",
        "    nn.Conv2d(),\n",
        "    nn.Flatten(),\n",
        "    nn.Linear,\n",
        ")"
      ],
      "metadata": {
        "id": "kojCSzNetsEt"
      },
      "execution_count": null,
      "outputs": []
    },
    {
      "cell_type": "markdown",
      "source": [
        "FashionMNIST"
      ],
      "metadata": {
        "id": "e-1n1RxG3gKO"
      }
    },
    {
      "cell_type": "code",
      "source": [
        "from torchvision.datasets import FashionMNIST\n",
        "from torchvision import transforms"
      ],
      "metadata": {
        "id": "1aoWByEo3dkQ"
      },
      "execution_count": null,
      "outputs": []
    },
    {
      "cell_type": "code",
      "source": [
        "fashion_mnist_transforms = transforms.Compose([\n",
        "    transforms.ToTensor(), # tensor형태로 변환\n",
        "    transforms.Resize(48) # 48x48 이미지로 변환\n",
        "])\n",
        "\n",
        "train_dataset = FashionMNIST('./', transform=fashion_mnist_transforms, train=True, download=True)\n",
        "test_dataset = FashionMNIST('./', transform=fashion_mnist_transforms, train=False, download=True)\n",
        "\n",
        "train_loader = DataLoader(dataset=train_dataset,\n",
        "                          batch_size = 256,\n",
        "                          shuffle = True)\n",
        "test_loader = DataLoader(dataset=test_dataset,\n",
        "                         batch_size = 256,\n",
        "                         shuffle = True)"
      ],
      "metadata": {
        "id": "uQhfEkGc31gE"
      },
      "execution_count": null,
      "outputs": []
    },
    {
      "cell_type": "markdown",
      "source": [
        "# 모델 만들기  \n",
        "총 7개의 Convolution layer가 존재하도록 만들것"
      ],
      "metadata": {
        "id": "lIQ8w90c5WBy"
      }
    },
    {
      "cell_type": "code",
      "source": [
        "from torch import nn\n",
        "import torch\n",
        "\n",
        "class SimpleConvNet1(nn.Module):\n",
        "  def __init__(self):\n",
        "    # 초기화\n",
        "    super().__init__() # 부모 클래스 초기화\n",
        "    # 선언\n",
        "    self.CNN = nn.Sequential(\n",
        "        # stage1\n",
        "        nn.Conv2d(in_channels=1,out_channels=16,kernel_size=3,stride=1,padding=1),\n",
        "        nn.ReLU(True),\n",
        "        nn.Conv2d(in_channels=16,out_channels=16,kernel_size=3,stride=1,padding=1),\n",
        "        nn.ReLU(True),\n",
        "        nn.MaxPool2d(kernel_size=2, stride=2),\n",
        "        # stage2\n",
        "        nn.Conv2d(in_channels=16,out_channels=32,kernel_size=3,stride=1,padding=1),\n",
        "        nn.ReLU(True),\n",
        "        nn.Conv2d(in_channels=32,out_channels=32,kernel_size=3,stride=1,padding=1),\n",
        "        nn.ReLU(True),\n",
        "        nn.MaxPool2d(kernel_size=2, stride=2),\n",
        "        # stage3\n",
        "        nn.Conv2d(in_channels=32,out_channels=64,kernel_size=3,stride=1,padding=1),\n",
        "        nn.ReLU(True),\n",
        "        nn.Conv2d(in_channels=64,out_channels=64,kernel_size=3,stride=1,padding=1),\n",
        "        nn.ReLU(True),\n",
        "        nn.Conv2d(in_channels=64,out_channels=64,kernel_size=3,stride=1,padding='same'),\n",
        "        nn.ReLU(True),\n",
        "        nn.MaxPool2d(kernel_size=4, stride=4),\n",
        "    )\n",
        "\n",
        "    self.FC = nn.Sequential(\n",
        "        nn.Linear(64*3*3, 256),\n",
        "        nn.ReLU(True),\n",
        "        nn.Dropout(p=0.2),\n",
        "        nn.Linear(256, 10),\n",
        "        nn.Softmax()\n",
        "    )\n",
        "\n",
        "  # forward\n",
        "  def forward(self, inp):\n",
        "    cnn_result = self.CNN(inp)\n",
        "    flatten = torch.flatten(cnn_result, 1)\n",
        "    fc_result = self.FC(flatten)\n",
        "    return fc_result"
      ],
      "metadata": {
        "id": "iPnbKaPU4nN8"
      },
      "execution_count": null,
      "outputs": []
    },
    {
      "cell_type": "code",
      "source": [
        "convnet1 = SimpleConvNet1()"
      ],
      "metadata": {
        "id": "AUFJY-qx6d6F"
      },
      "execution_count": null,
      "outputs": []
    },
    {
      "cell_type": "code",
      "source": [
        "convnet1.to(device)\n",
        "summary(convnet1, (1,48,48))\n",
        "train(convnet1, train_loader)"
      ],
      "metadata": {
        "colab": {
          "base_uri": "https://localhost:8080/"
        },
        "id": "M4OWl2n26f5s",
        "outputId": "5b334308-7a80-498e-fdd6-d995be11af8f"
      },
      "execution_count": null,
      "outputs": [
        {
          "output_type": "stream",
          "name": "stdout",
          "text": [
            "----------------------------------------------------------------\n",
            "        Layer (type)               Output Shape         Param #\n",
            "================================================================\n",
            "            Conv2d-1           [-1, 16, 48, 48]             160\n",
            "              ReLU-2           [-1, 16, 48, 48]               0\n",
            "            Conv2d-3           [-1, 16, 48, 48]           2,320\n",
            "              ReLU-4           [-1, 16, 48, 48]               0\n",
            "         MaxPool2d-5           [-1, 16, 24, 24]               0\n",
            "            Conv2d-6           [-1, 32, 24, 24]           4,640\n",
            "              ReLU-7           [-1, 32, 24, 24]               0\n",
            "            Conv2d-8           [-1, 32, 24, 24]           9,248\n",
            "              ReLU-9           [-1, 32, 24, 24]               0\n",
            "        MaxPool2d-10           [-1, 32, 12, 12]               0\n",
            "           Conv2d-11           [-1, 64, 12, 12]          18,496\n",
            "             ReLU-12           [-1, 64, 12, 12]               0\n",
            "           Conv2d-13           [-1, 64, 12, 12]          36,928\n",
            "             ReLU-14           [-1, 64, 12, 12]               0\n",
            "           Conv2d-15           [-1, 64, 12, 12]          36,928\n",
            "             ReLU-16           [-1, 64, 12, 12]               0\n",
            "        MaxPool2d-17             [-1, 64, 3, 3]               0\n",
            "           Linear-18                  [-1, 256]         147,712\n",
            "             ReLU-19                  [-1, 256]               0\n",
            "          Dropout-20                  [-1, 256]               0\n",
            "           Linear-21                   [-1, 10]           2,570\n",
            "          Softmax-22                   [-1, 10]               0\n",
            "================================================================\n",
            "Total params: 259,002\n",
            "Trainable params: 259,002\n",
            "Non-trainable params: 0\n",
            "----------------------------------------------------------------\n",
            "Input size (MB): 0.01\n",
            "Forward/backward pass size (MB): 2.23\n",
            "Params size (MB): 0.99\n",
            "Estimated Total Size (MB): 3.22\n",
            "----------------------------------------------------------------\n"
          ]
        },
        {
          "output_type": "stream",
          "name": "stderr",
          "text": [
            "/usr/local/lib/python3.9/dist-packages/torch/nn/modules/container.py:217: UserWarning: Implicit dimension choice for softmax has been deprecated. Change the call to include dim=X as an argument.\n",
            "  input = module(input)\n"
          ]
        }
      ]
    },
    {
      "cell_type": "code",
      "source": [
        "train(convnet1, train_loader)"
      ],
      "metadata": {
        "colab": {
          "base_uri": "https://localhost:8080/"
        },
        "id": "GgW5A39k-J4d",
        "outputId": "b87a3a57-9116-4083-b65e-2beccf1ad3ec"
      },
      "execution_count": null,
      "outputs": [
        {
          "output_type": "stream",
          "name": "stdout",
          "text": [
            "epochs:1 / 10\n"
          ]
        },
        {
          "output_type": "stream",
          "name": "stderr",
          "text": [
            "/usr/local/lib/python3.9/dist-packages/torchvision/transforms/functional.py:1603: UserWarning: The default value of the antialias parameter of all the resizing transforms (Resize(), RandomResizedCrop(), etc.) will change from None to True in v0.17, in order to be consistent across the PIL and Tensor backends. To suppress this warning, directly pass antialias=True (recommended, future default), antialias=None (current default, which means False for Tensors and True for PIL), or antialias=False (only works on Tensors - PIL will still use antialiasing). This also applies if you are using the inference transforms from the models weights: update the call to weights.transforms(antialias=True).\n",
            "  warnings.warn(\n",
            "/usr/local/lib/python3.9/dist-packages/torch/nn/modules/container.py:217: UserWarning: Implicit dimension choice for softmax has been deprecated. Change the call to include dim=X as an argument.\n",
            "  input = module(input)\n"
          ]
        },
        {
          "output_type": "stream",
          "name": "stdout",
          "text": [
            "train_accuracy: 70.73333740234375\n",
            "학습하는데 걸린 시간: 0분 31초\n",
            "epochs:2 / 10\n",
            "train_accuracy: 75.40166473388672\n",
            "학습하는데 걸린 시간: 1분 4초\n",
            "epochs:3 / 10\n",
            "train_accuracy: 78.7066650390625\n",
            "학습하는데 걸린 시간: 1분 36초\n",
            "epochs:4 / 10\n",
            "train_accuracy: 80.15166473388672\n",
            "학습하는데 걸린 시간: 2분 7초\n",
            "epochs:5 / 10\n",
            "train_accuracy: 80.55833435058594\n",
            "학습하는데 걸린 시간: 2분 39초\n",
            "epochs:6 / 10\n",
            "train_accuracy: 81.83333587646484\n",
            "학습하는데 걸린 시간: 3분 11초\n",
            "epochs:7 / 10\n",
            "train_accuracy: 82.90666961669922\n",
            "학습하는데 걸린 시간: 3분 42초\n",
            "epochs:8 / 10\n",
            "train_accuracy: 83.33499908447266\n",
            "학습하는데 걸린 시간: 4분 13초\n",
            "epochs:9 / 10\n",
            "train_accuracy: 83.41166687011719\n",
            "학습하는데 걸린 시간: 4분 45초\n",
            "epochs:10 / 10\n",
            "train_accuracy: 83.89833068847656\n",
            "학습하는데 걸린 시간: 5분 16초\n"
          ]
        }
      ]
    },
    {
      "cell_type": "markdown",
      "source": [
        "# test하는 함수"
      ],
      "metadata": {
        "id": "iRoWrgjHEMZo"
      }
    },
    {
      "cell_type": "code",
      "source": [
        "def test(model, loader):\n",
        "  with torch.no_grad():\n",
        "    # 이 안에 있는 것들은 기울기 계산을 안함\n",
        "    # 모델이 고정됨. 평가하는 용도로 제격\n",
        "    model.eval() # 모델을 평가모드로 변경\n",
        "    correct = 0\n",
        "    for xx, yy in loader:\n",
        "      # xx: 데이터(이미지)\n",
        "      # yy: 정답\n",
        "      data, target = xx.to(device), yy.to(device)\n",
        "      pred = model(data)\n",
        "      _, predicted = torch.max(pred, 1)\n",
        "      correct += predicted.eq(target.data).sum()\n",
        "\n",
        "    print(f\"test accuracy: {(100. * correct / len(loader.dataset)).item()}\")"
      ],
      "metadata": {
        "id": "NSDAAz4I_hnh"
      },
      "execution_count": null,
      "outputs": []
    },
    {
      "cell_type": "code",
      "source": [
        "test(convnet1, test_loader)"
      ],
      "metadata": {
        "colab": {
          "base_uri": "https://localhost:8080/"
        },
        "id": "g4Xh8GpdFIOD",
        "outputId": "bd3b8e6f-c88f-4877-ba00-be882e97f5b5"
      },
      "execution_count": null,
      "outputs": [
        {
          "output_type": "stream",
          "name": "stderr",
          "text": [
            "/usr/local/lib/python3.9/dist-packages/torchvision/transforms/functional.py:1603: UserWarning: The default value of the antialias parameter of all the resizing transforms (Resize(), RandomResizedCrop(), etc.) will change from None to True in v0.17, in order to be consistent across the PIL and Tensor backends. To suppress this warning, directly pass antialias=True (recommended, future default), antialias=None (current default, which means False for Tensors and True for PIL), or antialias=False (only works on Tensors - PIL will still use antialiasing). This also applies if you are using the inference transforms from the models weights: update the call to weights.transforms(antialias=True).\n",
            "  warnings.warn(\n",
            "/usr/local/lib/python3.9/dist-packages/torch/nn/modules/container.py:217: UserWarning: Implicit dimension choice for softmax has been deprecated. Change the call to include dim=X as an argument.\n",
            "  input = module(input)\n"
          ]
        },
        {
          "output_type": "stream",
          "name": "stdout",
          "text": [
            "test accuracy: 82.56999969482422\n"
          ]
        }
      ]
    },
    {
      "cell_type": "markdown",
      "source": [
        "# MNIST 훈련\n",
        "\n",
        "# SVHN이라는 데이터셋 학습"
      ],
      "metadata": {
        "id": "2N4gktZhJmQ2"
      }
    },
    {
      "cell_type": "code",
      "source": [
        "fashion_mnist_transforms = transforms.Compose([\n",
        "    transforms.ToTensor(), # tensor형태로 변환\n",
        "    transforms.Resize(48) # 48x48 이미지로 변환\n",
        "])\n",
        "\n",
        "train_dataset = MNIST(root='MNIST_data/', train=True, transform=fashion_mnist_transforms, download=True)\n",
        "test_dataset = MNIST(root='MNIST_data/', train=False, transform=fashion_mnist_transforms, download=True)"
      ],
      "metadata": {
        "id": "rw6mi2ADFMpH"
      },
      "execution_count": null,
      "outputs": []
    },
    {
      "cell_type": "code",
      "source": [
        "train_loader = DataLoader(dataset = train_dataset,\n",
        "                         batch_size = 256,\n",
        "                         shuffle=True)\n",
        "test_loader = DataLoader(dataset = test_dataset,\n",
        "                         batch_size = 256,\n",
        "                         shuffle=True)"
      ],
      "metadata": {
        "id": "bSZbkjVzJ-vW"
      },
      "execution_count": null,
      "outputs": []
    },
    {
      "cell_type": "code",
      "source": [
        "convnet2 = SimpleConvNet1()"
      ],
      "metadata": {
        "id": "wTKIZFoDKK2D"
      },
      "execution_count": null,
      "outputs": []
    },
    {
      "cell_type": "code",
      "source": [
        "convnet2.to(device)\n",
        "summary(convnet2, (1,48,48))"
      ],
      "metadata": {
        "colab": {
          "base_uri": "https://localhost:8080/"
        },
        "id": "51j2o1QDKZEN",
        "outputId": "f0429629-baa0-4507-8ddc-10f01ec62823"
      },
      "execution_count": null,
      "outputs": [
        {
          "output_type": "stream",
          "name": "stdout",
          "text": [
            "----------------------------------------------------------------\n",
            "        Layer (type)               Output Shape         Param #\n",
            "================================================================\n",
            "            Conv2d-1           [-1, 16, 48, 48]             160\n",
            "              ReLU-2           [-1, 16, 48, 48]               0\n",
            "            Conv2d-3           [-1, 16, 48, 48]           2,320\n",
            "              ReLU-4           [-1, 16, 48, 48]               0\n",
            "         MaxPool2d-5           [-1, 16, 24, 24]               0\n",
            "            Conv2d-6           [-1, 32, 24, 24]           4,640\n",
            "              ReLU-7           [-1, 32, 24, 24]               0\n",
            "            Conv2d-8           [-1, 32, 24, 24]           9,248\n",
            "              ReLU-9           [-1, 32, 24, 24]               0\n",
            "        MaxPool2d-10           [-1, 32, 12, 12]               0\n",
            "           Conv2d-11           [-1, 64, 12, 12]          18,496\n",
            "             ReLU-12           [-1, 64, 12, 12]               0\n",
            "           Conv2d-13           [-1, 64, 12, 12]          36,928\n",
            "             ReLU-14           [-1, 64, 12, 12]               0\n",
            "           Conv2d-15           [-1, 64, 12, 12]          36,928\n",
            "             ReLU-16           [-1, 64, 12, 12]               0\n",
            "        MaxPool2d-17             [-1, 64, 3, 3]               0\n",
            "           Linear-18                  [-1, 256]         147,712\n",
            "             ReLU-19                  [-1, 256]               0\n",
            "          Dropout-20                  [-1, 256]               0\n",
            "           Linear-21                   [-1, 10]           2,570\n",
            "          Softmax-22                   [-1, 10]               0\n",
            "================================================================\n",
            "Total params: 259,002\n",
            "Trainable params: 259,002\n",
            "Non-trainable params: 0\n",
            "----------------------------------------------------------------\n",
            "Input size (MB): 0.01\n",
            "Forward/backward pass size (MB): 2.23\n",
            "Params size (MB): 0.99\n",
            "Estimated Total Size (MB): 3.22\n",
            "----------------------------------------------------------------\n"
          ]
        },
        {
          "output_type": "stream",
          "name": "stderr",
          "text": [
            "/usr/local/lib/python3.9/dist-packages/torch/nn/modules/container.py:217: UserWarning: Implicit dimension choice for softmax has been deprecated. Change the call to include dim=X as an argument.\n",
            "  input = module(input)\n"
          ]
        }
      ]
    },
    {
      "cell_type": "code",
      "source": [
        "train(convnet2, train_loader)"
      ],
      "metadata": {
        "colab": {
          "base_uri": "https://localhost:8080/"
        },
        "id": "guAXXz6LKfI4",
        "outputId": "395a7fa2-8ca0-469b-805b-017ba564be13"
      },
      "execution_count": null,
      "outputs": [
        {
          "output_type": "stream",
          "name": "stdout",
          "text": [
            "epochs:1 / 10\n"
          ]
        },
        {
          "output_type": "stream",
          "name": "stderr",
          "text": [
            "/usr/local/lib/python3.9/dist-packages/torchvision/transforms/functional.py:1603: UserWarning: The default value of the antialias parameter of all the resizing transforms (Resize(), RandomResizedCrop(), etc.) will change from None to True in v0.17, in order to be consistent across the PIL and Tensor backends. To suppress this warning, directly pass antialias=True (recommended, future default), antialias=None (current default, which means False for Tensors and True for PIL), or antialias=False (only works on Tensors - PIL will still use antialiasing). This also applies if you are using the inference transforms from the models weights: update the call to weights.transforms(antialias=True).\n",
            "  warnings.warn(\n",
            "/usr/local/lib/python3.9/dist-packages/torch/nn/modules/container.py:217: UserWarning: Implicit dimension choice for softmax has been deprecated. Change the call to include dim=X as an argument.\n",
            "  input = module(input)\n"
          ]
        },
        {
          "output_type": "stream",
          "name": "stdout",
          "text": [
            "train_accuracy: 83.3316650390625\n",
            "학습하는데 걸린 시간: 0분 31초\n",
            "epochs:2 / 10\n",
            "train_accuracy: 94.38666534423828\n",
            "학습하는데 걸린 시간: 1분 4초\n",
            "epochs:3 / 10\n",
            "train_accuracy: 96.23333740234375\n",
            "학습하는데 걸린 시간: 1분 46초\n",
            "epochs:4 / 10\n",
            "train_accuracy: 96.84333801269531\n",
            "학습하는데 걸린 시간: 2분 30초\n",
            "epochs:5 / 10\n",
            "train_accuracy: 96.74500274658203\n",
            "학습하는데 걸린 시간: 3분 12초\n",
            "epochs:6 / 10\n",
            "train_accuracy: 97.41333770751953\n",
            "학습하는데 걸린 시간: 3분 55초\n",
            "epochs:7 / 10\n",
            "train_accuracy: 97.63833618164062\n",
            "학습하는데 걸린 시간: 4분 36초\n",
            "epochs:8 / 10\n",
            "train_accuracy: 97.86000061035156\n",
            "학습하는데 걸린 시간: 5분 15초\n",
            "epochs:9 / 10\n",
            "train_accuracy: 97.69000244140625\n",
            "학습하는데 걸린 시간: 5분 46초\n",
            "epochs:10 / 10\n",
            "train_accuracy: 98.1866683959961\n",
            "학습하는데 걸린 시간: 6분 19초\n"
          ]
        }
      ]
    },
    {
      "cell_type": "code",
      "source": [
        "import torchvision.datasets as datasets\n",
        "\n",
        "svhn_transform = transforms.Compose([\n",
        "    transforms.ToTensor(),\n",
        "    transforms.Resize((48,48)),\n",
        "    transforms.Grayscale()\n",
        "])\n",
        "\n",
        "SVHN_train_dataset = datasets.SVHN(root='./', split='train', transform=svhn_transform, download=True)\n",
        "SVHN_test_dataset = datasets.SVHN(root='./', split='test', transform=svhn_transform, download=True)\n",
        "\n",
        "sv_train_loader = DataLoader(dataset=SVHN_train_dataset, batch_size=128, shuffle=True)\n",
        "sv_test_loader = DataLoader(dataset=SVHN_test_dataset, batch_size=128, shuffle=True)"
      ],
      "metadata": {
        "colab": {
          "base_uri": "https://localhost:8080/"
        },
        "id": "Hy-87iOtLOK6",
        "outputId": "755722ae-ab07-4669-e0c0-290549613cca"
      },
      "execution_count": null,
      "outputs": [
        {
          "output_type": "stream",
          "name": "stdout",
          "text": [
            "Downloading http://ufldl.stanford.edu/housenumbers/train_32x32.mat to ./train_32x32.mat\n"
          ]
        },
        {
          "output_type": "stream",
          "name": "stderr",
          "text": [
            "100%|██████████| 182040794/182040794 [00:18<00:00, 9782226.33it/s] \n"
          ]
        },
        {
          "output_type": "stream",
          "name": "stdout",
          "text": [
            "Downloading http://ufldl.stanford.edu/housenumbers/test_32x32.mat to ./test_32x32.mat\n"
          ]
        },
        {
          "output_type": "stream",
          "name": "stderr",
          "text": [
            "100%|██████████| 64275384/64275384 [00:11<00:00, 5610276.65it/s] \n"
          ]
        }
      ]
    },
    {
      "cell_type": "code",
      "source": [
        "SVHN_train_dataset[0][0].shape"
      ],
      "metadata": {
        "colab": {
          "base_uri": "https://localhost:8080/"
        },
        "id": "BE00dCCIMY3l",
        "outputId": "9f04e3c8-e031-4e72-9508-83daec39d36e"
      },
      "execution_count": null,
      "outputs": [
        {
          "output_type": "stream",
          "name": "stderr",
          "text": [
            "/usr/local/lib/python3.9/dist-packages/torchvision/transforms/functional.py:1603: UserWarning: The default value of the antialias parameter of all the resizing transforms (Resize(), RandomResizedCrop(), etc.) will change from None to True in v0.17, in order to be consistent across the PIL and Tensor backends. To suppress this warning, directly pass antialias=True (recommended, future default), antialias=None (current default, which means False for Tensors and True for PIL), or antialias=False (only works on Tensors - PIL will still use antialiasing). This also applies if you are using the inference transforms from the models weights: update the call to weights.transforms(antialias=True).\n",
            "  warnings.warn(\n"
          ]
        },
        {
          "output_type": "execute_result",
          "data": {
            "text/plain": [
              "torch.Size([1, 48, 48])"
            ]
          },
          "metadata": {},
          "execution_count": 70
        }
      ]
    },
    {
      "cell_type": "code",
      "source": [
        "plt.imshow(SVHN_train_dataset[170][0][0], cmap='gray')\n",
        "plt.show()"
      ],
      "metadata": {
        "colab": {
          "base_uri": "https://localhost:8080/",
          "height": 431
        },
        "id": "WaRKbzNfNa5m",
        "outputId": "5392860c-beb1-4a2c-e695-16233f7d821e"
      },
      "execution_count": null,
      "outputs": [
        {
          "output_type": "display_data",
          "data": {
            "text/plain": [
              "<Figure size 640x480 with 1 Axes>"
            ],
            "image/png": "[encoded data removed]"
          },
          "metadata": {}
        }
      ]
    },
    {
      "cell_type": "code",
      "source": [
        "test(convnet2, sv_test_loader)"
      ],
      "metadata": {
        "colab": {
          "base_uri": "https://localhost:8080/"
        },
        "id": "4Lh67duRNh_X",
        "outputId": "15f6746f-ecfc-4c4b-9778-8252887ee829"
      },
      "execution_count": null,
      "outputs": [
        {
          "output_type": "stream",
          "name": "stderr",
          "text": [
            "/usr/local/lib/python3.9/dist-packages/torchvision/transforms/functional.py:1603: UserWarning: The default value of the antialias parameter of all the resizing transforms (Resize(), RandomResizedCrop(), etc.) will change from None to True in v0.17, in order to be consistent across the PIL and Tensor backends. To suppress this warning, directly pass antialias=True (recommended, future default), antialias=None (current default, which means False for Tensors and True for PIL), or antialias=False (only works on Tensors - PIL will still use antialiasing). This also applies if you are using the inference transforms from the models weights: update the call to weights.transforms(antialias=True).\n",
            "  warnings.warn(\n",
            "/usr/local/lib/python3.9/dist-packages/torch/nn/modules/container.py:217: UserWarning: Implicit dimension choice for softmax has been deprecated. Change the call to include dim=X as an argument.\n",
            "  input = module(input)\n"
          ]
        },
        {
          "output_type": "stream",
          "name": "stdout",
          "text": [
            "test accuracy: 11.966041564941406\n"
          ]
        }
      ]
    },
    {
      "cell_type": "markdown",
      "source": [
        "Transfer Learning"
      ],
      "metadata": {
        "id": "gD77FZeCN_XM"
      }
    },
    {
      "cell_type": "code",
      "source": [
        "class SvhnNet(nn.Module):\n",
        "  def __init__(self, pretrain_model):\n",
        "    super().__init__()\n",
        "    self.pretrain = pretrain_model # 학습된 모델을 self.pretrain에 저장\n",
        "    # 우리가 받은 pretrain_model의 parameter를 고정\n",
        "    for param in self.pretrain.parameters():\n",
        "      param.requires_grad = False\n",
        "\n",
        "    self.add_model = nn.Sequential(\n",
        "        nn.Linear(in_features=64*3*3, out_features=256),\n",
        "        nn.ReLU(True),\n",
        "        nn.Dropout(p=0.2),\n",
        "        nn.Linear(in_features=256, out_features=10),\n",
        "        nn.Softmax()\n",
        "    )\n",
        "\n",
        "  def forward(self, inp):\n",
        "    with torch.no_grad(): # 기울기 학습 안하도록 함\n",
        "      cnn_result = self.pretrain(inp)\n",
        "    flatten = torch.flatten(cnn_result, 1)\n",
        "    result = self.add_model(flatten)\n",
        "    return result"
      ],
      "metadata": {
        "id": "Yftn92_8N2Vx"
      },
      "execution_count": null,
      "outputs": []
    },
    {
      "cell_type": "code",
      "source": [
        "svhn_net = SvhnNet(convnet2.CNN)"
      ],
      "metadata": {
        "id": "yhEbj6MJOFdk"
      },
      "execution_count": null,
      "outputs": []
    },
    {
      "cell_type": "code",
      "source": [
        "svhn_net.to(device)\n",
        "summary(svhn_net, (1,48,48))"
      ],
      "metadata": {
        "colab": {
          "base_uri": "https://localhost:8080/"
        },
        "id": "9ttxEPpiP_Tr",
        "outputId": "996cb633-3b77-48c6-de03-771a9fd5d893"
      },
      "execution_count": null,
      "outputs": [
        {
          "output_type": "stream",
          "name": "stdout",
          "text": [
            "----------------------------------------------------------------\n",
            "        Layer (type)               Output Shape         Param #\n",
            "================================================================\n",
            "            Conv2d-1           [-1, 16, 48, 48]             160\n",
            "              ReLU-2           [-1, 16, 48, 48]               0\n",
            "            Conv2d-3           [-1, 16, 48, 48]           2,320\n",
            "              ReLU-4           [-1, 16, 48, 48]               0\n",
            "         MaxPool2d-5           [-1, 16, 24, 24]               0\n",
            "            Conv2d-6           [-1, 32, 24, 24]           4,640\n",
            "              ReLU-7           [-1, 32, 24, 24]               0\n",
            "            Conv2d-8           [-1, 32, 24, 24]           9,248\n",
            "              ReLU-9           [-1, 32, 24, 24]               0\n",
            "        MaxPool2d-10           [-1, 32, 12, 12]               0\n",
            "           Conv2d-11           [-1, 64, 12, 12]          18,496\n",
            "             ReLU-12           [-1, 64, 12, 12]               0\n",
            "           Conv2d-13           [-1, 64, 12, 12]          36,928\n",
            "             ReLU-14           [-1, 64, 12, 12]               0\n",
            "           Conv2d-15           [-1, 64, 12, 12]          36,928\n",
            "             ReLU-16           [-1, 64, 12, 12]               0\n",
            "        MaxPool2d-17             [-1, 64, 3, 3]               0\n",
            "           Linear-18                  [-1, 256]         147,712\n",
            "             ReLU-19                  [-1, 256]               0\n",
            "          Dropout-20                  [-1, 256]               0\n",
            "           Linear-21                   [-1, 10]           2,570\n",
            "          Softmax-22                   [-1, 10]               0\n",
            "================================================================\n",
            "Total params: 259,002\n",
            "Trainable params: 150,282\n",
            "Non-trainable params: 108,720\n",
            "----------------------------------------------------------------\n",
            "Input size (MB): 0.01\n",
            "Forward/backward pass size (MB): 2.23\n",
            "Params size (MB): 0.99\n",
            "Estimated Total Size (MB): 3.22\n",
            "----------------------------------------------------------------\n"
          ]
        },
        {
          "output_type": "stream",
          "name": "stderr",
          "text": [
            "/usr/local/lib/python3.9/dist-packages/torch/nn/modules/container.py:217: UserWarning: Implicit dimension choice for softmax has been deprecated. Change the call to include dim=X as an argument.\n",
            "  input = module(input)\n"
          ]
        }
      ]
    },
    {
      "cell_type": "code",
      "source": [
        "SVHN_train_dataset"
      ],
      "metadata": {
        "colab": {
          "base_uri": "https://localhost:8080/"
        },
        "id": "_XtuPJzFQkI4",
        "outputId": "dfc37dff-c293-40ad-d8d1-477dd8ab346b"
      },
      "execution_count": null,
      "outputs": [
        {
          "output_type": "execute_result",
          "data": {
            "text/plain": [
              "Dataset SVHN\n",
              "    Number of datapoints: 73257\n",
              "    Root location: ./\n",
              "    Split: train\n",
              "    StandardTransform\n",
              "Transform: Compose(\n",
              "               ToTensor()\n",
              "               Resize(size=(48, 48), interpolation=bilinear, max_size=None, antialias=warn)\n",
              "               Grayscale(num_output_channels=1)\n",
              "           )"
            ]
          },
          "metadata": {},
          "execution_count": 84
        }
      ]
    },
    {
      "cell_type": "code",
      "source": [
        "# 데이터셋에서 일부만 가져오기\n",
        "from torch.utils.data import random_split\n",
        "svhn_train_1, svhn_train_2 = random_split(SVHN_train_dataset, [1000, 72257])\n",
        "sv_train_loader2 = DataLoader(dataset=svhn_train_1,\n",
        "                              batch_size=128,\n",
        "                              shuffle=True)"
      ],
      "metadata": {
        "id": "l_RJrW1dQbj_"
      },
      "execution_count": null,
      "outputs": []
    },
    {
      "cell_type": "code",
      "source": [
        "train(svhn_net, sv_train_loader)"
      ],
      "metadata": {
        "colab": {
          "base_uri": "https://localhost:8080/"
        },
        "id": "B2d8SrGIQDI8",
        "outputId": "f768ac54-24ca-438d-f179-0233296d2b02"
      },
      "execution_count": null,
      "outputs": [
        {
          "output_type": "stream",
          "name": "stdout",
          "text": [
            "epochs:1 / 10\n",
            "train_accuracy: 44.93768310546875\n",
            "학습하는데 걸린 시간: 1분 9초\n",
            "epochs:2 / 10\n",
            "train_accuracy: 52.521942138671875\n",
            "학습하는데 걸린 시간: 2분 19초\n",
            "epochs:3 / 10\n",
            "train_accuracy: 55.111454010009766\n",
            "학습하는데 걸린 시간: 3분 31초\n",
            "epochs:4 / 10\n",
            "train_accuracy: 59.904170989990234\n",
            "학습하는데 걸린 시간: 4분 42초\n",
            "epochs:5 / 10\n",
            "train_accuracy: 63.1489143371582\n",
            "학습하는데 걸린 시간: 5분 54초\n",
            "epochs:6 / 10\n",
            "train_accuracy: 62.417240142822266\n",
            "학습하는데 걸린 시간: 7분 5초\n",
            "epochs:7 / 10\n",
            "train_accuracy: 65.5937271118164\n",
            "학습하는데 걸린 시간: 8분 16초\n",
            "epochs:8 / 10\n",
            "train_accuracy: 65.77391815185547\n",
            "학습하는데 걸린 시간: 9분 28초\n",
            "epochs:9 / 10\n",
            "train_accuracy: 66.3963851928711\n",
            "학습하는데 걸린 시간: 10분 40초\n",
            "epochs:10 / 10\n",
            "train_accuracy: 65.97184753417969\n",
            "학습하는데 걸린 시간: 11분 52초\n"
          ]
        }
      ]
    },
    {
      "cell_type": "markdown",
      "source": [
        "# 학습된 ResNet 18을 이용해서 매우 적은 숫자의 FashionMNIST를 학습시키자"
      ],
      "metadata": {
        "id": "2XAu-KXyYQ5d"
      }
    },
    {
      "cell_type": "markdown",
      "source": [
        "FashionMNIST 데이터셋을 불러오자"
      ],
      "metadata": {
        "id": "2BvjYHylYYpr"
      }
    },
    {
      "cell_type": "code",
      "source": [
        "fashion_mnist_transforms = transforms.Compose([\n",
        "    transforms.ToTensor(), # tensor형태로 변환\n",
        "    transforms.Resize(224) # 224x224 이미지로 변환\n",
        "])\n",
        "\n",
        "train_dataset = FashionMNIST('./', transform=fashion_mnist_transforms, train=True, download=True)\n",
        "test_dataset = FashionMNIST('./', transform=fashion_mnist_transforms, train=False, download=True)\n",
        "\n",
        "test_loader = DataLoader(dataset=test_dataset,\n",
        "                         batch_size = 256,\n",
        "                         shuffle = True)"
      ],
      "metadata": {
        "id": "fPj-iPs2Q5JT"
      },
      "execution_count": null,
      "outputs": []
    },
    {
      "cell_type": "code",
      "source": [
        "# random_split\n",
        "\n",
        "train_dataset1, train_dataset2 = random_split(train_dataset, [1000, 59000])\n",
        "train_loader2 = DataLoader(dataset = train_dataset1,\n",
        "                           batch_size = 128,\n",
        "                           shuffle = True)"
      ],
      "metadata": {
        "id": "4LumSlAYYsrr"
      },
      "execution_count": null,
      "outputs": []
    },
    {
      "cell_type": "markdown",
      "source": [
        "# ResNet18 Transfer Learning"
      ],
      "metadata": {
        "id": "fBrOn4qvZWsm"
      }
    },
    {
      "cell_type": "markdown",
      "source": [
        "## 학습된 ResNet18을 불러오자"
      ],
      "metadata": {
        "id": "4MhgVL_LZZtV"
      }
    },
    {
      "cell_type": "code",
      "source": [
        "from torchvision import models\n",
        "resnet18_pretrained = models.resnet18(pretrained=True)"
      ],
      "metadata": {
        "colab": {
          "base_uri": "https://localhost:8080/"
        },
        "id": "Epz2AdXyZL6m",
        "outputId": "f91cb331-f5a1-474f-fceb-a5bcda4e21d1"
      },
      "execution_count": null,
      "outputs": [
        {
          "output_type": "stream",
          "name": "stderr",
          "text": [
            "/usr/local/lib/python3.9/dist-packages/torchvision/models/_utils.py:208: UserWarning: The parameter 'pretrained' is deprecated since 0.13 and may be removed in the future, please use 'weights' instead.\n",
            "  warnings.warn(\n",
            "/usr/local/lib/python3.9/dist-packages/torchvision/models/_utils.py:223: UserWarning: Arguments other than a weight enum or `None` for 'weights' are deprecated since 0.13 and may be removed in the future. The current behavior is equivalent to passing `weights=ResNet18_Weights.IMAGENET1K_V1`. You can also use `weights=ResNet18_Weights.DEFAULT` to get the most up-to-date weights.\n",
            "  warnings.warn(msg)\n"
          ]
        }
      ]
    },
    {
      "cell_type": "markdown",
      "source": [
        "Transfer Learning을 진행하기위해 할 것  \n",
        "1. 뒤쪽에 FC레이어를 변경\n",
        "2. 앞쪽에 CNN부분의 학습을 멈춤 (freeze)\n",
        "\n"
      ],
      "metadata": {
        "id": "Teaf0OuzZ9Xw"
      }
    },
    {
      "cell_type": "code",
      "source": [
        "# freeze\n",
        "for param in resnet18_pretrained.parameters():\n",
        "  param.requires_grad = False\n",
        "# 뒤쪽에 FC 레이어를 변경\n",
        "resnet18_pretrained.fc = nn.Sequential(\n",
        "    nn.Linear(512,10),\n",
        "    nn.Softmax()\n",
        ")\n",
        "resnet18_pretrained.conv1 = nn.Conv2d(in_channels=1, out_channels=64,\n",
        "                                      kernel_size=(7,7),\n",
        "                                      stride=(2,2),\n",
        "                                      padding=(3,3),\n",
        "                                      bias=False)\n",
        "resnet18_pretrained.to(device)"
      ],
      "metadata": {
        "colab": {
          "base_uri": "https://localhost:8080/"
        },
        "id": "NZND_WWMZQZh",
        "outputId": "c13a9963-122e-4e9e-a372-21346def6a72"
      },
      "execution_count": null,
      "outputs": [
        {
          "output_type": "execute_result",
          "data": {
            "text/plain": [
              "ResNet(\n",
              "  (conv1): Conv2d(1, 64, kernel_size=(7, 7), stride=(2, 2), padding=(3, 3), bias=False)\n",
              "  (bn1): BatchNorm2d(64, eps=1e-05, momentum=0.1, affine=True, track_running_stats=True)\n",
              "  (relu): ReLU(inplace=True)\n",
              "  (maxpool): MaxPool2d(kernel_size=3, stride=2, padding=1, dilation=1, ceil_mode=False)\n",
              "  (layer1): Sequential(\n",
              "    (0): BasicBlock(\n",
              "      (conv1): Conv2d(64, 64, kernel_size=(3, 3), stride=(1, 1), padding=(1, 1), bias=False)\n",
              "      (bn1): BatchNorm2d(64, eps=1e-05, momentum=0.1, affine=True, track_running_stats=True)\n",
              "      (relu): ReLU(inplace=True)\n",
              "      (conv2): Conv2d(64, 64, kernel_size=(3, 3), stride=(1, 1), padding=(1, 1), bias=False)\n",
              "      (bn2): BatchNorm2d(64, eps=1e-05, momentum=0.1, affine=True, track_running_stats=True)\n",
              "    )\n",
              "    (1): BasicBlock(\n",
              "      (conv1): Conv2d(64, 64, kernel_size=(3, 3), stride=(1, 1), padding=(1, 1), bias=False)\n",
              "      (bn1): BatchNorm2d(64, eps=1e-05, momentum=0.1, affine=True, track_running_stats=True)\n",
              "      (relu): ReLU(inplace=True)\n",
              "      (conv2): Conv2d(64, 64, kernel_size=(3, 3), stride=(1, 1), padding=(1, 1), bias=False)\n",
              "      (bn2): BatchNorm2d(64, eps=1e-05, momentum=0.1, affine=True, track_running_stats=True)\n",
              "    )\n",
              "  )\n",
              "  (layer2): Sequential(\n",
              "    (0): BasicBlock(\n",
              "      (conv1): Conv2d(64, 128, kernel_size=(3, 3), stride=(2, 2), padding=(1, 1), bias=False)\n",
              "      (bn1): BatchNorm2d(128, eps=1e-05, momentum=0.1, affine=True, track_running_stats=True)\n",
              "      (relu): ReLU(inplace=True)\n",
              "      (conv2): Conv2d(128, 128, kernel_size=(3, 3), stride=(1, 1), padding=(1, 1), bias=False)\n",
              "      (bn2): BatchNorm2d(128, eps=1e-05, momentum=0.1, affine=True, track_running_stats=True)\n",
              "      (downsample): Sequential(\n",
              "        (0): Conv2d(64, 128, kernel_size=(1, 1), stride=(2, 2), bias=False)\n",
              "        (1): BatchNorm2d(128, eps=1e-05, momentum=0.1, affine=True, track_running_stats=True)\n",
              "      )\n",
              "    )\n",
              "    (1): BasicBlock(\n",
              "      (conv1): Conv2d(128, 128, kernel_size=(3, 3), stride=(1, 1), padding=(1, 1), bias=False)\n",
              "      (bn1): BatchNorm2d(128, eps=1e-05, momentum=0.1, affine=True, track_running_stats=True)\n",
              "      (relu): ReLU(inplace=True)\n",
              "      (conv2): Conv2d(128, 128, kernel_size=(3, 3), stride=(1, 1), padding=(1, 1), bias=False)\n",
              "      (bn2): BatchNorm2d(128, eps=1e-05, momentum=0.1, affine=True, track_running_stats=True)\n",
              "    )\n",
              "  )\n",
              "  (layer3): Sequential(\n",
              "    (0): BasicBlock(\n",
              "      (conv1): Conv2d(128, 256, kernel_size=(3, 3), stride=(2, 2), padding=(1, 1), bias=False)\n",
              "      (bn1): BatchNorm2d(256, eps=1e-05, momentum=0.1, affine=True, track_running_stats=True)\n",
              "      (relu): ReLU(inplace=True)\n",
              "      (conv2): Conv2d(256, 256, kernel_size=(3, 3), stride=(1, 1), padding=(1, 1), bias=False)\n",
              "      (bn2): BatchNorm2d(256, eps=1e-05, momentum=0.1, affine=True, track_running_stats=True)\n",
              "      (downsample): Sequential(\n",
              "        (0): Conv2d(128, 256, kernel_size=(1, 1), stride=(2, 2), bias=False)\n",
              "        (1): BatchNorm2d(256, eps=1e-05, momentum=0.1, affine=True, track_running_stats=True)\n",
              "      )\n",
              "    )\n",
              "    (1): BasicBlock(\n",
              "      (conv1): Conv2d(256, 256, kernel_size=(3, 3), stride=(1, 1), padding=(1, 1), bias=False)\n",
              "      (bn1): BatchNorm2d(256, eps=1e-05, momentum=0.1, affine=True, track_running_stats=True)\n",
              "      (relu): ReLU(inplace=True)\n",
              "      (conv2): Conv2d(256, 256, kernel_size=(3, 3), stride=(1, 1), padding=(1, 1), bias=False)\n",
              "      (bn2): BatchNorm2d(256, eps=1e-05, momentum=0.1, affine=True, track_running_stats=True)\n",
              "    )\n",
              "  )\n",
              "  (layer4): Sequential(\n",
              "    (0): BasicBlock(\n",
              "      (conv1): Conv2d(256, 512, kernel_size=(3, 3), stride=(2, 2), padding=(1, 1), bias=False)\n",
              "      (bn1): BatchNorm2d(512, eps=1e-05, momentum=0.1, affine=True, track_running_stats=True)\n",
              "      (relu): ReLU(inplace=True)\n",
              "      (conv2): Conv2d(512, 512, kernel_size=(3, 3), stride=(1, 1), padding=(1, 1), bias=False)\n",
              "      (bn2): BatchNorm2d(512, eps=1e-05, momentum=0.1, affine=True, track_running_stats=True)\n",
              "      (downsample): Sequential(\n",
              "        (0): Conv2d(256, 512, kernel_size=(1, 1), stride=(2, 2), bias=False)\n",
              "        (1): BatchNorm2d(512, eps=1e-05, momentum=0.1, affine=True, track_running_stats=True)\n",
              "      )\n",
              "    )\n",
              "    (1): BasicBlock(\n",
              "      (conv1): Conv2d(512, 512, kernel_size=(3, 3), stride=(1, 1), padding=(1, 1), bias=False)\n",
              "      (bn1): BatchNorm2d(512, eps=1e-05, momentum=0.1, affine=True, track_running_stats=True)\n",
              "      (relu): ReLU(inplace=True)\n",
              "      (conv2): Conv2d(512, 512, kernel_size=(3, 3), stride=(1, 1), padding=(1, 1), bias=False)\n",
              "      (bn2): BatchNorm2d(512, eps=1e-05, momentum=0.1, affine=True, track_running_stats=True)\n",
              "    )\n",
              "  )\n",
              "  (avgpool): AdaptiveAvgPool2d(output_size=(1, 1))\n",
              "  (fc): Sequential(\n",
              "    (0): Linear(in_features=512, out_features=10, bias=True)\n",
              "    (1): Softmax(dim=None)\n",
              "  )\n",
              ")"
            ]
          },
          "metadata": {},
          "execution_count": 103
        }
      ]
    },
    {
      "cell_type": "code",
      "source": [
        "summary(resnet18_pretrained, (1,224,224))"
      ],
      "metadata": {
        "colab": {
          "base_uri": "https://localhost:8080/"
        },
        "id": "Kk0E0fthbE7P",
        "outputId": "16e1d6ea-7381-4fbe-81a3-6bd4c2b858c4"
      },
      "execution_count": null,
      "outputs": [
        {
          "output_type": "stream",
          "name": "stdout",
          "text": [
            "----------------------------------------------------------------\n",
            "        Layer (type)               Output Shape         Param #\n",
            "================================================================\n",
            "            Conv2d-1         [-1, 64, 112, 112]           3,136\n",
            "       BatchNorm2d-2         [-1, 64, 112, 112]             128\n",
            "              ReLU-3         [-1, 64, 112, 112]               0\n",
            "         MaxPool2d-4           [-1, 64, 56, 56]               0\n",
            "            Conv2d-5           [-1, 64, 56, 56]          36,864\n",
            "       BatchNorm2d-6           [-1, 64, 56, 56]             128\n",
            "              ReLU-7           [-1, 64, 56, 56]               0\n",
            "            Conv2d-8           [-1, 64, 56, 56]          36,864\n",
            "       BatchNorm2d-9           [-1, 64, 56, 56]             128\n",
            "             ReLU-10           [-1, 64, 56, 56]               0\n",
            "       BasicBlock-11           [-1, 64, 56, 56]               0\n",
            "           Conv2d-12           [-1, 64, 56, 56]          36,864\n",
            "      BatchNorm2d-13           [-1, 64, 56, 56]             128\n",
            "             ReLU-14           [-1, 64, 56, 56]               0\n",
            "           Conv2d-15           [-1, 64, 56, 56]          36,864\n",
            "      BatchNorm2d-16           [-1, 64, 56, 56]             128\n",
            "             ReLU-17           [-1, 64, 56, 56]               0\n",
            "       BasicBlock-18           [-1, 64, 56, 56]               0\n",
            "           Conv2d-19          [-1, 128, 28, 28]          73,728\n",
            "      BatchNorm2d-20          [-1, 128, 28, 28]             256\n",
            "             ReLU-21          [-1, 128, 28, 28]               0\n",
            "           Conv2d-22          [-1, 128, 28, 28]         147,456\n",
            "      BatchNorm2d-23          [-1, 128, 28, 28]             256\n",
            "           Conv2d-24          [-1, 128, 28, 28]           8,192\n",
            "      BatchNorm2d-25          [-1, 128, 28, 28]             256\n",
            "             ReLU-26          [-1, 128, 28, 28]               0\n",
            "       BasicBlock-27          [-1, 128, 28, 28]               0\n",
            "           Conv2d-28          [-1, 128, 28, 28]         147,456\n",
            "      BatchNorm2d-29          [-1, 128, 28, 28]             256\n",
            "             ReLU-30          [-1, 128, 28, 28]               0\n",
            "           Conv2d-31          [-1, 128, 28, 28]         147,456\n",
            "      BatchNorm2d-32          [-1, 128, 28, 28]             256\n",
            "             ReLU-33          [-1, 128, 28, 28]               0\n",
            "       BasicBlock-34          [-1, 128, 28, 28]               0\n",
            "           Conv2d-35          [-1, 256, 14, 14]         294,912\n",
            "      BatchNorm2d-36          [-1, 256, 14, 14]             512\n",
            "             ReLU-37          [-1, 256, 14, 14]               0\n",
            "           Conv2d-38          [-1, 256, 14, 14]         589,824\n",
            "      BatchNorm2d-39          [-1, 256, 14, 14]             512\n",
            "           Conv2d-40          [-1, 256, 14, 14]          32,768\n",
            "      BatchNorm2d-41          [-1, 256, 14, 14]             512\n",
            "             ReLU-42          [-1, 256, 14, 14]               0\n",
            "       BasicBlock-43          [-1, 256, 14, 14]               0\n",
            "           Conv2d-44          [-1, 256, 14, 14]         589,824\n",
            "      BatchNorm2d-45          [-1, 256, 14, 14]             512\n",
            "             ReLU-46          [-1, 256, 14, 14]               0\n",
            "           Conv2d-47          [-1, 256, 14, 14]         589,824\n",
            "      BatchNorm2d-48          [-1, 256, 14, 14]             512\n",
            "             ReLU-49          [-1, 256, 14, 14]               0\n",
            "       BasicBlock-50          [-1, 256, 14, 14]               0\n",
            "           Conv2d-51            [-1, 512, 7, 7]       1,179,648\n",
            "      BatchNorm2d-52            [-1, 512, 7, 7]           1,024\n",
            "             ReLU-53            [-1, 512, 7, 7]               0\n",
            "           Conv2d-54            [-1, 512, 7, 7]       2,359,296\n",
            "      BatchNorm2d-55            [-1, 512, 7, 7]           1,024\n",
            "           Conv2d-56            [-1, 512, 7, 7]         131,072\n",
            "      BatchNorm2d-57            [-1, 512, 7, 7]           1,024\n",
            "             ReLU-58            [-1, 512, 7, 7]               0\n",
            "       BasicBlock-59            [-1, 512, 7, 7]               0\n",
            "           Conv2d-60            [-1, 512, 7, 7]       2,359,296\n",
            "      BatchNorm2d-61            [-1, 512, 7, 7]           1,024\n",
            "             ReLU-62            [-1, 512, 7, 7]               0\n",
            "           Conv2d-63            [-1, 512, 7, 7]       2,359,296\n",
            "      BatchNorm2d-64            [-1, 512, 7, 7]           1,024\n",
            "             ReLU-65            [-1, 512, 7, 7]               0\n",
            "       BasicBlock-66            [-1, 512, 7, 7]               0\n",
            "AdaptiveAvgPool2d-67            [-1, 512, 1, 1]               0\n",
            "           Linear-68                   [-1, 10]           5,130\n",
            "          Softmax-69                   [-1, 10]               0\n",
            "================================================================\n",
            "Total params: 11,175,370\n",
            "Trainable params: 8,266\n",
            "Non-trainable params: 11,167,104\n",
            "----------------------------------------------------------------\n",
            "Input size (MB): 0.19\n",
            "Forward/backward pass size (MB): 62.79\n",
            "Params size (MB): 42.63\n",
            "Estimated Total Size (MB): 105.61\n",
            "----------------------------------------------------------------\n"
          ]
        }
      ]
    },
    {
      "cell_type": "code",
      "source": [
        "train(resnet18_pretrained, train_loader2)"
      ],
      "metadata": {
        "colab": {
          "base_uri": "https://localhost:8080/"
        },
        "id": "CohCFpfIbcSw",
        "outputId": "6785294e-ac80-48d9-de36-29110bd5805b"
      },
      "execution_count": null,
      "outputs": [
        {
          "output_type": "stream",
          "name": "stdout",
          "text": [
            "epochs:1 / 30\n",
            "train_accuracy: 14.0\n",
            "학습하는데 걸린 시간: 0분 0초\n",
            "epochs:2 / 30\n",
            "train_accuracy: 14.0\n",
            "학습하는데 걸린 시간: 0분 0초\n",
            "epochs:3 / 30\n",
            "train_accuracy: 15.0\n",
            "학습하는데 걸린 시간: 0분 1초\n",
            "epochs:4 / 30\n",
            "train_accuracy: 16.0\n",
            "학습하는데 걸린 시간: 0분 1초\n",
            "epochs:5 / 30\n",
            "train_accuracy: 16.0\n",
            "학습하는데 걸린 시간: 0분 1초\n",
            "epochs:6 / 30\n",
            "train_accuracy: 15.0\n",
            "학습하는데 걸린 시간: 0분 2초\n",
            "epochs:7 / 30\n",
            "train_accuracy: 15.0\n",
            "학습하는데 걸린 시간: 0분 2초\n",
            "epochs:8 / 30\n",
            "train_accuracy: 15.0\n",
            "학습하는데 걸린 시간: 0분 2초\n",
            "epochs:9 / 30\n",
            "train_accuracy: 15.0\n",
            "학습하는데 걸린 시간: 0분 3초\n",
            "epochs:10 / 30\n",
            "train_accuracy: 15.0\n",
            "학습하는데 걸린 시간: 0분 3초\n",
            "epochs:11 / 30\n",
            "train_accuracy: 15.0\n",
            "학습하는데 걸린 시간: 0분 3초\n",
            "epochs:12 / 30\n",
            "train_accuracy: 15.0\n",
            "학습하는데 걸린 시간: 0분 4초\n",
            "epochs:13 / 30\n",
            "train_accuracy: 15.0\n",
            "학습하는데 걸린 시간: 0분 4초\n",
            "epochs:14 / 30\n",
            "train_accuracy: 15.0\n",
            "학습하는데 걸린 시간: 0분 4초\n",
            "epochs:15 / 30\n",
            "train_accuracy: 15.0\n",
            "학습하는데 걸린 시간: 0분 5초\n",
            "epochs:16 / 30\n",
            "train_accuracy: 15.0\n",
            "학습하는데 걸린 시간: 0분 5초\n",
            "epochs:17 / 30\n",
            "train_accuracy: 15.0\n",
            "학습하는데 걸린 시간: 0분 5초\n",
            "epochs:18 / 30\n",
            "train_accuracy: 14.0\n",
            "학습하는데 걸린 시간: 0분 6초\n",
            "epochs:19 / 30\n",
            "train_accuracy: 14.0\n",
            "학습하는데 걸린 시간: 0분 6초\n",
            "epochs:20 / 30\n",
            "train_accuracy: 14.0\n",
            "학습하는데 걸린 시간: 0분 6초\n",
            "epochs:21 / 30\n",
            "train_accuracy: 15.0\n",
            "학습하는데 걸린 시간: 0분 7초\n",
            "epochs:22 / 30\n",
            "train_accuracy: 16.0\n",
            "학습하는데 걸린 시간: 0분 7초\n",
            "epochs:23 / 30\n",
            "train_accuracy: 17.0\n",
            "학습하는데 걸린 시간: 0분 8초\n",
            "epochs:24 / 30\n",
            "train_accuracy: 19.0\n",
            "학습하는데 걸린 시간: 0분 8초\n",
            "epochs:25 / 30\n",
            "train_accuracy: 20.0\n",
            "학습하는데 걸린 시간: 0분 8초\n",
            "epochs:26 / 30\n",
            "train_accuracy: 18.0\n",
            "학습하는데 걸린 시간: 0분 9초\n",
            "epochs:27 / 30\n",
            "train_accuracy: 19.0\n",
            "학습하는데 걸린 시간: 0분 9초\n",
            "epochs:28 / 30\n",
            "train_accuracy: 18.0\n",
            "학습하는데 걸린 시간: 0분 9초\n",
            "epochs:29 / 30\n",
            "train_accuracy: 19.0\n",
            "학습하는데 걸린 시간: 0분 10초\n",
            "epochs:30 / 30\n",
            "train_accuracy: 21.0\n",
            "학습하는데 걸린 시간: 0분 10초\n"
          ]
        }
      ]
    },
    {
      "cell_type": "markdown",
      "source": [
        "# Fine Tuning"
      ],
      "metadata": {
        "id": "fCG2oYTyb3aG"
      }
    },
    {
      "cell_type": "code",
      "source": [
        "resnet18_pretrained = models.resnet18(pretrained=True)\n",
        "resnet18_pretrained.to(device)\n",
        "\n",
        "# freeze\n",
        "# for param in resnet18_pretrained.parameters():\n",
        "#   param.requires_grad = False\n",
        "# 뒤쪽에 FC 레이어를 변경\n",
        "resnet18_pretrained.fc = nn.Sequential(\n",
        "    nn.Linear(512,10),\n",
        "    nn.Softmax()\n",
        ")\n",
        "resnet18_pretrained.conv1 = nn.Conv2d(in_channels=1, out_channels=64,\n",
        "                                      kernel_size=(7,7),\n",
        "                                      stride=(2,2),\n",
        "                                      padding=(3,3),\n",
        "                                      bias=False)\n",
        "resnet18_pretrained.to(device)"
      ],
      "metadata": {
        "colab": {
          "base_uri": "https://localhost:8080/"
        },
        "id": "OSleVR-Cbl2X",
        "outputId": "b9b67edd-4449-474e-ab96-1321eb4aff38"
      },
      "execution_count": null,
      "outputs": [
        {
          "output_type": "stream",
          "name": "stderr",
          "text": [
            "/usr/local/lib/python3.9/dist-packages/torchvision/models/_utils.py:208: UserWarning: The parameter 'pretrained' is deprecated since 0.13 and may be removed in the future, please use 'weights' instead.\n",
            "  warnings.warn(\n",
            "/usr/local/lib/python3.9/dist-packages/torchvision/models/_utils.py:223: UserWarning: Arguments other than a weight enum or `None` for 'weights' are deprecated since 0.13 and may be removed in the future. The current behavior is equivalent to passing `weights=ResNet18_Weights.IMAGENET1K_V1`. You can also use `weights=ResNet18_Weights.DEFAULT` to get the most up-to-date weights.\n",
            "  warnings.warn(msg)\n"
          ]
        },
        {
          "output_type": "execute_result",
          "data": {
            "text/plain": [
              "ResNet(\n",
              "  (conv1): Conv2d(1, 64, kernel_size=(7, 7), stride=(2, 2), padding=(3, 3), bias=False)\n",
              "  (bn1): BatchNorm2d(64, eps=1e-05, momentum=0.1, affine=True, track_running_stats=True)\n",
              "  (relu): ReLU(inplace=True)\n",
              "  (maxpool): MaxPool2d(kernel_size=3, stride=2, padding=1, dilation=1, ceil_mode=False)\n",
              "  (layer1): Sequential(\n",
              "    (0): BasicBlock(\n",
              "      (conv1): Conv2d(64, 64, kernel_size=(3, 3), stride=(1, 1), padding=(1, 1), bias=False)\n",
              "      (bn1): BatchNorm2d(64, eps=1e-05, momentum=0.1, affine=True, track_running_stats=True)\n",
              "      (relu): ReLU(inplace=True)\n",
              "      (conv2): Conv2d(64, 64, kernel_size=(3, 3), stride=(1, 1), padding=(1, 1), bias=False)\n",
              "      (bn2): BatchNorm2d(64, eps=1e-05, momentum=0.1, affine=True, track_running_stats=True)\n",
              "    )\n",
              "    (1): BasicBlock(\n",
              "      (conv1): Conv2d(64, 64, kernel_size=(3, 3), stride=(1, 1), padding=(1, 1), bias=False)\n",
              "      (bn1): BatchNorm2d(64, eps=1e-05, momentum=0.1, affine=True, track_running_stats=True)\n",
              "      (relu): ReLU(inplace=True)\n",
              "      (conv2): Conv2d(64, 64, kernel_size=(3, 3), stride=(1, 1), padding=(1, 1), bias=False)\n",
              "      (bn2): BatchNorm2d(64, eps=1e-05, momentum=0.1, affine=True, track_running_stats=True)\n",
              "    )\n",
              "  )\n",
              "  (layer2): Sequential(\n",
              "    (0): BasicBlock(\n",
              "      (conv1): Conv2d(64, 128, kernel_size=(3, 3), stride=(2, 2), padding=(1, 1), bias=False)\n",
              "      (bn1): BatchNorm2d(128, eps=1e-05, momentum=0.1, affine=True, track_running_stats=True)\n",
              "      (relu): ReLU(inplace=True)\n",
              "      (conv2): Conv2d(128, 128, kernel_size=(3, 3), stride=(1, 1), padding=(1, 1), bias=False)\n",
              "      (bn2): BatchNorm2d(128, eps=1e-05, momentum=0.1, affine=True, track_running_stats=True)\n",
              "      (downsample): Sequential(\n",
              "        (0): Conv2d(64, 128, kernel_size=(1, 1), stride=(2, 2), bias=False)\n",
              "        (1): BatchNorm2d(128, eps=1e-05, momentum=0.1, affine=True, track_running_stats=True)\n",
              "      )\n",
              "    )\n",
              "    (1): BasicBlock(\n",
              "      (conv1): Conv2d(128, 128, kernel_size=(3, 3), stride=(1, 1), padding=(1, 1), bias=False)\n",
              "      (bn1): BatchNorm2d(128, eps=1e-05, momentum=0.1, affine=True, track_running_stats=True)\n",
              "      (relu): ReLU(inplace=True)\n",
              "      (conv2): Conv2d(128, 128, kernel_size=(3, 3), stride=(1, 1), padding=(1, 1), bias=False)\n",
              "      (bn2): BatchNorm2d(128, eps=1e-05, momentum=0.1, affine=True, track_running_stats=True)\n",
              "    )\n",
              "  )\n",
              "  (layer3): Sequential(\n",
              "    (0): BasicBlock(\n",
              "      (conv1): Conv2d(128, 256, kernel_size=(3, 3), stride=(2, 2), padding=(1, 1), bias=False)\n",
              "      (bn1): BatchNorm2d(256, eps=1e-05, momentum=0.1, affine=True, track_running_stats=True)\n",
              "      (relu): ReLU(inplace=True)\n",
              "      (conv2): Conv2d(256, 256, kernel_size=(3, 3), stride=(1, 1), padding=(1, 1), bias=False)\n",
              "      (bn2): BatchNorm2d(256, eps=1e-05, momentum=0.1, affine=True, track_running_stats=True)\n",
              "      (downsample): Sequential(\n",
              "        (0): Conv2d(128, 256, kernel_size=(1, 1), stride=(2, 2), bias=False)\n",
              "        (1): BatchNorm2d(256, eps=1e-05, momentum=0.1, affine=True, track_running_stats=True)\n",
              "      )\n",
              "    )\n",
              "    (1): BasicBlock(\n",
              "      (conv1): Conv2d(256, 256, kernel_size=(3, 3), stride=(1, 1), padding=(1, 1), bias=False)\n",
              "      (bn1): BatchNorm2d(256, eps=1e-05, momentum=0.1, affine=True, track_running_stats=True)\n",
              "      (relu): ReLU(inplace=True)\n",
              "      (conv2): Conv2d(256, 256, kernel_size=(3, 3), stride=(1, 1), padding=(1, 1), bias=False)\n",
              "      (bn2): BatchNorm2d(256, eps=1e-05, momentum=0.1, affine=True, track_running_stats=True)\n",
              "    )\n",
              "  )\n",
              "  (layer4): Sequential(\n",
              "    (0): BasicBlock(\n",
              "      (conv1): Conv2d(256, 512, kernel_size=(3, 3), stride=(2, 2), padding=(1, 1), bias=False)\n",
              "      (bn1): BatchNorm2d(512, eps=1e-05, momentum=0.1, affine=True, track_running_stats=True)\n",
              "      (relu): ReLU(inplace=True)\n",
              "      (conv2): Conv2d(512, 512, kernel_size=(3, 3), stride=(1, 1), padding=(1, 1), bias=False)\n",
              "      (bn2): BatchNorm2d(512, eps=1e-05, momentum=0.1, affine=True, track_running_stats=True)\n",
              "      (downsample): Sequential(\n",
              "        (0): Conv2d(256, 512, kernel_size=(1, 1), stride=(2, 2), bias=False)\n",
              "        (1): BatchNorm2d(512, eps=1e-05, momentum=0.1, affine=True, track_running_stats=True)\n",
              "      )\n",
              "    )\n",
              "    (1): BasicBlock(\n",
              "      (conv1): Conv2d(512, 512, kernel_size=(3, 3), stride=(1, 1), padding=(1, 1), bias=False)\n",
              "      (bn1): BatchNorm2d(512, eps=1e-05, momentum=0.1, affine=True, track_running_stats=True)\n",
              "      (relu): ReLU(inplace=True)\n",
              "      (conv2): Conv2d(512, 512, kernel_size=(3, 3), stride=(1, 1), padding=(1, 1), bias=False)\n",
              "      (bn2): BatchNorm2d(512, eps=1e-05, momentum=0.1, affine=True, track_running_stats=True)\n",
              "    )\n",
              "  )\n",
              "  (avgpool): AdaptiveAvgPool2d(output_size=(1, 1))\n",
              "  (fc): Sequential(\n",
              "    (0): Linear(in_features=512, out_features=10, bias=True)\n",
              "    (1): Softmax(dim=None)\n",
              "  )\n",
              ")"
            ]
          },
          "metadata": {},
          "execution_count": 112
        }
      ]
    },
    {
      "cell_type": "code",
      "source": [
        "train(resnet18_pretrained, train_loader2)"
      ],
      "metadata": {
        "colab": {
          "base_uri": "https://localhost:8080/"
        },
        "id": "Tfy7knh_cOfj",
        "outputId": "b585dfa3-80c2-4d9f-e525-167a44a83c73"
      },
      "execution_count": null,
      "outputs": [
        {
          "output_type": "stream",
          "name": "stdout",
          "text": [
            "epochs:1 / 30\n",
            "train_accuracy: 18.30000114440918\n",
            "학습하는데 걸린 시간: 0분 3초\n",
            "epochs:2 / 30\n",
            "train_accuracy: 18.200000762939453\n",
            "학습하는데 걸린 시간: 0분 7초\n",
            "epochs:3 / 30\n",
            "train_accuracy: 31.900001525878906\n",
            "학습하는데 걸린 시간: 0분 11초\n",
            "epochs:4 / 30\n",
            "train_accuracy: 46.80000305175781\n",
            "학습하는데 걸린 시간: 0분 14초\n",
            "epochs:5 / 30\n",
            "train_accuracy: 52.10000228881836\n",
            "학습하는데 걸린 시간: 0분 18초\n",
            "epochs:6 / 30\n",
            "train_accuracy: 57.80000305175781\n",
            "학습하는데 걸린 시간: 0분 22초\n",
            "epochs:7 / 30\n",
            "train_accuracy: 77.80000305175781\n",
            "학습하는데 걸린 시간: 0분 26초\n",
            "epochs:8 / 30\n",
            "train_accuracy: 93.10000610351562\n",
            "학습하는데 걸린 시간: 0분 29초\n",
            "epochs:9 / 30\n",
            "train_accuracy: 97.4000015258789\n",
            "학습하는데 걸린 시간: 0분 33초\n",
            "epochs:10 / 30\n",
            "train_accuracy: 98.80000305175781\n",
            "학습하는데 걸린 시간: 0분 37초\n",
            "epochs:11 / 30\n",
            "train_accuracy: 99.30000305175781\n",
            "학습하는데 걸린 시간: 0분 40초\n",
            "epochs:12 / 30\n",
            "train_accuracy: 99.4000015258789\n",
            "학습하는데 걸린 시간: 0분 44초\n",
            "epochs:13 / 30\n",
            "train_accuracy: 99.60000610351562\n",
            "학습하는데 걸린 시간: 0분 48초\n",
            "epochs:14 / 30\n",
            "train_accuracy: 99.70000457763672\n",
            "학습하는데 걸린 시간: 0분 51초\n",
            "epochs:15 / 30\n",
            "train_accuracy: 99.70000457763672\n",
            "학습하는데 걸린 시간: 0분 55초\n",
            "epochs:16 / 30\n",
            "train_accuracy: 99.80000305175781\n",
            "학습하는데 걸린 시간: 0분 59초\n",
            "epochs:17 / 30\n",
            "train_accuracy: 99.80000305175781\n",
            "학습하는데 걸린 시간: 1분 3초\n",
            "epochs:18 / 30\n",
            "train_accuracy: 99.80000305175781\n",
            "학습하는데 걸린 시간: 1분 6초\n",
            "epochs:19 / 30\n",
            "train_accuracy: 99.80000305175781\n",
            "학습하는데 걸린 시간: 1분 10초\n",
            "epochs:20 / 30\n",
            "train_accuracy: 99.80000305175781\n",
            "학습하는데 걸린 시간: 1분 14초\n",
            "epochs:21 / 30\n",
            "train_accuracy: 99.80000305175781\n",
            "학습하는데 걸린 시간: 1분 17초\n",
            "epochs:22 / 30\n",
            "train_accuracy: 99.80000305175781\n",
            "학습하는데 걸린 시간: 1분 21초\n",
            "epochs:23 / 30\n",
            "train_accuracy: 99.80000305175781\n",
            "학습하는데 걸린 시간: 1분 25초\n",
            "epochs:24 / 30\n",
            "train_accuracy: 99.80000305175781\n",
            "학습하는데 걸린 시간: 1분 28초\n",
            "epochs:25 / 30\n",
            "train_accuracy: 99.80000305175781\n",
            "학습하는데 걸린 시간: 1분 32초\n",
            "epochs:26 / 30\n",
            "train_accuracy: 99.80000305175781\n",
            "학습하는데 걸린 시간: 1분 36초\n",
            "epochs:27 / 30\n",
            "train_accuracy: 99.80000305175781\n",
            "학습하는데 걸린 시간: 1분 39초\n",
            "epochs:28 / 30\n",
            "train_accuracy: 99.80000305175781\n",
            "학습하는데 걸린 시간: 1분 43초\n",
            "epochs:29 / 30\n",
            "train_accuracy: 99.80000305175781\n",
            "학습하는데 걸린 시간: 1분 47초\n",
            "epochs:30 / 30\n",
            "train_accuracy: 99.80000305175781\n",
            "학습하는데 걸린 시간: 1분 51초\n"
          ]
        }
      ]
    },
    {
      "cell_type": "code",
      "source": [
        "test(resnet18_pretrained, test_loader)"
      ],
      "metadata": {
        "colab": {
          "base_uri": "https://localhost:8080/"
        },
        "id": "kfuwBQ9hcXDt",
        "outputId": "416663a9-33f2-4726-9c5b-9ddcc470c926"
      },
      "execution_count": null,
      "outputs": [
        {
          "output_type": "stream",
          "name": "stdout",
          "text": [
            "test accuracy: 84.93000030517578\n"
          ]
        }
      ]
    },
    {
      "cell_type": "code",
      "source": [
        "summary(resnet18_pretrained, input_size=(1,224,224))"
      ],
      "metadata": {
        "colab": {
          "base_uri": "https://localhost:8080/"
        },
        "id": "FEi0_0Mcce-2",
        "outputId": "216a344b-9a19-4e16-c0b4-db69ed43aad2"
      },
      "execution_count": null,
      "outputs": [
        {
          "output_type": "stream",
          "name": "stdout",
          "text": [
            "----------------------------------------------------------------\n",
            "        Layer (type)               Output Shape         Param #\n",
            "================================================================\n",
            "            Conv2d-1         [-1, 64, 112, 112]           3,136\n",
            "       BatchNorm2d-2         [-1, 64, 112, 112]             128\n",
            "              ReLU-3         [-1, 64, 112, 112]               0\n",
            "         MaxPool2d-4           [-1, 64, 56, 56]               0\n",
            "            Conv2d-5           [-1, 64, 56, 56]          36,864\n",
            "       BatchNorm2d-6           [-1, 64, 56, 56]             128\n",
            "              ReLU-7           [-1, 64, 56, 56]               0\n",
            "            Conv2d-8           [-1, 64, 56, 56]          36,864\n",
            "       BatchNorm2d-9           [-1, 64, 56, 56]             128\n",
            "             ReLU-10           [-1, 64, 56, 56]               0\n",
            "       BasicBlock-11           [-1, 64, 56, 56]               0\n",
            "           Conv2d-12           [-1, 64, 56, 56]          36,864\n",
            "      BatchNorm2d-13           [-1, 64, 56, 56]             128\n",
            "             ReLU-14           [-1, 64, 56, 56]               0\n",
            "           Conv2d-15           [-1, 64, 56, 56]          36,864\n",
            "      BatchNorm2d-16           [-1, 64, 56, 56]             128\n",
            "             ReLU-17           [-1, 64, 56, 56]               0\n",
            "       BasicBlock-18           [-1, 64, 56, 56]               0\n",
            "           Conv2d-19          [-1, 128, 28, 28]          73,728\n",
            "      BatchNorm2d-20          [-1, 128, 28, 28]             256\n",
            "             ReLU-21          [-1, 128, 28, 28]               0\n",
            "           Conv2d-22          [-1, 128, 28, 28]         147,456\n",
            "      BatchNorm2d-23          [-1, 128, 28, 28]             256\n",
            "           Conv2d-24          [-1, 128, 28, 28]           8,192\n",
            "      BatchNorm2d-25          [-1, 128, 28, 28]             256\n",
            "             ReLU-26          [-1, 128, 28, 28]               0\n",
            "       BasicBlock-27          [-1, 128, 28, 28]               0\n",
            "           Conv2d-28          [-1, 128, 28, 28]         147,456\n",
            "      BatchNorm2d-29          [-1, 128, 28, 28]             256\n",
            "             ReLU-30          [-1, 128, 28, 28]               0\n",
            "           Conv2d-31          [-1, 128, 28, 28]         147,456\n",
            "      BatchNorm2d-32          [-1, 128, 28, 28]             256\n",
            "             ReLU-33          [-1, 128, 28, 28]               0\n",
            "       BasicBlock-34          [-1, 128, 28, 28]               0\n",
            "           Conv2d-35          [-1, 256, 14, 14]         294,912\n",
            "      BatchNorm2d-36          [-1, 256, 14, 14]             512\n",
            "             ReLU-37          [-1, 256, 14, 14]               0\n",
            "           Conv2d-38          [-1, 256, 14, 14]         589,824\n",
            "      BatchNorm2d-39          [-1, 256, 14, 14]             512\n",
            "           Conv2d-40          [-1, 256, 14, 14]          32,768\n",
            "      BatchNorm2d-41          [-1, 256, 14, 14]             512\n",
            "             ReLU-42          [-1, 256, 14, 14]               0\n",
            "       BasicBlock-43          [-1, 256, 14, 14]               0\n",
            "           Conv2d-44          [-1, 256, 14, 14]         589,824\n",
            "      BatchNorm2d-45          [-1, 256, 14, 14]             512\n",
            "             ReLU-46          [-1, 256, 14, 14]               0\n",
            "           Conv2d-47          [-1, 256, 14, 14]         589,824\n",
            "      BatchNorm2d-48          [-1, 256, 14, 14]             512\n",
            "             ReLU-49          [-1, 256, 14, 14]               0\n",
            "       BasicBlock-50          [-1, 256, 14, 14]               0\n",
            "           Conv2d-51            [-1, 512, 7, 7]       1,179,648\n",
            "      BatchNorm2d-52            [-1, 512, 7, 7]           1,024\n",
            "             ReLU-53            [-1, 512, 7, 7]               0\n",
            "           Conv2d-54            [-1, 512, 7, 7]       2,359,296\n",
            "      BatchNorm2d-55            [-1, 512, 7, 7]           1,024\n",
            "           Conv2d-56            [-1, 512, 7, 7]         131,072\n",
            "      BatchNorm2d-57            [-1, 512, 7, 7]           1,024\n",
            "             ReLU-58            [-1, 512, 7, 7]               0\n",
            "       BasicBlock-59            [-1, 512, 7, 7]               0\n",
            "           Conv2d-60            [-1, 512, 7, 7]       2,359,296\n",
            "      BatchNorm2d-61            [-1, 512, 7, 7]           1,024\n",
            "             ReLU-62            [-1, 512, 7, 7]               0\n",
            "           Conv2d-63            [-1, 512, 7, 7]       2,359,296\n",
            "      BatchNorm2d-64            [-1, 512, 7, 7]           1,024\n",
            "             ReLU-65            [-1, 512, 7, 7]               0\n",
            "       BasicBlock-66            [-1, 512, 7, 7]               0\n",
            "AdaptiveAvgPool2d-67            [-1, 512, 1, 1]               0\n",
            "           Linear-68                   [-1, 10]           5,130\n",
            "          Softmax-69                   [-1, 10]               0\n",
            "================================================================\n",
            "Total params: 11,175,370\n",
            "Trainable params: 11,175,370\n",
            "Non-trainable params: 0\n",
            "----------------------------------------------------------------\n",
            "Input size (MB): 0.19\n",
            "Forward/backward pass size (MB): 62.79\n",
            "Params size (MB): 42.63\n",
            "Estimated Total Size (MB): 105.61\n",
            "----------------------------------------------------------------\n"
          ]
        },
        {
          "output_type": "stream",
          "name": "stderr",
          "text": [
            "/usr/local/lib/python3.9/dist-packages/torch/nn/modules/container.py:217: UserWarning: Implicit dimension choice for softmax has been deprecated. Change the call to include dim=X as an argument.\n",
            "  input = module(input)\n"
          ]
        }
      ]
    },
    {
      "cell_type": "code",
      "source": [],
      "metadata": {
        "id": "beBX8CD9dbf8"
      },
      "execution_count": null,
      "outputs": []
    }
  ]
}